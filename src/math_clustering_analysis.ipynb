{
  "nbformat": 4,
  "nbformat_minor": 0,
  "metadata": {
    "colab": {
      "name": "데이터분석및활용_github.ipynb",
      "provenance": [],
      "collapsed_sections": []
    },
    "kernelspec": {
      "name": "python3",
      "display_name": "Python 3"
    },
    "language_info": {
      "name": "python"
    }
  },
  "cells": [
    {
      "cell_type": "markdown",
      "source": [
        "데이터분석및활용 9조 \n",
        "1912023 이예림\n",
        "1816105 박은지\n",
        "1811085 최소원"
      ],
      "metadata": {
        "id": "lX3v5j4_O1wL"
      }
    },
    {
      "cell_type": "markdown",
      "source": [
        "#**1 데이터 전처리**"
      ],
      "metadata": {
        "id": "NlzxLdLQFO4b"
      }
    },
    {
      "cell_type": "markdown",
      "source": [
        "##1-1 드라이브 마운트"
      ],
      "metadata": {
        "id": "QnycIxE7g1V3"
      }
    },
    {
      "cell_type": "code",
      "metadata": {
        "colab": {
          "base_uri": "https://localhost:8080/"
        },
        "id": "kMjwN9rRv-3b",
        "outputId": "f8e45bbd-1dca-4e8e-bad5-64da3f432376"
      },
      "source": [
        "from google.colab import drive\n",
        "drive.mount('/content/drive')"
      ],
      "execution_count": null,
      "outputs": [
        {
          "output_type": "stream",
          "name": "stdout",
          "text": [
            "Mounted at /content/drive\n"
          ]
        }
      ]
    },
    {
      "cell_type": "markdown",
      "source": [
        "##1-2 데이터 압축 풀기"
      ],
      "metadata": {
        "id": "cluO2kDdiU-I"
      }
    },
    {
      "cell_type": "code",
      "metadata": {
        "id": "SHR0xHbj2DI_"
      },
      "source": [
        "import json\n",
        "import os\n",
        "import pandas as pd\n",
        "import numpy as np\n",
        "import base64\n",
        "\n",
        "#! unzip /content/drive/Shareddrives/데이터분석및활용\"(21-2)\"/수학분야\" \"학습자\" \"역량\" \"측정\" \"데이터/Training/성취수준데이터셋_train.zip -d /content/train \n",
        "#! unzip /content/drive/Shareddrives/데이터분석및활용\"(21-2)\"/수학분야\" \"학습자\" \"역량\" \"측정\" \"데이터/Validation/성취수준데이터셋_valid.zip -d /content/valid\n"
      ],
      "execution_count": null,
      "outputs": []
    },
    {
      "cell_type": "markdown",
      "source": [
        "##1-3 문항정오답표, 문항IRT, 응시자IRT dataset 전처리\n"
      ],
      "metadata": {
        "id": "81CxaVS-8uvJ"
      }
    },
    {
      "cell_type": "markdown",
      "source": [
        "###1-3-1 JSON Parsing\n",
        "1) 각각 데이터의 train, valid dataset 합병후 파싱\n",
        "\n",
        "2) dataframe으로 변환(.csv형식으로 저장)"
      ],
      "metadata": {
        "id": "J2Cv4yE99gMo"
      }
    },
    {
      "cell_type": "code",
      "source": [
        "# JSON형식을 DataFrame으로 변환하는 함수\n",
        "def parse_json_to_df(list) -> pd.DataFrame: \n",
        "    i = 0\n",
        "    df_dict = {}\n",
        "    for d in list:\n",
        "      df_dict[i] = d;\n",
        "      i += 1;\n",
        "    df = pd.DataFrame.from_dict(df_dict, orient=\"index\")\n",
        "    return df"
      ],
      "metadata": {
        "id": "o_if3p7_Rs4T"
      },
      "execution_count": null,
      "outputs": []
    },
    {
      "cell_type": "code",
      "metadata": {
        "id": "GDzQJqXi3_Qc"
      },
      "source": [
        "# 데이터 프레임 생성작업\n",
        "correct=[] \n",
        "question = []\n",
        "student = []\n",
        "\n",
        "name={'1_문항정오답표': correct, '2_문항IRT': question, '3_응시자IRT': student}\n",
        "name_key_list = list(name.keys())\n",
        "\n",
        "grades=[7,8,9] # 7학년(중1) ~ 9학년(중3)\n",
        "folders = ['train', 'valid'] # 기존 데이터 train, valid로 분리되어있음\n",
        "\n",
        "\n",
        "# 데이터 프레임 생성함수\n",
        "def make_frame(name_key): \n",
        "   for grade in grades:\n",
        "     contents = []\n",
        "     for folder in folders:\n",
        "       file_num = len(os.listdir(f'/content/{folder}/{grade}학년'))\n",
        "       for i in range(file_num):\n",
        "         path = f'/content/{folder}/{grade}학년/실력평가{str(i+1).zfill(3)}/{name_key}'\n",
        "         file_list = os.listdir(path)\n",
        "         for file in file_list:\n",
        "           with open(f\"{path}/{file}\",'r', encoding='utf-8') as json_file:\n",
        "             json_data = json.load(json_file)\n",
        "             contents.append(json_data)\n",
        "     grade_frame = parse_json_to_df(contents)\n",
        "     name[name_key].append(grade_frame)"
      ],
      "execution_count": null,
      "outputs": []
    },
    {
      "cell_type": "code",
      "metadata": {
        "id": "loA924Em4lh6"
      },
      "source": [
        "# 문항정오답표, 문항IRT, 응시자IRT 데이터 프레임 만들기\n",
        "for key in name_key_list:\n",
        "  make_frame(key) # 함수 호출"
      ],
      "execution_count": null,
      "outputs": []
    },
    {
      "cell_type": "code",
      "metadata": {
        "colab": {
          "base_uri": "https://localhost:8080/",
          "height": 835
        },
        "id": "ep9F6bG5Mm0E",
        "outputId": "90417b40-25cd-4244-e294-0550e9f95d77"
      },
      "source": [
        "correct[0] # 7학년 문항정오답표"
      ],
      "execution_count": null,
      "outputs": [
        {
          "output_type": "execute_result",
          "data": {
            "text/html": [
              "\n",
              "  <div id=\"df-3f397295-1d2c-44c3-ad3f-451eaf913d0b\">\n",
              "    <div class=\"colab-df-container\">\n",
              "      <div>\n",
              "<style scoped>\n",
              "    .dataframe tbody tr th:only-of-type {\n",
              "        vertical-align: middle;\n",
              "    }\n",
              "\n",
              "    .dataframe tbody tr th {\n",
              "        vertical-align: top;\n",
              "    }\n",
              "\n",
              "    .dataframe thead th {\n",
              "        text-align: right;\n",
              "    }\n",
              "</style>\n",
              "<table border=\"1\" class=\"dataframe\">\n",
              "  <thead>\n",
              "    <tr style=\"text-align: right;\">\n",
              "      <th></th>\n",
              "      <th>learnerID</th>\n",
              "      <th>learnerProfile</th>\n",
              "      <th>testID</th>\n",
              "      <th>assessmentItemID</th>\n",
              "      <th>answerCode</th>\n",
              "      <th>Timestamp</th>\n",
              "    </tr>\n",
              "  </thead>\n",
              "  <tbody>\n",
              "    <tr>\n",
              "      <th>0</th>\n",
              "      <td>A070000196</td>\n",
              "      <td>M;S01;7</td>\n",
              "      <td>A070000001</td>\n",
              "      <td>A070001008</td>\n",
              "      <td>1</td>\n",
              "      <td>2020-01-10 21:25:52</td>\n",
              "    </tr>\n",
              "    <tr>\n",
              "      <th>1</th>\n",
              "      <td>A070000059</td>\n",
              "      <td>M;S01;7</td>\n",
              "      <td>A070000001</td>\n",
              "      <td>A070001005</td>\n",
              "      <td>0</td>\n",
              "      <td>2020-05-23 08:20:39</td>\n",
              "    </tr>\n",
              "    <tr>\n",
              "      <th>2</th>\n",
              "      <td>A070000167</td>\n",
              "      <td>M;S01;7</td>\n",
              "      <td>A070000001</td>\n",
              "      <td>A070001009</td>\n",
              "      <td>0</td>\n",
              "      <td>2020-04-17 16:23:19</td>\n",
              "    </tr>\n",
              "    <tr>\n",
              "      <th>3</th>\n",
              "      <td>A070000181</td>\n",
              "      <td>M;S01;7</td>\n",
              "      <td>A070000001</td>\n",
              "      <td>A070001001</td>\n",
              "      <td>1</td>\n",
              "      <td>2020-01-08 18:54:29</td>\n",
              "    </tr>\n",
              "    <tr>\n",
              "      <th>4</th>\n",
              "      <td>A070000323</td>\n",
              "      <td>M;S01;7</td>\n",
              "      <td>A070000001</td>\n",
              "      <td>A070001006</td>\n",
              "      <td>0</td>\n",
              "      <td>2020-02-29 02:26:58</td>\n",
              "    </tr>\n",
              "    <tr>\n",
              "      <th>...</th>\n",
              "      <td>...</td>\n",
              "      <td>...</td>\n",
              "      <td>...</td>\n",
              "      <td>...</td>\n",
              "      <td>...</td>\n",
              "      <td>...</td>\n",
              "    </tr>\n",
              "    <tr>\n",
              "      <th>253589</th>\n",
              "      <td>A070001416</td>\n",
              "      <td>M;S01;7</td>\n",
              "      <td>A070000164</td>\n",
              "      <td>A070164008</td>\n",
              "      <td>1</td>\n",
              "      <td>2020-12-22 01:41:51</td>\n",
              "    </tr>\n",
              "    <tr>\n",
              "      <th>253590</th>\n",
              "      <td>A070001482</td>\n",
              "      <td>M;S01;7</td>\n",
              "      <td>A070000164</td>\n",
              "      <td>A070164002</td>\n",
              "      <td>0</td>\n",
              "      <td>2020-12-10 08:05:15</td>\n",
              "    </tr>\n",
              "    <tr>\n",
              "      <th>253591</th>\n",
              "      <td>A070001482</td>\n",
              "      <td>M;S01;7</td>\n",
              "      <td>A070000164</td>\n",
              "      <td>A070164004</td>\n",
              "      <td>0</td>\n",
              "      <td>2020-12-10 08:05:20</td>\n",
              "    </tr>\n",
              "    <tr>\n",
              "      <th>253592</th>\n",
              "      <td>A070001416</td>\n",
              "      <td>M;S01;7</td>\n",
              "      <td>A070000164</td>\n",
              "      <td>A070164007</td>\n",
              "      <td>1</td>\n",
              "      <td>2020-12-22 01:39:42</td>\n",
              "    </tr>\n",
              "    <tr>\n",
              "      <th>253593</th>\n",
              "      <td>A070001416</td>\n",
              "      <td>M;S01;7</td>\n",
              "      <td>A070000164</td>\n",
              "      <td>A070164004</td>\n",
              "      <td>1</td>\n",
              "      <td>2020-12-22 01:29:45</td>\n",
              "    </tr>\n",
              "  </tbody>\n",
              "</table>\n",
              "<p>253594 rows × 6 columns</p>\n",
              "</div>\n",
              "      <button class=\"colab-df-convert\" onclick=\"convertToInteractive('df-3f397295-1d2c-44c3-ad3f-451eaf913d0b')\"\n",
              "              title=\"Convert this dataframe to an interactive table.\"\n",
              "              style=\"display:none;\">\n",
              "        \n",
              "  <svg xmlns=\"http://www.w3.org/2000/svg\" height=\"24px\"viewBox=\"0 0 24 24\"\n",
              "       width=\"24px\">\n",
              "    <path d=\"M0 0h24v24H0V0z\" fill=\"none\"/>\n",
              "    <path d=\"M18.56 5.44l.94 2.06.94-2.06 2.06-.94-2.06-.94-.94-2.06-.94 2.06-2.06.94zm-11 1L8.5 8.5l.94-2.06 2.06-.94-2.06-.94L8.5 2.5l-.94 2.06-2.06.94zm10 10l.94 2.06.94-2.06 2.06-.94-2.06-.94-.94-2.06-.94 2.06-2.06.94z\"/><path d=\"M17.41 7.96l-1.37-1.37c-.4-.4-.92-.59-1.43-.59-.52 0-1.04.2-1.43.59L10.3 9.45l-7.72 7.72c-.78.78-.78 2.05 0 2.83L4 21.41c.39.39.9.59 1.41.59.51 0 1.02-.2 1.41-.59l7.78-7.78 2.81-2.81c.8-.78.8-2.07 0-2.86zM5.41 20L4 18.59l7.72-7.72 1.47 1.35L5.41 20z\"/>\n",
              "  </svg>\n",
              "      </button>\n",
              "      \n",
              "  <style>\n",
              "    .colab-df-container {\n",
              "      display:flex;\n",
              "      flex-wrap:wrap;\n",
              "      gap: 12px;\n",
              "    }\n",
              "\n",
              "    .colab-df-convert {\n",
              "      background-color: #E8F0FE;\n",
              "      border: none;\n",
              "      border-radius: 50%;\n",
              "      cursor: pointer;\n",
              "      display: none;\n",
              "      fill: #1967D2;\n",
              "      height: 32px;\n",
              "      padding: 0 0 0 0;\n",
              "      width: 32px;\n",
              "    }\n",
              "\n",
              "    .colab-df-convert:hover {\n",
              "      background-color: #E2EBFA;\n",
              "      box-shadow: 0px 1px 2px rgba(60, 64, 67, 0.3), 0px 1px 3px 1px rgba(60, 64, 67, 0.15);\n",
              "      fill: #174EA6;\n",
              "    }\n",
              "\n",
              "    [theme=dark] .colab-df-convert {\n",
              "      background-color: #3B4455;\n",
              "      fill: #D2E3FC;\n",
              "    }\n",
              "\n",
              "    [theme=dark] .colab-df-convert:hover {\n",
              "      background-color: #434B5C;\n",
              "      box-shadow: 0px 1px 3px 1px rgba(0, 0, 0, 0.15);\n",
              "      filter: drop-shadow(0px 1px 2px rgba(0, 0, 0, 0.3));\n",
              "      fill: #FFFFFF;\n",
              "    }\n",
              "  </style>\n",
              "\n",
              "      <script>\n",
              "        const buttonEl =\n",
              "          document.querySelector('#df-3f397295-1d2c-44c3-ad3f-451eaf913d0b button.colab-df-convert');\n",
              "        buttonEl.style.display =\n",
              "          google.colab.kernel.accessAllowed ? 'block' : 'none';\n",
              "\n",
              "        async function convertToInteractive(key) {\n",
              "          const element = document.querySelector('#df-3f397295-1d2c-44c3-ad3f-451eaf913d0b');\n",
              "          const dataTable =\n",
              "            await google.colab.kernel.invokeFunction('convertToInteractive',\n",
              "                                                     [key], {});\n",
              "          if (!dataTable) return;\n",
              "\n",
              "          const docLinkHtml = 'Like what you see? Visit the ' +\n",
              "            '<a target=\"_blank\" href=https://colab.research.google.com/notebooks/data_table.ipynb>data table notebook</a>'\n",
              "            + ' to learn more about interactive tables.';\n",
              "          element.innerHTML = '';\n",
              "          dataTable['output_type'] = 'display_data';\n",
              "          await google.colab.output.renderOutput(dataTable, element);\n",
              "          const docLink = document.createElement('div');\n",
              "          docLink.innerHTML = docLinkHtml;\n",
              "          element.appendChild(docLink);\n",
              "        }\n",
              "      </script>\n",
              "    </div>\n",
              "  </div>\n",
              "  "
            ],
            "text/plain": [
              "         learnerID learnerProfile  ... answerCode            Timestamp\n",
              "0       A070000196        M;S01;7  ...          1  2020-01-10 21:25:52\n",
              "1       A070000059        M;S01;7  ...          0  2020-05-23 08:20:39\n",
              "2       A070000167        M;S01;7  ...          0  2020-04-17 16:23:19\n",
              "3       A070000181        M;S01;7  ...          1  2020-01-08 18:54:29\n",
              "4       A070000323        M;S01;7  ...          0  2020-02-29 02:26:58\n",
              "...            ...            ...  ...        ...                  ...\n",
              "253589  A070001416        M;S01;7  ...          1  2020-12-22 01:41:51\n",
              "253590  A070001482        M;S01;7  ...          0  2020-12-10 08:05:15\n",
              "253591  A070001482        M;S01;7  ...          0  2020-12-10 08:05:20\n",
              "253592  A070001416        M;S01;7  ...          1  2020-12-22 01:39:42\n",
              "253593  A070001416        M;S01;7  ...          1  2020-12-22 01:29:45\n",
              "\n",
              "[253594 rows x 6 columns]"
            ]
          },
          "metadata": {},
          "execution_count": 7
        }
      ]
    },
    {
      "cell_type": "code",
      "metadata": {
        "id": "yWV58jSzDJP7",
        "colab": {
          "base_uri": "https://localhost:8080/",
          "height": 661
        },
        "outputId": "85454f46-b8bc-496e-ad1b-169d05d94c4e"
      },
      "source": [
        "question[0] # 7학년 문항IRT"
      ],
      "execution_count": null,
      "outputs": [
        {
          "output_type": "execute_result",
          "data": {
            "text/html": [
              "\n",
              "  <div id=\"df-788d4d8f-a60f-4995-8c57-bc2ccadbb6e6\">\n",
              "    <div class=\"colab-df-container\">\n",
              "      <div>\n",
              "<style scoped>\n",
              "    .dataframe tbody tr th:only-of-type {\n",
              "        vertical-align: middle;\n",
              "    }\n",
              "\n",
              "    .dataframe tbody tr th {\n",
              "        vertical-align: top;\n",
              "    }\n",
              "\n",
              "    .dataframe thead th {\n",
              "        text-align: right;\n",
              "    }\n",
              "</style>\n",
              "<table border=\"1\" class=\"dataframe\">\n",
              "  <thead>\n",
              "    <tr style=\"text-align: right;\">\n",
              "      <th></th>\n",
              "      <th>testID</th>\n",
              "      <th>assessmentItemID</th>\n",
              "      <th>difficultyLevel</th>\n",
              "      <th>discriminationLevel</th>\n",
              "      <th>guessLevel</th>\n",
              "      <th>knowledgeTag</th>\n",
              "      <th>Timestamp</th>\n",
              "    </tr>\n",
              "  </thead>\n",
              "  <tbody>\n",
              "    <tr>\n",
              "      <th>0</th>\n",
              "      <td>A070000001</td>\n",
              "      <td>A070001009</td>\n",
              "      <td>0.570539</td>\n",
              "      <td>1.676606</td>\n",
              "      <td>0.052382</td>\n",
              "      <td>116</td>\n",
              "      <td>2021-01-08 06:08:25.336946</td>\n",
              "    </tr>\n",
              "    <tr>\n",
              "      <th>1</th>\n",
              "      <td>A070000001</td>\n",
              "      <td>A070001006</td>\n",
              "      <td>-0.614573</td>\n",
              "      <td>1.602738</td>\n",
              "      <td>0.131439</td>\n",
              "      <td>608</td>\n",
              "      <td>2021-01-08 06:08:25.336946</td>\n",
              "    </tr>\n",
              "    <tr>\n",
              "      <th>2</th>\n",
              "      <td>A070000001</td>\n",
              "      <td>A070001007</td>\n",
              "      <td>-0.998434</td>\n",
              "      <td>2.944685</td>\n",
              "      <td>0.003525</td>\n",
              "      <td>116</td>\n",
              "      <td>2021-01-08 06:08:25.336946</td>\n",
              "    </tr>\n",
              "    <tr>\n",
              "      <th>3</th>\n",
              "      <td>A070000001</td>\n",
              "      <td>A070001002</td>\n",
              "      <td>0.581642</td>\n",
              "      <td>1.898853</td>\n",
              "      <td>0.164373</td>\n",
              "      <td>608</td>\n",
              "      <td>2021-01-08 06:08:25.336946</td>\n",
              "    </tr>\n",
              "    <tr>\n",
              "      <th>4</th>\n",
              "      <td>A070000001</td>\n",
              "      <td>A070001001</td>\n",
              "      <td>-1.177857</td>\n",
              "      <td>2.155555</td>\n",
              "      <td>0.003693</td>\n",
              "      <td>607</td>\n",
              "      <td>2021-01-08 06:08:25.336946</td>\n",
              "    </tr>\n",
              "    <tr>\n",
              "      <th>...</th>\n",
              "      <td>...</td>\n",
              "      <td>...</td>\n",
              "      <td>...</td>\n",
              "      <td>...</td>\n",
              "      <td>...</td>\n",
              "      <td>...</td>\n",
              "      <td>...</td>\n",
              "    </tr>\n",
              "    <tr>\n",
              "      <th>2639</th>\n",
              "      <td>A070000164</td>\n",
              "      <td>A070164006</td>\n",
              "      <td>0.148058</td>\n",
              "      <td>5.433770</td>\n",
              "      <td>0.299407</td>\n",
              "      <td>9124</td>\n",
              "      <td>2021-01-08 06:08:25.336946</td>\n",
              "    </tr>\n",
              "    <tr>\n",
              "      <th>2640</th>\n",
              "      <td>A070000164</td>\n",
              "      <td>A070164003</td>\n",
              "      <td>-0.730469</td>\n",
              "      <td>1.439203</td>\n",
              "      <td>0.032803</td>\n",
              "      <td>9121</td>\n",
              "      <td>2021-01-08 06:08:25.336946</td>\n",
              "    </tr>\n",
              "    <tr>\n",
              "      <th>2641</th>\n",
              "      <td>A070000164</td>\n",
              "      <td>A070164007</td>\n",
              "      <td>0.144939</td>\n",
              "      <td>2.145620</td>\n",
              "      <td>0.009020</td>\n",
              "      <td>9126</td>\n",
              "      <td>2021-01-08 06:08:25.336946</td>\n",
              "    </tr>\n",
              "    <tr>\n",
              "      <th>2642</th>\n",
              "      <td>A070000164</td>\n",
              "      <td>A070164001</td>\n",
              "      <td>-1.135194</td>\n",
              "      <td>1.399814</td>\n",
              "      <td>0.017715</td>\n",
              "      <td>7867</td>\n",
              "      <td>2021-01-08 06:08:25.336946</td>\n",
              "    </tr>\n",
              "    <tr>\n",
              "      <th>2643</th>\n",
              "      <td>A070000164</td>\n",
              "      <td>A070164005</td>\n",
              "      <td>0.663280</td>\n",
              "      <td>22.501135</td>\n",
              "      <td>0.095168</td>\n",
              "      <td>9122</td>\n",
              "      <td>2021-01-08 06:08:25.336946</td>\n",
              "    </tr>\n",
              "  </tbody>\n",
              "</table>\n",
              "<p>2644 rows × 7 columns</p>\n",
              "</div>\n",
              "      <button class=\"colab-df-convert\" onclick=\"convertToInteractive('df-788d4d8f-a60f-4995-8c57-bc2ccadbb6e6')\"\n",
              "              title=\"Convert this dataframe to an interactive table.\"\n",
              "              style=\"display:none;\">\n",
              "        \n",
              "  <svg xmlns=\"http://www.w3.org/2000/svg\" height=\"24px\"viewBox=\"0 0 24 24\"\n",
              "       width=\"24px\">\n",
              "    <path d=\"M0 0h24v24H0V0z\" fill=\"none\"/>\n",
              "    <path d=\"M18.56 5.44l.94 2.06.94-2.06 2.06-.94-2.06-.94-.94-2.06-.94 2.06-2.06.94zm-11 1L8.5 8.5l.94-2.06 2.06-.94-2.06-.94L8.5 2.5l-.94 2.06-2.06.94zm10 10l.94 2.06.94-2.06 2.06-.94-2.06-.94-.94-2.06-.94 2.06-2.06.94z\"/><path d=\"M17.41 7.96l-1.37-1.37c-.4-.4-.92-.59-1.43-.59-.52 0-1.04.2-1.43.59L10.3 9.45l-7.72 7.72c-.78.78-.78 2.05 0 2.83L4 21.41c.39.39.9.59 1.41.59.51 0 1.02-.2 1.41-.59l7.78-7.78 2.81-2.81c.8-.78.8-2.07 0-2.86zM5.41 20L4 18.59l7.72-7.72 1.47 1.35L5.41 20z\"/>\n",
              "  </svg>\n",
              "      </button>\n",
              "      \n",
              "  <style>\n",
              "    .colab-df-container {\n",
              "      display:flex;\n",
              "      flex-wrap:wrap;\n",
              "      gap: 12px;\n",
              "    }\n",
              "\n",
              "    .colab-df-convert {\n",
              "      background-color: #E8F0FE;\n",
              "      border: none;\n",
              "      border-radius: 50%;\n",
              "      cursor: pointer;\n",
              "      display: none;\n",
              "      fill: #1967D2;\n",
              "      height: 32px;\n",
              "      padding: 0 0 0 0;\n",
              "      width: 32px;\n",
              "    }\n",
              "\n",
              "    .colab-df-convert:hover {\n",
              "      background-color: #E2EBFA;\n",
              "      box-shadow: 0px 1px 2px rgba(60, 64, 67, 0.3), 0px 1px 3px 1px rgba(60, 64, 67, 0.15);\n",
              "      fill: #174EA6;\n",
              "    }\n",
              "\n",
              "    [theme=dark] .colab-df-convert {\n",
              "      background-color: #3B4455;\n",
              "      fill: #D2E3FC;\n",
              "    }\n",
              "\n",
              "    [theme=dark] .colab-df-convert:hover {\n",
              "      background-color: #434B5C;\n",
              "      box-shadow: 0px 1px 3px 1px rgba(0, 0, 0, 0.15);\n",
              "      filter: drop-shadow(0px 1px 2px rgba(0, 0, 0, 0.3));\n",
              "      fill: #FFFFFF;\n",
              "    }\n",
              "  </style>\n",
              "\n",
              "      <script>\n",
              "        const buttonEl =\n",
              "          document.querySelector('#df-788d4d8f-a60f-4995-8c57-bc2ccadbb6e6 button.colab-df-convert');\n",
              "        buttonEl.style.display =\n",
              "          google.colab.kernel.accessAllowed ? 'block' : 'none';\n",
              "\n",
              "        async function convertToInteractive(key) {\n",
              "          const element = document.querySelector('#df-788d4d8f-a60f-4995-8c57-bc2ccadbb6e6');\n",
              "          const dataTable =\n",
              "            await google.colab.kernel.invokeFunction('convertToInteractive',\n",
              "                                                     [key], {});\n",
              "          if (!dataTable) return;\n",
              "\n",
              "          const docLinkHtml = 'Like what you see? Visit the ' +\n",
              "            '<a target=\"_blank\" href=https://colab.research.google.com/notebooks/data_table.ipynb>data table notebook</a>'\n",
              "            + ' to learn more about interactive tables.';\n",
              "          element.innerHTML = '';\n",
              "          dataTable['output_type'] = 'display_data';\n",
              "          await google.colab.output.renderOutput(dataTable, element);\n",
              "          const docLink = document.createElement('div');\n",
              "          docLink.innerHTML = docLinkHtml;\n",
              "          element.appendChild(docLink);\n",
              "        }\n",
              "      </script>\n",
              "    </div>\n",
              "  </div>\n",
              "  "
            ],
            "text/plain": [
              "          testID assessmentItemID  ...  knowledgeTag                   Timestamp\n",
              "0     A070000001       A070001009  ...           116  2021-01-08 06:08:25.336946\n",
              "1     A070000001       A070001006  ...           608  2021-01-08 06:08:25.336946\n",
              "2     A070000001       A070001007  ...           116  2021-01-08 06:08:25.336946\n",
              "3     A070000001       A070001002  ...           608  2021-01-08 06:08:25.336946\n",
              "4     A070000001       A070001001  ...           607  2021-01-08 06:08:25.336946\n",
              "...          ...              ...  ...           ...                         ...\n",
              "2639  A070000164       A070164006  ...          9124  2021-01-08 06:08:25.336946\n",
              "2640  A070000164       A070164003  ...          9121  2021-01-08 06:08:25.336946\n",
              "2641  A070000164       A070164007  ...          9126  2021-01-08 06:08:25.336946\n",
              "2642  A070000164       A070164001  ...          7867  2021-01-08 06:08:25.336946\n",
              "2643  A070000164       A070164005  ...          9122  2021-01-08 06:08:25.336946\n",
              "\n",
              "[2644 rows x 7 columns]"
            ]
          },
          "metadata": {},
          "execution_count": 8
        }
      ]
    },
    {
      "cell_type": "code",
      "metadata": {
        "id": "baIm5F3wMptN",
        "colab": {
          "base_uri": "https://localhost:8080/",
          "height": 661
        },
        "outputId": "cfe157a5-3faa-42aa-9ed2-c2cefd77a05e"
      },
      "source": [
        "student[0] # 7학년 응시자IRT"
      ],
      "execution_count": null,
      "outputs": [
        {
          "output_type": "execute_result",
          "data": {
            "text/html": [
              "\n",
              "  <div id=\"df-db245207-d54f-4c4b-a9b8-09162b0072e0\">\n",
              "    <div class=\"colab-df-container\">\n",
              "      <div>\n",
              "<style scoped>\n",
              "    .dataframe tbody tr th:only-of-type {\n",
              "        vertical-align: middle;\n",
              "    }\n",
              "\n",
              "    .dataframe tbody tr th {\n",
              "        vertical-align: top;\n",
              "    }\n",
              "\n",
              "    .dataframe thead th {\n",
              "        text-align: right;\n",
              "    }\n",
              "</style>\n",
              "<table border=\"1\" class=\"dataframe\">\n",
              "  <thead>\n",
              "    <tr style=\"text-align: right;\">\n",
              "      <th></th>\n",
              "      <th>learnerID</th>\n",
              "      <th>learnerProfile</th>\n",
              "      <th>testID</th>\n",
              "      <th>theta</th>\n",
              "      <th>realScore</th>\n",
              "      <th>Timestamp</th>\n",
              "    </tr>\n",
              "  </thead>\n",
              "  <tbody>\n",
              "    <tr>\n",
              "      <th>0</th>\n",
              "      <td>A070000270</td>\n",
              "      <td>M;S01;7</td>\n",
              "      <td>A070000001</td>\n",
              "      <td>0.849100</td>\n",
              "      <td>0.845404</td>\n",
              "      <td>2021-01-08 06:08:25.336946</td>\n",
              "    </tr>\n",
              "    <tr>\n",
              "      <th>1</th>\n",
              "      <td>A070000413</td>\n",
              "      <td>M;S01;7</td>\n",
              "      <td>A070000001</td>\n",
              "      <td>-1.500412</td>\n",
              "      <td>0.204311</td>\n",
              "      <td>2021-01-08 06:08:25.336946</td>\n",
              "    </tr>\n",
              "    <tr>\n",
              "      <th>2</th>\n",
              "      <td>A070000035</td>\n",
              "      <td>F;S01;7</td>\n",
              "      <td>A070000001</td>\n",
              "      <td>-0.330297</td>\n",
              "      <td>0.510249</td>\n",
              "      <td>2021-01-08 06:08:25.336946</td>\n",
              "    </tr>\n",
              "    <tr>\n",
              "      <th>3</th>\n",
              "      <td>A070000105</td>\n",
              "      <td>M;S01;7</td>\n",
              "      <td>A070000001</td>\n",
              "      <td>0.858736</td>\n",
              "      <td>0.847370</td>\n",
              "      <td>2021-01-08 06:08:25.336946</td>\n",
              "    </tr>\n",
              "    <tr>\n",
              "      <th>4</th>\n",
              "      <td>A070000330</td>\n",
              "      <td>M;S01;7</td>\n",
              "      <td>A070000001</td>\n",
              "      <td>-0.647079</td>\n",
              "      <td>0.412061</td>\n",
              "      <td>2021-01-08 06:08:25.336946</td>\n",
              "    </tr>\n",
              "    <tr>\n",
              "      <th>...</th>\n",
              "      <td>...</td>\n",
              "      <td>...</td>\n",
              "      <td>...</td>\n",
              "      <td>...</td>\n",
              "      <td>...</td>\n",
              "      <td>...</td>\n",
              "    </tr>\n",
              "    <tr>\n",
              "      <th>31409</th>\n",
              "      <td>A070001482</td>\n",
              "      <td>M;S01;7</td>\n",
              "      <td>A070000164</td>\n",
              "      <td>-0.520397</td>\n",
              "      <td>0.314584</td>\n",
              "      <td>2021-01-08 06:08:25.336946</td>\n",
              "    </tr>\n",
              "    <tr>\n",
              "      <th>31410</th>\n",
              "      <td>A070001416</td>\n",
              "      <td>M;S01;7</td>\n",
              "      <td>A070000164</td>\n",
              "      <td>1.465458</td>\n",
              "      <td>0.978435</td>\n",
              "      <td>2021-01-08 06:08:25.336946</td>\n",
              "    </tr>\n",
              "    <tr>\n",
              "      <th>31411</th>\n",
              "      <td>A070000533</td>\n",
              "      <td>F;S01;7</td>\n",
              "      <td>A070000164</td>\n",
              "      <td>1.465458</td>\n",
              "      <td>0.978435</td>\n",
              "      <td>2021-01-08 06:08:25.336946</td>\n",
              "    </tr>\n",
              "    <tr>\n",
              "      <th>31412</th>\n",
              "      <td>A070001502</td>\n",
              "      <td>F;S01;7</td>\n",
              "      <td>A070000164</td>\n",
              "      <td>-0.668272</td>\n",
              "      <td>0.295918</td>\n",
              "      <td>2021-01-08 06:08:25.336946</td>\n",
              "    </tr>\n",
              "    <tr>\n",
              "      <th>31413</th>\n",
              "      <td>A070001243</td>\n",
              "      <td>F;S01;7</td>\n",
              "      <td>A070000164</td>\n",
              "      <td>-0.664646</td>\n",
              "      <td>0.296358</td>\n",
              "      <td>2021-01-08 06:08:25.336946</td>\n",
              "    </tr>\n",
              "  </tbody>\n",
              "</table>\n",
              "<p>31414 rows × 6 columns</p>\n",
              "</div>\n",
              "      <button class=\"colab-df-convert\" onclick=\"convertToInteractive('df-db245207-d54f-4c4b-a9b8-09162b0072e0')\"\n",
              "              title=\"Convert this dataframe to an interactive table.\"\n",
              "              style=\"display:none;\">\n",
              "        \n",
              "  <svg xmlns=\"http://www.w3.org/2000/svg\" height=\"24px\"viewBox=\"0 0 24 24\"\n",
              "       width=\"24px\">\n",
              "    <path d=\"M0 0h24v24H0V0z\" fill=\"none\"/>\n",
              "    <path d=\"M18.56 5.44l.94 2.06.94-2.06 2.06-.94-2.06-.94-.94-2.06-.94 2.06-2.06.94zm-11 1L8.5 8.5l.94-2.06 2.06-.94-2.06-.94L8.5 2.5l-.94 2.06-2.06.94zm10 10l.94 2.06.94-2.06 2.06-.94-2.06-.94-.94-2.06-.94 2.06-2.06.94z\"/><path d=\"M17.41 7.96l-1.37-1.37c-.4-.4-.92-.59-1.43-.59-.52 0-1.04.2-1.43.59L10.3 9.45l-7.72 7.72c-.78.78-.78 2.05 0 2.83L4 21.41c.39.39.9.59 1.41.59.51 0 1.02-.2 1.41-.59l7.78-7.78 2.81-2.81c.8-.78.8-2.07 0-2.86zM5.41 20L4 18.59l7.72-7.72 1.47 1.35L5.41 20z\"/>\n",
              "  </svg>\n",
              "      </button>\n",
              "      \n",
              "  <style>\n",
              "    .colab-df-container {\n",
              "      display:flex;\n",
              "      flex-wrap:wrap;\n",
              "      gap: 12px;\n",
              "    }\n",
              "\n",
              "    .colab-df-convert {\n",
              "      background-color: #E8F0FE;\n",
              "      border: none;\n",
              "      border-radius: 50%;\n",
              "      cursor: pointer;\n",
              "      display: none;\n",
              "      fill: #1967D2;\n",
              "      height: 32px;\n",
              "      padding: 0 0 0 0;\n",
              "      width: 32px;\n",
              "    }\n",
              "\n",
              "    .colab-df-convert:hover {\n",
              "      background-color: #E2EBFA;\n",
              "      box-shadow: 0px 1px 2px rgba(60, 64, 67, 0.3), 0px 1px 3px 1px rgba(60, 64, 67, 0.15);\n",
              "      fill: #174EA6;\n",
              "    }\n",
              "\n",
              "    [theme=dark] .colab-df-convert {\n",
              "      background-color: #3B4455;\n",
              "      fill: #D2E3FC;\n",
              "    }\n",
              "\n",
              "    [theme=dark] .colab-df-convert:hover {\n",
              "      background-color: #434B5C;\n",
              "      box-shadow: 0px 1px 3px 1px rgba(0, 0, 0, 0.15);\n",
              "      filter: drop-shadow(0px 1px 2px rgba(0, 0, 0, 0.3));\n",
              "      fill: #FFFFFF;\n",
              "    }\n",
              "  </style>\n",
              "\n",
              "      <script>\n",
              "        const buttonEl =\n",
              "          document.querySelector('#df-db245207-d54f-4c4b-a9b8-09162b0072e0 button.colab-df-convert');\n",
              "        buttonEl.style.display =\n",
              "          google.colab.kernel.accessAllowed ? 'block' : 'none';\n",
              "\n",
              "        async function convertToInteractive(key) {\n",
              "          const element = document.querySelector('#df-db245207-d54f-4c4b-a9b8-09162b0072e0');\n",
              "          const dataTable =\n",
              "            await google.colab.kernel.invokeFunction('convertToInteractive',\n",
              "                                                     [key], {});\n",
              "          if (!dataTable) return;\n",
              "\n",
              "          const docLinkHtml = 'Like what you see? Visit the ' +\n",
              "            '<a target=\"_blank\" href=https://colab.research.google.com/notebooks/data_table.ipynb>data table notebook</a>'\n",
              "            + ' to learn more about interactive tables.';\n",
              "          element.innerHTML = '';\n",
              "          dataTable['output_type'] = 'display_data';\n",
              "          await google.colab.output.renderOutput(dataTable, element);\n",
              "          const docLink = document.createElement('div');\n",
              "          docLink.innerHTML = docLinkHtml;\n",
              "          element.appendChild(docLink);\n",
              "        }\n",
              "      </script>\n",
              "    </div>\n",
              "  </div>\n",
              "  "
            ],
            "text/plain": [
              "        learnerID learnerProfile  ... realScore                   Timestamp\n",
              "0      A070000270        M;S01;7  ...  0.845404  2021-01-08 06:08:25.336946\n",
              "1      A070000413        M;S01;7  ...  0.204311  2021-01-08 06:08:25.336946\n",
              "2      A070000035        F;S01;7  ...  0.510249  2021-01-08 06:08:25.336946\n",
              "3      A070000105        M;S01;7  ...  0.847370  2021-01-08 06:08:25.336946\n",
              "4      A070000330        M;S01;7  ...  0.412061  2021-01-08 06:08:25.336946\n",
              "...           ...            ...  ...       ...                         ...\n",
              "31409  A070001482        M;S01;7  ...  0.314584  2021-01-08 06:08:25.336946\n",
              "31410  A070001416        M;S01;7  ...  0.978435  2021-01-08 06:08:25.336946\n",
              "31411  A070000533        F;S01;7  ...  0.978435  2021-01-08 06:08:25.336946\n",
              "31412  A070001502        F;S01;7  ...  0.295918  2021-01-08 06:08:25.336946\n",
              "31413  A070001243        F;S01;7  ...  0.296358  2021-01-08 06:08:25.336946\n",
              "\n",
              "[31414 rows x 6 columns]"
            ]
          },
          "metadata": {},
          "execution_count": 9
        }
      ]
    },
    {
      "cell_type": "markdown",
      "source": [
        "### 1-3-2 각 학년별 DataFrame 병합\n",
        "\n",
        "1) 전처리된 데이터프레임 csv형식으로 저장\n",
        "\n",
        "correct7\\~9.csv (중1~중3 문항정오답표)\n",
        "\n",
        "question7\\~9.csv (중1~중3 문항IRT)\n",
        "\n",
        "student7\\~9.csv (중1~중3 응시자IRT)"
      ],
      "metadata": {
        "id": "LRSyJwqESEu6"
      }
    },
    {
      "cell_type": "code",
      "metadata": {
        "id": "snnofnqXMt8z"
      },
      "source": [
        "# csv형식으로 저장\n",
        "\n",
        "temp = {'correct': correct, 'question': question, 'student': student}\n",
        "\n",
        "for name, tmp in temp.items():\n",
        "  for (num,df) in enumerate(tmp):\n",
        "    df.to_csv(f'/content/drive/Shareddrives/데이터분석및활용(21-2)/데이터프레임/{name}{num+7}.csv', encoding='euc-kr')\n"
      ],
      "execution_count": null,
      "outputs": []
    },
    {
      "cell_type": "code",
      "metadata": {
        "id": "JEHkIT-5Mtvu"
      },
      "source": [
        "# 데이터 load (runtime 재시작후 전처리 중복 방지)\n",
        "\n",
        "correct7 = pd.read_csv(f'/content/drive/Shareddrives/데이터분석및활용(21-2)/데이터프레임/correct7.csv') #중1\n",
        "correct8 = pd.read_csv(f'/content/drive/Shareddrives/데이터분석및활용(21-2)/데이터프레임/correct8.csv') #중2\n",
        "correct9 = pd.read_csv(f'/content/drive/Shareddrives/데이터분석및활용(21-2)/데이터프레임/correct9.csv') #중3\n",
        "\n",
        "question7 = pd.read_csv(f'/content/drive/Shareddrives/데이터분석및활용(21-2)/데이터프레임/question7.csv')\n",
        "question8 = pd.read_csv(f'/content/drive/Shareddrives/데이터분석및활용(21-2)/데이터프레임/question8.csv')\n",
        "question9 = pd.read_csv(f'/content/drive/Shareddrives/데이터분석및활용(21-2)/데이터프레임/question9.csv')\n",
        "\n",
        "student7 = pd.read_csv(f'/content/drive/Shareddrives/데이터분석및활용(21-2)/데이터프레임/student7.csv')\n",
        "student8 = pd.read_csv(f'/content/drive/Shareddrives/데이터분석및활용(21-2)/데이터프레임/student8.csv')\n",
        "student9 = pd.read_csv(f'/content/drive/Shareddrives/데이터분석및활용(21-2)/데이터프레임/student9.csv')"
      ],
      "execution_count": null,
      "outputs": []
    },
    {
      "cell_type": "markdown",
      "source": [
        "##1-4 수학지식체계 dataset 전처리"
      ],
      "metadata": {
        "id": "ne8KJptTqZOm"
      }
    },
    {
      "cell_type": "markdown",
      "source": [
        "###1-4-1 데이터 로드 및 탐색\n",
        "1) 문항IRT knowledgeTag와 지식체계 dataset이 안내자료에 제시된 것과 다름을 확인함\n",
        "\n",
        "2) 데이터 설명서 p12의 데이터 예시에서 문항 IRT KnowledgeTag 속성값이 \"**중등-중1-1학-01-01-02**\"으로 기재된 것과는 달리, **116, 608 등 숫자**로 되어있음\n",
        "\n",
        "3) 수학지식체계 dataset도 설명서 p13에 안내된대로 **KnowledgeTag속성은 존재하지않고**, **선수과목(fromConcept), 후수과목(toConcept)의 pair**들로 이루어져있음을 확인함\n",
        "\n",
        "4) **선수과목, 후수과목의 id**가 **문항IRT의 knowledgeTag와 연결**된다고 이해함"
      ],
      "metadata": {
        "id": "k_wgj0OtTR3f"
      }
    },
    {
      "cell_type": "code",
      "metadata": {
        "id": "RN0FdmNc8IxT",
        "colab": {
          "base_uri": "https://localhost:8080/"
        },
        "outputId": "6a8f7a94-cf63-4ce4-dc49-60e4cca551ad"
      },
      "source": [
        "# knowledgeTag 속성값이 숫자인 이유가 한글 인코딩 문제가 아닌, 원래 데이터 자체가 숫자였음을 확인 \n",
        "\n",
        "with open('/content/drive/Shareddrives/데이터분석및활용(21-2)/train/1학년/실력평가001/2_문항IRT/A010000001_A010001001.json', 'r', encoding=\"UTF-8\") as file:\n",
        "    after = json.load(file)\n",
        "    print(json.dumps(after,ensure_ascii=False))"
      ],
      "execution_count": null,
      "outputs": [
        {
          "output_type": "stream",
          "name": "stdout",
          "text": [
            "{\"testID\": \"A010000001\", \"assessmentItemID\": \"A010001001\", \"difficultyLevel\": -3.7197147455, \"discriminationLevel\": 0.7211787505, \"guessLevel\": 0.0100890361, \"knowledgeTag\": \"5844\", \"Timestamp\": \"2021-01-08 06:08:25.336946\"}\n"
          ]
        }
      ]
    },
    {
      "cell_type": "code",
      "metadata": {
        "id": "mfVCvo-KlEvb",
        "colab": {
          "base_uri": "https://localhost:8080/"
        },
        "outputId": "77026463-5675-4a7c-9d0e-96716e531dcb"
      },
      "source": [
        "after"
      ],
      "execution_count": null,
      "outputs": [
        {
          "output_type": "execute_result",
          "data": {
            "text/plain": [
              "{'Timestamp': '2021-01-08 06:08:25.336946',\n",
              " 'assessmentItemID': 'A010001001',\n",
              " 'difficultyLevel': -3.7197147455,\n",
              " 'discriminationLevel': 0.7211787505,\n",
              " 'guessLevel': 0.0100890361,\n",
              " 'knowledgeTag': '5844',\n",
              " 'testID': 'A010000001'}"
            ]
          },
          "metadata": {},
          "execution_count": 13
        }
      ]
    },
    {
      "cell_type": "code",
      "metadata": {
        "id": "j83bErMDch_n",
        "colab": {
          "base_uri": "https://localhost:8080/"
        },
        "outputId": "b1b2f21e-0f7c-4eed-ebec-5c0fd0ec20c1"
      },
      "source": [
        "question7['knowledgeTag'].unique() # knowledgeTag 전체 속성값 확인 "
      ],
      "execution_count": null,
      "outputs": [
        {
          "output_type": "execute_result",
          "data": {
            "text/plain": [
              "array([  116,   608,   607,  3821,  3793,  3792,   117,  3794,  3795,\n",
              "        3820,  3798,  3804,  3806,  4746,  7665,  7667,   121,  5619,\n",
              "        5783,   163,  5656,  1255,  5780,  5761,  5654,  5781,  5762,\n",
              "        5782,  5620,   162,  5653,  5655,  8830,  1256,  9161,  5788,\n",
              "         164,  5705,   169,  5707,  1257,  8831,  5763,  5809,  9162,\n",
              "        9165,  9164,  9160,  1259,  5810,  5808,  1261,  6785,  6796,\n",
              "        1260,  9166,  6784,  1262,  6795,  9168,  1263,  9167,  9171,\n",
              "        9172,  1264,  9170,  9169,  6800,  6802,  1266,  6801,  1267,\n",
              "        6825,  9185,  9184,  1268,  9186,  6826,  1269,  1271,  6827,\n",
              "        6828,  9187,  1273,  8872,  8871,  8896,  8868,  8893,  8875,\n",
              "       10819,  8874,  8885,  8877,  8878,  8880,  8879,  8881,  8890,\n",
              "        8891,  8889,  8887,  8892,  8901,  7259,  8886,  8894,  8895,\n",
              "        9021, 10834,  8897,  8899,  9022,  7248,  8900,  8902,  8904,\n",
              "        8905,  8906,  9592, 10837,  8910,  8908,  8911,  9660,  8913,\n",
              "       10838,  9052,  9044,  9051,  9053,  9090,  9046,  9054, 10841,\n",
              "        9049,  9050,  9661,  9091,  9066,  9055,  9065,  9062,  9064,\n",
              "        9067,  9069,  9070,  9068,  9071,  9098,  9099,  9072,  9075,\n",
              "        7863,  9073,  9083,  9082,  7856,  9086,  9078,  9077,  9080,\n",
              "        9079,  9081,  9765,  7862,  3288,  7866,  7867,  9797,  9120,\n",
              "        9121,  9122,  9126,  9124,  9125])"
            ]
          },
          "metadata": {},
          "execution_count": 14
        }
      ]
    },
    {
      "cell_type": "code",
      "metadata": {
        "id": "1X4ZBdtzlaZa"
      },
      "source": [
        "# 지식체계 dataset load\n",
        "file_path = '/content/drive/Shareddrives/데이터분석및활용(21-2)/수학지식체계 데이터셋/수학 지식체계 데이터 세트_210611.json'\n",
        "\n",
        "math_knowledge = open(file_path).read() \n",
        "math_knowledge = json.loads(math_knowledge) # json 문자열 → 파이썬 객체 변환"
      ],
      "execution_count": null,
      "outputs": []
    },
    {
      "cell_type": "code",
      "metadata": {
        "colab": {
          "base_uri": "https://localhost:8080/"
        },
        "id": "z_9VFQZFcIZd",
        "outputId": "ecfa0f99-1a85-4915-e181-2c84237d8396"
      },
      "source": [
        "knowledge = list(math_knowledge.values()) \n",
        "print(knowledge[0]) # 데이터 확인"
      ],
      "execution_count": null,
      "outputs": [
        {
          "output_type": "stream",
          "name": "stdout",
          "text": [
            "{'fromConcept': {'id': 3249, 'name': '거듭제곱', 'semester': '고등-수1-전체', 'description': '임의의 수 $a$와 양의 정수 $n$에 대하여 $a$를 $n$개 거듭하여 곱한 것을 $a$의 $n$제곱이라 하고 $a^n$으로 나타낸다. 또 $a,a^2,a^3,\\\\cdots,a^n,\\\\cdots$을 통틀어 $a$의 거듭제곱이라 한다.', 'chapter': {'id': '587', 'name': '지수함수와 로그함수 > 지수 > 거듭제곱과 거듭제곱근'}, 'achievement': {'id': '314', 'name': '거듭제곱과 거듭제곱근의 뜻을 알고, 그 성질을 설명할 수 있다.'}}, 'toConcept': {'id': 1442, 'name': '거듭제곱', 'semester': '중등-중2-1학기', 'description': '같은 수나 문자를 거듭하여 곱한 것을 간단히 나타낸 것', 'chapter': {'id': '481', 'name': '식의 계산 > 단항식의 계산 > 지수법칙'}, 'achievement': {'id': '88', 'name': '지수법칙을 이해한다.'}}}\n"
          ]
        }
      ]
    },
    {
      "cell_type": "markdown",
      "source": [
        "###1-4-2 JSON Parsing\n",
        "1) 선수과목과 후수과목을 분리함\n",
        "\n",
        "2) dataframe으로 변환(.csv형식으로 저장)"
      ],
      "metadata": {
        "id": "PXbFYua8SuvI"
      }
    },
    {
      "cell_type": "code",
      "metadata": {
        "id": "qMQl8qmImDNN",
        "colab": {
          "base_uri": "https://localhost:8080/"
        },
        "outputId": "ad83d509-6af6-4cc7-e771-1baf780f7668"
      },
      "source": [
        "# 지식체계 dataset 파싱 작업\n",
        "concept_list = [] \n",
        "for i in range(len(knowledge)):  # 선수과목 후수과목을 동등한 요소로 분리\n",
        "  concept_list.append((knowledge[i]['fromConcept']))\n",
        "  concept_list.append((knowledge[i]['toConcept']))\n",
        "print(len(concept_list))"
      ],
      "execution_count": null,
      "outputs": [
        {
          "output_type": "stream",
          "name": "stdout",
          "text": [
            "6892\n"
          ]
        }
      ]
    },
    {
      "cell_type": "code",
      "metadata": {
        "colab": {
          "base_uri": "https://localhost:8080/"
        },
        "id": "mZ-w798ImfVU",
        "outputId": "574bfa73-e4a0-4b15-ef61-5e8b1f5df851"
      },
      "source": [
        "print(concept_list[0]) # 데이터 확인"
      ],
      "execution_count": null,
      "outputs": [
        {
          "output_type": "stream",
          "name": "stdout",
          "text": [
            "{'id': 3249, 'name': '거듭제곱', 'semester': '고등-수1-전체', 'description': '임의의 수 $a$와 양의 정수 $n$에 대하여 $a$를 $n$개 거듭하여 곱한 것을 $a$의 $n$제곱이라 하고 $a^n$으로 나타낸다. 또 $a,a^2,a^3,\\\\cdots,a^n,\\\\cdots$을 통틀어 $a$의 거듭제곱이라 한다.', 'chapter': {'id': '587', 'name': '지수함수와 로그함수 > 지수 > 거듭제곱과 거듭제곱근'}, 'achievement': {'id': '314', 'name': '거듭제곱과 거듭제곱근의 뜻을 알고, 그 성질을 설명할 수 있다.'}}\n"
          ]
        }
      ]
    },
    {
      "cell_type": "code",
      "metadata": {
        "id": "BCI55qBw-vnn",
        "colab": {
          "base_uri": "https://localhost:8080/",
          "height": 1000
        },
        "outputId": "5896b90f-1c4a-4539-fec0-9297cc41051e"
      },
      "source": [
        "knowledge_df = pd.json_normalize(concept_list) # 데이터 프레임화 시키기\n",
        "knowledge_df"
      ],
      "execution_count": null,
      "outputs": [
        {
          "output_type": "execute_result",
          "data": {
            "text/html": [
              "\n",
              "  <div id=\"df-12e11b08-7a67-48fd-8ab3-a76d56f2a4e1\">\n",
              "    <div class=\"colab-df-container\">\n",
              "      <div>\n",
              "<style scoped>\n",
              "    .dataframe tbody tr th:only-of-type {\n",
              "        vertical-align: middle;\n",
              "    }\n",
              "\n",
              "    .dataframe tbody tr th {\n",
              "        vertical-align: top;\n",
              "    }\n",
              "\n",
              "    .dataframe thead th {\n",
              "        text-align: right;\n",
              "    }\n",
              "</style>\n",
              "<table border=\"1\" class=\"dataframe\">\n",
              "  <thead>\n",
              "    <tr style=\"text-align: right;\">\n",
              "      <th></th>\n",
              "      <th>id</th>\n",
              "      <th>name</th>\n",
              "      <th>semester</th>\n",
              "      <th>description</th>\n",
              "      <th>chapter.id</th>\n",
              "      <th>chapter.name</th>\n",
              "      <th>achievement.id</th>\n",
              "      <th>achievement.name</th>\n",
              "    </tr>\n",
              "  </thead>\n",
              "  <tbody>\n",
              "    <tr>\n",
              "      <th>0</th>\n",
              "      <td>3249</td>\n",
              "      <td>거듭제곱</td>\n",
              "      <td>고등-수1-전체</td>\n",
              "      <td>임의의 수 $a$와 양의 정수 $n$에 대하여 $a$를 $n$개 거듭하여 곱한 것을...</td>\n",
              "      <td>587</td>\n",
              "      <td>지수함수와 로그함수 &gt; 지수 &gt; 거듭제곱과 거듭제곱근</td>\n",
              "      <td>314</td>\n",
              "      <td>거듭제곱과 거듭제곱근의 뜻을 알고, 그 성질을 설명할 수 있다.</td>\n",
              "    </tr>\n",
              "    <tr>\n",
              "      <th>1</th>\n",
              "      <td>1442</td>\n",
              "      <td>거듭제곱</td>\n",
              "      <td>중등-중2-1학기</td>\n",
              "      <td>같은 수나 문자를 거듭하여 곱한 것을 간단히 나타낸 것</td>\n",
              "      <td>481</td>\n",
              "      <td>식의 계산 &gt; 단항식의 계산 &gt; 지수법칙</td>\n",
              "      <td>88</td>\n",
              "      <td>지수법칙을 이해한다.</td>\n",
              "    </tr>\n",
              "    <tr>\n",
              "      <th>2</th>\n",
              "      <td>3</td>\n",
              "      <td>지수가 자연수일 때의 지수법칙</td>\n",
              "      <td>고등-수1-전체</td>\n",
              "      <td>$a$, $b$가 실수이고 $m$, $n$이 자연수일 때\\n\\n(1)$a^ma^n=...</td>\n",
              "      <td>587</td>\n",
              "      <td>지수함수와 로그함수 &gt; 지수 &gt; 거듭제곱과 거듭제곱근</td>\n",
              "      <td>314</td>\n",
              "      <td>거듭제곱과 거듭제곱근의 뜻을 알고, 그 성질을 설명할 수 있다.</td>\n",
              "    </tr>\n",
              "    <tr>\n",
              "      <th>3</th>\n",
              "      <td>4659</td>\n",
              "      <td>지수법칙 (2) - 지수의 곱</td>\n",
              "      <td>중등-중2-1학기</td>\n",
              "      <td>m,n이 자연수일 때\\n$(a^m)^n=a^{mn}$</td>\n",
              "      <td>481</td>\n",
              "      <td>식의 계산 &gt; 단항식의 계산 &gt; 지수법칙</td>\n",
              "      <td>88</td>\n",
              "      <td>지수법칙을 이해한다.</td>\n",
              "    </tr>\n",
              "    <tr>\n",
              "      <th>4</th>\n",
              "      <td>3</td>\n",
              "      <td>지수가 자연수일 때의 지수법칙</td>\n",
              "      <td>고등-수1-전체</td>\n",
              "      <td>$a$, $b$가 실수이고 $m$, $n$이 자연수일 때\\n\\n(1)$a^ma^n=...</td>\n",
              "      <td>587</td>\n",
              "      <td>지수함수와 로그함수 &gt; 지수 &gt; 거듭제곱과 거듭제곱근</td>\n",
              "      <td>314</td>\n",
              "      <td>거듭제곱과 거듭제곱근의 뜻을 알고, 그 성질을 설명할 수 있다.</td>\n",
              "    </tr>\n",
              "    <tr>\n",
              "      <th>...</th>\n",
              "      <td>...</td>\n",
              "      <td>...</td>\n",
              "      <td>...</td>\n",
              "      <td>...</td>\n",
              "      <td>...</td>\n",
              "      <td>...</td>\n",
              "      <td>...</td>\n",
              "      <td>...</td>\n",
              "    </tr>\n",
              "    <tr>\n",
              "      <th>6887</th>\n",
              "      <td>11270</td>\n",
              "      <td>천억 단위까지의 수 알아보기</td>\n",
              "      <td>초등-초4-1학기</td>\n",
              "      <td>1억이 7365개인 수\\n- 쓰기: 736500000000또는 7365억\\n- 읽기...</td>\n",
              "      <td>224</td>\n",
              "      <td>큰 수 &gt; 억과 조를 알아볼까요</td>\n",
              "      <td>11</td>\n",
              "      <td>10000 이상의 큰 수에 대한 자릿값과 위치적 기수법을 원리를 이해한다.</td>\n",
              "    </tr>\n",
              "    <tr>\n",
              "      <th>6888</th>\n",
              "      <td>8481</td>\n",
              "      <td>각도의 합과 차</td>\n",
              "      <td>초등-초4-1학기</td>\n",
              "      <td>각도의 합과 차는 자연수의 덧셈, 뺄셈과 같은 방법으로 계산합니다.</td>\n",
              "      <td>232</td>\n",
              "      <td>각도 &gt; 각도의 합과 차는 얼마일까요</td>\n",
              "      <td>NaN</td>\n",
              "      <td>nan</td>\n",
              "    </tr>\n",
              "    <tr>\n",
              "      <th>6889</th>\n",
              "      <td>7310</td>\n",
              "      <td>받아 올림이 세 번 있는 $(세자릿수)+(세자릿수)$</td>\n",
              "      <td>초등-초3-1학기</td>\n",
              "      <td>1. 각 자리의 숫자를 맞추어 적습니다.\\n2. 일의 자리, 십의 자리, 백의 자리...</td>\n",
              "      <td>148</td>\n",
              "      <td>덧셈과 뺄셈 &gt; 덧셈을 해 볼까요 (3)</td>\n",
              "      <td>53</td>\n",
              "      <td>받아 올림이 있는 (세 자릿수)+(세 자릿수)의 계산 원리를 이해하고 그 계산을 할...</td>\n",
              "    </tr>\n",
              "    <tr>\n",
              "      <th>6890</th>\n",
              "      <td>8247</td>\n",
              "      <td>삼각형을 두 가지 기준으로 분류하기(3)</td>\n",
              "      <td>초등-초4-2학기</td>\n",
              "      <td>각의 크기에 따른 분류.\\n- 한 각이 직각이면 직각삼각형이다.</td>\n",
              "      <td>268</td>\n",
              "      <td>삼각형 &gt; 삼각형을 두 가지 기준으로 분류해 볼까요</td>\n",
              "      <td>155</td>\n",
              "      <td>여러 가지 모양의 삼각형에 대한 분류 활동을 통하여 직각삼각형을 이해한다.</td>\n",
              "    </tr>\n",
              "    <tr>\n",
              "      <th>6891</th>\n",
              "      <td>8832</td>\n",
              "      <td>삼각형을 두 가지 기준으로 분류하기(2)</td>\n",
              "      <td>초등-초4-2학기</td>\n",
              "      <td>삼각형을 각의 크기에 따라 분류하기\\n-세 각이 모두 예각인 삼각형(예각삼각형)\\n...</td>\n",
              "      <td>268</td>\n",
              "      <td>삼각형 &gt; 삼각형을 두 가지 기준으로 분류해 볼까요</td>\n",
              "      <td>156</td>\n",
              "      <td>여러 가지 모양의 삼각형에 대한 분류 활동을 통하여 예각삼각형과 둔각삼각형을 이해한다.</td>\n",
              "    </tr>\n",
              "  </tbody>\n",
              "</table>\n",
              "<p>6892 rows × 8 columns</p>\n",
              "</div>\n",
              "      <button class=\"colab-df-convert\" onclick=\"convertToInteractive('df-12e11b08-7a67-48fd-8ab3-a76d56f2a4e1')\"\n",
              "              title=\"Convert this dataframe to an interactive table.\"\n",
              "              style=\"display:none;\">\n",
              "        \n",
              "  <svg xmlns=\"http://www.w3.org/2000/svg\" height=\"24px\"viewBox=\"0 0 24 24\"\n",
              "       width=\"24px\">\n",
              "    <path d=\"M0 0h24v24H0V0z\" fill=\"none\"/>\n",
              "    <path d=\"M18.56 5.44l.94 2.06.94-2.06 2.06-.94-2.06-.94-.94-2.06-.94 2.06-2.06.94zm-11 1L8.5 8.5l.94-2.06 2.06-.94-2.06-.94L8.5 2.5l-.94 2.06-2.06.94zm10 10l.94 2.06.94-2.06 2.06-.94-2.06-.94-.94-2.06-.94 2.06-2.06.94z\"/><path d=\"M17.41 7.96l-1.37-1.37c-.4-.4-.92-.59-1.43-.59-.52 0-1.04.2-1.43.59L10.3 9.45l-7.72 7.72c-.78.78-.78 2.05 0 2.83L4 21.41c.39.39.9.59 1.41.59.51 0 1.02-.2 1.41-.59l7.78-7.78 2.81-2.81c.8-.78.8-2.07 0-2.86zM5.41 20L4 18.59l7.72-7.72 1.47 1.35L5.41 20z\"/>\n",
              "  </svg>\n",
              "      </button>\n",
              "      \n",
              "  <style>\n",
              "    .colab-df-container {\n",
              "      display:flex;\n",
              "      flex-wrap:wrap;\n",
              "      gap: 12px;\n",
              "    }\n",
              "\n",
              "    .colab-df-convert {\n",
              "      background-color: #E8F0FE;\n",
              "      border: none;\n",
              "      border-radius: 50%;\n",
              "      cursor: pointer;\n",
              "      display: none;\n",
              "      fill: #1967D2;\n",
              "      height: 32px;\n",
              "      padding: 0 0 0 0;\n",
              "      width: 32px;\n",
              "    }\n",
              "\n",
              "    .colab-df-convert:hover {\n",
              "      background-color: #E2EBFA;\n",
              "      box-shadow: 0px 1px 2px rgba(60, 64, 67, 0.3), 0px 1px 3px 1px rgba(60, 64, 67, 0.15);\n",
              "      fill: #174EA6;\n",
              "    }\n",
              "\n",
              "    [theme=dark] .colab-df-convert {\n",
              "      background-color: #3B4455;\n",
              "      fill: #D2E3FC;\n",
              "    }\n",
              "\n",
              "    [theme=dark] .colab-df-convert:hover {\n",
              "      background-color: #434B5C;\n",
              "      box-shadow: 0px 1px 3px 1px rgba(0, 0, 0, 0.15);\n",
              "      filter: drop-shadow(0px 1px 2px rgba(0, 0, 0, 0.3));\n",
              "      fill: #FFFFFF;\n",
              "    }\n",
              "  </style>\n",
              "\n",
              "      <script>\n",
              "        const buttonEl =\n",
              "          document.querySelector('#df-12e11b08-7a67-48fd-8ab3-a76d56f2a4e1 button.colab-df-convert');\n",
              "        buttonEl.style.display =\n",
              "          google.colab.kernel.accessAllowed ? 'block' : 'none';\n",
              "\n",
              "        async function convertToInteractive(key) {\n",
              "          const element = document.querySelector('#df-12e11b08-7a67-48fd-8ab3-a76d56f2a4e1');\n",
              "          const dataTable =\n",
              "            await google.colab.kernel.invokeFunction('convertToInteractive',\n",
              "                                                     [key], {});\n",
              "          if (!dataTable) return;\n",
              "\n",
              "          const docLinkHtml = 'Like what you see? Visit the ' +\n",
              "            '<a target=\"_blank\" href=https://colab.research.google.com/notebooks/data_table.ipynb>data table notebook</a>'\n",
              "            + ' to learn more about interactive tables.';\n",
              "          element.innerHTML = '';\n",
              "          dataTable['output_type'] = 'display_data';\n",
              "          await google.colab.output.renderOutput(dataTable, element);\n",
              "          const docLink = document.createElement('div');\n",
              "          docLink.innerHTML = docLinkHtml;\n",
              "          element.appendChild(docLink);\n",
              "        }\n",
              "      </script>\n",
              "    </div>\n",
              "  </div>\n",
              "  "
            ],
            "text/plain": [
              "         id  ...                                   achievement.name\n",
              "0      3249  ...                거듭제곱과 거듭제곱근의 뜻을 알고, 그 성질을 설명할 수 있다.\n",
              "1      1442  ...                                        지수법칙을 이해한다.\n",
              "2         3  ...                거듭제곱과 거듭제곱근의 뜻을 알고, 그 성질을 설명할 수 있다.\n",
              "3      4659  ...                                        지수법칙을 이해한다.\n",
              "4         3  ...                거듭제곱과 거듭제곱근의 뜻을 알고, 그 성질을 설명할 수 있다.\n",
              "...     ...  ...                                                ...\n",
              "6887  11270  ...          10000 이상의 큰 수에 대한 자릿값과 위치적 기수법을 원리를 이해한다.\n",
              "6888   8481  ...                                                nan\n",
              "6889   7310  ...  받아 올림이 있는 (세 자릿수)+(세 자릿수)의 계산 원리를 이해하고 그 계산을 할...\n",
              "6890   8247  ...          여러 가지 모양의 삼각형에 대한 분류 활동을 통하여 직각삼각형을 이해한다.\n",
              "6891   8832  ...   여러 가지 모양의 삼각형에 대한 분류 활동을 통하여 예각삼각형과 둔각삼각형을 이해한다.\n",
              "\n",
              "[6892 rows x 8 columns]"
            ]
          },
          "metadata": {},
          "execution_count": 19
        }
      ]
    },
    {
      "cell_type": "markdown",
      "source": [
        "###1-4-3 DataFrame 정리\n",
        "중복제거 및 정렬"
      ],
      "metadata": {
        "id": "hlSKDWqwS9-X"
      }
    },
    {
      "cell_type": "code",
      "metadata": {
        "id": "8HZupA9L-wZd",
        "colab": {
          "base_uri": "https://localhost:8080/",
          "height": 1000
        },
        "outputId": "0583eafa-728d-4ad9-fa48-57fec0e4c192"
      },
      "source": [
        "knowledge_df = knowledge_df.drop_duplicates() # 모든 열의 내용이 같으면 삭제 (중복제거)\n",
        "knowledge_df = knowledge_df.sort_values('id', ascending=True) # 정렬\n",
        "knowledge_df"
      ],
      "execution_count": null,
      "outputs": [
        {
          "output_type": "execute_result",
          "data": {
            "text/html": [
              "\n",
              "  <div id=\"df-d4ef8782-8705-48e2-a4d2-b8046bd21c86\">\n",
              "    <div class=\"colab-df-container\">\n",
              "      <div>\n",
              "<style scoped>\n",
              "    .dataframe tbody tr th:only-of-type {\n",
              "        vertical-align: middle;\n",
              "    }\n",
              "\n",
              "    .dataframe tbody tr th {\n",
              "        vertical-align: top;\n",
              "    }\n",
              "\n",
              "    .dataframe thead th {\n",
              "        text-align: right;\n",
              "    }\n",
              "</style>\n",
              "<table border=\"1\" class=\"dataframe\">\n",
              "  <thead>\n",
              "    <tr style=\"text-align: right;\">\n",
              "      <th></th>\n",
              "      <th>id</th>\n",
              "      <th>name</th>\n",
              "      <th>semester</th>\n",
              "      <th>description</th>\n",
              "      <th>chapter.id</th>\n",
              "      <th>chapter.name</th>\n",
              "      <th>achievement.id</th>\n",
              "      <th>achievement.name</th>\n",
              "    </tr>\n",
              "  </thead>\n",
              "  <tbody>\n",
              "    <tr>\n",
              "      <th>2</th>\n",
              "      <td>3</td>\n",
              "      <td>지수가 자연수일 때의 지수법칙</td>\n",
              "      <td>고등-수1-전체</td>\n",
              "      <td>$a$, $b$가 실수이고 $m$, $n$이 자연수일 때\\n\\n(1)$a^ma^n=...</td>\n",
              "      <td>587</td>\n",
              "      <td>지수함수와 로그함수 &gt; 지수 &gt; 거듭제곱과 거듭제곱근</td>\n",
              "      <td>314</td>\n",
              "      <td>거듭제곱과 거듭제곱근의 뜻을 알고, 그 성질을 설명할 수 있다.</td>\n",
              "    </tr>\n",
              "    <tr>\n",
              "      <th>8</th>\n",
              "      <td>4</td>\n",
              "      <td>거듭제곱근</td>\n",
              "      <td>고등-수1-전체</td>\n",
              "      <td>방정식 $x^n=a$의 근 $x$를 $a$의 $n$제곱근이라 한다.\\n이때 실수 $...</td>\n",
              "      <td>587</td>\n",
              "      <td>지수함수와 로그함수 &gt; 지수 &gt; 거듭제곱과 거듭제곱근</td>\n",
              "      <td>314</td>\n",
              "      <td>거듭제곱과 거듭제곱근의 뜻을 알고, 그 성질을 설명할 수 있다.</td>\n",
              "    </tr>\n",
              "    <tr>\n",
              "      <th>12</th>\n",
              "      <td>10</td>\n",
              "      <td>거듭제곱근의 대소 비교</td>\n",
              "      <td>고등-수1-전체</td>\n",
              "      <td>거듭제곱근의 성질 (6)과 다음 성질을 이용하여 거듭제곱근의 대소를 비교할 수 있다...</td>\n",
              "      <td>587</td>\n",
              "      <td>지수함수와 로그함수 &gt; 지수 &gt; 거듭제곱과 거듭제곱근</td>\n",
              "      <td>314</td>\n",
              "      <td>거듭제곱과 거듭제곱근의 뜻을 알고, 그 성질을 설명할 수 있다.</td>\n",
              "    </tr>\n",
              "    <tr>\n",
              "      <th>29</th>\n",
              "      <td>23</td>\n",
              "      <td>이등변삼각형의 밑각의 성질</td>\n",
              "      <td>중등-중2-2학기</td>\n",
              "      <td>이등변삼각형의 두 밑각의 크기는 같다.</td>\n",
              "      <td>496</td>\n",
              "      <td>도형의 성질 &gt; 삼각형의 성질 &gt; 이등변삼각형의 성질</td>\n",
              "      <td>174</td>\n",
              "      <td>이등변삼각형의 성질을 이해하고 설명할 수 있다.</td>\n",
              "    </tr>\n",
              "    <tr>\n",
              "      <th>28</th>\n",
              "      <td>24</td>\n",
              "      <td>이등변삼각형의 꼭지각의 이등분선의 성질</td>\n",
              "      <td>중등-중2-2학기</td>\n",
              "      <td>이등변삼각형의 꼭지각의 이등분선은 밑변을 수직이등분 한다.</td>\n",
              "      <td>496</td>\n",
              "      <td>도형의 성질 &gt; 삼각형의 성질 &gt; 이등변삼각형의 성질</td>\n",
              "      <td>174</td>\n",
              "      <td>이등변삼각형의 성질을 이해하고 설명할 수 있다.</td>\n",
              "    </tr>\n",
              "    <tr>\n",
              "      <th>...</th>\n",
              "      <td>...</td>\n",
              "      <td>...</td>\n",
              "      <td>...</td>\n",
              "      <td>...</td>\n",
              "      <td>...</td>\n",
              "      <td>...</td>\n",
              "      <td>...</td>\n",
              "      <td>...</td>\n",
              "    </tr>\n",
              "    <tr>\n",
              "      <th>6872</th>\n",
              "      <td>11254</td>\n",
              "      <td>막대그래프를 보고 이야기 만들기</td>\n",
              "      <td>초등-초4-1학기</td>\n",
              "      <td>종서네 모둠 학생들이 지난 일요일에 수학 공부를 한 시간을 조사하여 나타낸 막대그래...</td>\n",
              "      <td>251</td>\n",
              "      <td>막대그래프 &gt; 막대그래프로 이야기를 만들어 볼까요</td>\n",
              "      <td>296</td>\n",
              "      <td>실생활 자료를 수집하여 막대그래프로 나타낼 수 있다.</td>\n",
              "    </tr>\n",
              "    <tr>\n",
              "      <th>6878</th>\n",
              "      <td>11265</td>\n",
              "      <td>글을 읽고 꺾은선그래프 그리기</td>\n",
              "      <td>초등-초4-2학기</td>\n",
              "      <td>나는 아이비를 선물 받아 키우게 되어서 아이비의 키가 얼마나 크고 있는지 궁금했다....</td>\n",
              "      <td>288</td>\n",
              "      <td>꺾은선그래프 &gt; 꺾은선그래프는 어디에 쓰일까요</td>\n",
              "      <td>297</td>\n",
              "      <td>연속적인 변량에 대한 자료를 수집하여 꺾은 선그래프로 나타낼 수 있다.</td>\n",
              "    </tr>\n",
              "    <tr>\n",
              "      <th>6882</th>\n",
              "      <td>11269</td>\n",
              "      <td>천만 단위까지의 수 알아보기</td>\n",
              "      <td>초등-초4-1학기</td>\n",
              "      <td>10000이 1365개인 수- 쓰기: 13560000또는 1356만, 읽기: 천삼백...</td>\n",
              "      <td>223</td>\n",
              "      <td>큰 수 &gt; 십만, 백만, 천만을 알아볼까요</td>\n",
              "      <td>11</td>\n",
              "      <td>10000 이상의 큰 수에 대한 자릿값과 위치적 기수법을 원리를 이해한다.</td>\n",
              "    </tr>\n",
              "    <tr>\n",
              "      <th>6884</th>\n",
              "      <td>11270</td>\n",
              "      <td>천억 단위까지의 수 알아보기</td>\n",
              "      <td>초등-초4-1학기</td>\n",
              "      <td>1억이 7365개인 수\\n- 쓰기: 736500000000또는 7365억\\n- 읽기...</td>\n",
              "      <td>224</td>\n",
              "      <td>큰 수 &gt; 억과 조를 알아볼까요</td>\n",
              "      <td>11</td>\n",
              "      <td>10000 이상의 큰 수에 대한 자릿값과 위치적 기수법을 원리를 이해한다.</td>\n",
              "    </tr>\n",
              "    <tr>\n",
              "      <th>6886</th>\n",
              "      <td>11271</td>\n",
              "      <td>천조 단위까지의 수 알아보기</td>\n",
              "      <td>초등-초4-1학기</td>\n",
              "      <td>1조가 2761개인 수\\n- 쓰기: 2761000000000000 또는 2761조\\...</td>\n",
              "      <td>224</td>\n",
              "      <td>큰 수 &gt; 억과 조를 알아볼까요</td>\n",
              "      <td>11</td>\n",
              "      <td>10000 이상의 큰 수에 대한 자릿값과 위치적 기수법을 원리를 이해한다.</td>\n",
              "    </tr>\n",
              "  </tbody>\n",
              "</table>\n",
              "<p>1633 rows × 8 columns</p>\n",
              "</div>\n",
              "      <button class=\"colab-df-convert\" onclick=\"convertToInteractive('df-d4ef8782-8705-48e2-a4d2-b8046bd21c86')\"\n",
              "              title=\"Convert this dataframe to an interactive table.\"\n",
              "              style=\"display:none;\">\n",
              "        \n",
              "  <svg xmlns=\"http://www.w3.org/2000/svg\" height=\"24px\"viewBox=\"0 0 24 24\"\n",
              "       width=\"24px\">\n",
              "    <path d=\"M0 0h24v24H0V0z\" fill=\"none\"/>\n",
              "    <path d=\"M18.56 5.44l.94 2.06.94-2.06 2.06-.94-2.06-.94-.94-2.06-.94 2.06-2.06.94zm-11 1L8.5 8.5l.94-2.06 2.06-.94-2.06-.94L8.5 2.5l-.94 2.06-2.06.94zm10 10l.94 2.06.94-2.06 2.06-.94-2.06-.94-.94-2.06-.94 2.06-2.06.94z\"/><path d=\"M17.41 7.96l-1.37-1.37c-.4-.4-.92-.59-1.43-.59-.52 0-1.04.2-1.43.59L10.3 9.45l-7.72 7.72c-.78.78-.78 2.05 0 2.83L4 21.41c.39.39.9.59 1.41.59.51 0 1.02-.2 1.41-.59l7.78-7.78 2.81-2.81c.8-.78.8-2.07 0-2.86zM5.41 20L4 18.59l7.72-7.72 1.47 1.35L5.41 20z\"/>\n",
              "  </svg>\n",
              "      </button>\n",
              "      \n",
              "  <style>\n",
              "    .colab-df-container {\n",
              "      display:flex;\n",
              "      flex-wrap:wrap;\n",
              "      gap: 12px;\n",
              "    }\n",
              "\n",
              "    .colab-df-convert {\n",
              "      background-color: #E8F0FE;\n",
              "      border: none;\n",
              "      border-radius: 50%;\n",
              "      cursor: pointer;\n",
              "      display: none;\n",
              "      fill: #1967D2;\n",
              "      height: 32px;\n",
              "      padding: 0 0 0 0;\n",
              "      width: 32px;\n",
              "    }\n",
              "\n",
              "    .colab-df-convert:hover {\n",
              "      background-color: #E2EBFA;\n",
              "      box-shadow: 0px 1px 2px rgba(60, 64, 67, 0.3), 0px 1px 3px 1px rgba(60, 64, 67, 0.15);\n",
              "      fill: #174EA6;\n",
              "    }\n",
              "\n",
              "    [theme=dark] .colab-df-convert {\n",
              "      background-color: #3B4455;\n",
              "      fill: #D2E3FC;\n",
              "    }\n",
              "\n",
              "    [theme=dark] .colab-df-convert:hover {\n",
              "      background-color: #434B5C;\n",
              "      box-shadow: 0px 1px 3px 1px rgba(0, 0, 0, 0.15);\n",
              "      filter: drop-shadow(0px 1px 2px rgba(0, 0, 0, 0.3));\n",
              "      fill: #FFFFFF;\n",
              "    }\n",
              "  </style>\n",
              "\n",
              "      <script>\n",
              "        const buttonEl =\n",
              "          document.querySelector('#df-d4ef8782-8705-48e2-a4d2-b8046bd21c86 button.colab-df-convert');\n",
              "        buttonEl.style.display =\n",
              "          google.colab.kernel.accessAllowed ? 'block' : 'none';\n",
              "\n",
              "        async function convertToInteractive(key) {\n",
              "          const element = document.querySelector('#df-d4ef8782-8705-48e2-a4d2-b8046bd21c86');\n",
              "          const dataTable =\n",
              "            await google.colab.kernel.invokeFunction('convertToInteractive',\n",
              "                                                     [key], {});\n",
              "          if (!dataTable) return;\n",
              "\n",
              "          const docLinkHtml = 'Like what you see? Visit the ' +\n",
              "            '<a target=\"_blank\" href=https://colab.research.google.com/notebooks/data_table.ipynb>data table notebook</a>'\n",
              "            + ' to learn more about interactive tables.';\n",
              "          element.innerHTML = '';\n",
              "          dataTable['output_type'] = 'display_data';\n",
              "          await google.colab.output.renderOutput(dataTable, element);\n",
              "          const docLink = document.createElement('div');\n",
              "          docLink.innerHTML = docLinkHtml;\n",
              "          element.appendChild(docLink);\n",
              "        }\n",
              "      </script>\n",
              "    </div>\n",
              "  </div>\n",
              "  "
            ],
            "text/plain": [
              "         id  ...                           achievement.name\n",
              "2         3  ...        거듭제곱과 거듭제곱근의 뜻을 알고, 그 성질을 설명할 수 있다.\n",
              "8         4  ...        거듭제곱과 거듭제곱근의 뜻을 알고, 그 성질을 설명할 수 있다.\n",
              "12       10  ...        거듭제곱과 거듭제곱근의 뜻을 알고, 그 성질을 설명할 수 있다.\n",
              "29       23  ...                 이등변삼각형의 성질을 이해하고 설명할 수 있다.\n",
              "28       24  ...                 이등변삼각형의 성질을 이해하고 설명할 수 있다.\n",
              "...     ...  ...                                        ...\n",
              "6872  11254  ...              실생활 자료를 수집하여 막대그래프로 나타낼 수 있다.\n",
              "6878  11265  ...    연속적인 변량에 대한 자료를 수집하여 꺾은 선그래프로 나타낼 수 있다.\n",
              "6882  11269  ...  10000 이상의 큰 수에 대한 자릿값과 위치적 기수법을 원리를 이해한다.\n",
              "6884  11270  ...  10000 이상의 큰 수에 대한 자릿값과 위치적 기수법을 원리를 이해한다.\n",
              "6886  11271  ...  10000 이상의 큰 수에 대한 자릿값과 위치적 기수법을 원리를 이해한다.\n",
              "\n",
              "[1633 rows x 8 columns]"
            ]
          },
          "metadata": {},
          "execution_count": 20
        }
      ]
    },
    {
      "cell_type": "code",
      "source": [
        ""
      ],
      "metadata": {
        "id": "G-TvM1yJpRW1"
      },
      "execution_count": null,
      "outputs": []
    },
    {
      "cell_type": "markdown",
      "source": [
        "#**2 데이터 전처리(2)**"
      ],
      "metadata": {
        "id": "9QoUHuQP43Hl"
      }
    },
    {
      "cell_type": "markdown",
      "source": [
        "## 2-1 문항별 주요개념 Mapping"
      ],
      "metadata": {
        "id": "8VMSNhZ947Cg"
      }
    },
    {
      "cell_type": "markdown",
      "source": [
        "###2-1-1 중등 문항 데이터 추출\n",
        "중등 문항에 등장하는 Knowledge Tag를 추출한 후, 해당 Tag의 개념 데이터만 남긴다."
      ],
      "metadata": {
        "id": "G0K5t24q76ea"
      }
    },
    {
      "cell_type": "code",
      "source": [
        "# 중등 문항에 등장하는 knowledge Tag만 추출\n",
        "\n",
        "mid_knowledge_Tag = []\n",
        "mid_knowledge_Tag += question7['knowledgeTag'].unique().tolist()\n",
        "mid_knowledge_Tag += question8['knowledgeTag'].unique().tolist()\n",
        "mid_knowledge_Tag += question9['knowledgeTag'].unique().tolist()\n",
        "smid = set(mid_knowledge_Tag)\n",
        "mid_knowledge_Tag = list(smid)\n",
        "\n",
        "print(mid_knowledge_Tag)"
      ],
      "metadata": {
        "colab": {
          "base_uri": "https://localhost:8080/"
        },
        "id": "US4z2rq278AJ",
        "outputId": "d192f008-5ac9-4d0b-fc85-ce837f76c6a2"
      },
      "execution_count": null,
      "outputs": [
        {
          "output_type": "stream",
          "name": "stdout",
          "text": [
            "[23, 24, 25, 26, 30, 31, 32, 78, 8289, 4209, 4210, 4211, 116, 117, 121, 4232, 4234, 4236, 4242, 4243, 8343, 162, 163, 164, 169, 2613, 8403, 8404, 8420, 8421, 8422, 8423, 8424, 8425, 8426, 8427, 8428, 8429, 8431, 8432, 8433, 10568, 10569, 10572, 10573, 10590, 10607, 10608, 10610, 10624, 10625, 4498, 4967, 4970, 4972, 4974, 4975, 4976, 4978, 4979, 10741, 4604, 4605, 10759, 10760, 10764, 10766, 10778, 10784, 2598, 2600, 2601, 2602, 2603, 2604, 2605, 10795, 2607, 2608, 4657, 4658, 4659, 4660, 4661, 4662, 4663, 4664, 4665, 2610, 4667, 4668, 4669, 2614, 4671, 4672, 4673, 10819, 4678, 4679, 4680, 4681, 4682, 4683, 4684, 4685, 4686, 4687, 4688, 10834, 2644, 10837, 10838, 2647, 2648, 10841, 8794, 4697, 2652, 4699, 607, 608, 4709, 4723, 4724, 4725, 8830, 8831, 6784, 6785, 4746, 6795, 6796, 6800, 6801, 6802, 2711, 2712, 2714, 2715, 2717, 2718, 2719, 2721, 2723, 8868, 2725, 2726, 8871, 8872, 6825, 6826, 6827, 6828, 8875, 8874, 4783, 4784, 8878, 8877, 8880, 8879, 8885, 8881, 8887, 8886, 4793, 8889, 4795, 8890, 8891, 8893, 4799, 4800, 4801, 4802, 4803, 8892, 8896, 8895, 8894, 8897, 8899, 8901, 8900, 8902, 8904, 8905, 8906, 8908, 8910, 8911, 8913, 8931, 972, 2848, 2849, 2852, 2853, 974, 975, 2868, 2869, 2870, 2871, 9021, 9022, 2887, 2611, 9044, 9046, 2612, 9049, 9050, 9051, 9052, 9053, 9054, 9055, 4959, 4957, 4961, 4962, 4963, 4965, 9062, 4964, 9064, 9065, 9066, 9067, 9068, 9069, 9070, 9071, 9072, 9073, 4969, 9075, 4971, 9077, 9078, 9079, 9080, 9081, 9082, 9083, 7034, 4980, 9086, 9090, 9091, 9098, 9099, 9120, 9121, 9122, 9124, 9125, 9126, 9160, 9161, 9162, 971, 9164, 9165, 9166, 9167, 9168, 9169, 9170, 9171, 9172, 7118, 7120, 7126, 7127, 7125, 9184, 9185, 9186, 9187, 1000, 1002, 1009, 1010, 1011, 7167, 7170, 7171, 7172, 5141, 5142, 3097, 7248, 1107, 1108, 1110, 7259, 1117, 1120, 5261, 1180, 1181, 1182, 1183, 1184, 1185, 1200, 1201, 1202, 1203, 5308, 5317, 3288, 1248, 1249, 1250, 1251, 1252, 1253, 1255, 1256, 1257, 1259, 1260, 1261, 1262, 1263, 1264, 1266, 1267, 1268, 1269, 1271, 1273, 9497, 9498, 9500, 9519, 1356, 1394, 1395, 1396, 1397, 9592, 2727, 1442, 1443, 1444, 9660, 9661, 5595, 5596, 7665, 7667, 5619, 5620, 9728, 9743, 9744, 9745, 5653, 5654, 5655, 5656, 9765, 9787, 9797, 4797, 5705, 5707, 9811, 9829, 9832, 4804, 4805, 9846, 9852, 5761, 5762, 5763, 9858, 9857, 5780, 5781, 5782, 5783, 5788, 7856, 5808, 5809, 5810, 7862, 7863, 7866, 7867, 9923, 9924, 9925, 9926, 9927, 9928, 9929, 3792, 3793, 3794, 3795, 3798, 3804, 3806, 3820, 3821, 10168, 10169, 10174, 10180, 10181, 10182, 10190, 10196, 2010]\n"
          ]
        }
      ]
    },
    {
      "cell_type": "code",
      "source": [
        "# 중등 문항 데이터 셋만 추출하여 mid_knowledge_df에 저장\n",
        "mid_knowledge_df = knowledge_df[knowledge_df['id'].isin(mid_knowledge_Tag)]\n",
        "mid_knowledge_df"
      ],
      "metadata": {
        "colab": {
          "base_uri": "https://localhost:8080/",
          "height": 597
        },
        "id": "ufdv-r4q_09e",
        "outputId": "1c115b65-b322-4454-df2b-5be0b8f76e24"
      },
      "execution_count": null,
      "outputs": [
        {
          "output_type": "execute_result",
          "data": {
            "text/html": [
              "<div>\n",
              "<style scoped>\n",
              "    .dataframe tbody tr th:only-of-type {\n",
              "        vertical-align: middle;\n",
              "    }\n",
              "\n",
              "    .dataframe tbody tr th {\n",
              "        vertical-align: top;\n",
              "    }\n",
              "\n",
              "    .dataframe thead th {\n",
              "        text-align: right;\n",
              "    }\n",
              "</style>\n",
              "<table border=\"1\" class=\"dataframe\">\n",
              "  <thead>\n",
              "    <tr style=\"text-align: right;\">\n",
              "      <th></th>\n",
              "      <th>id</th>\n",
              "      <th>name</th>\n",
              "      <th>semester</th>\n",
              "      <th>description</th>\n",
              "      <th>chapter.id</th>\n",
              "      <th>chapter.name</th>\n",
              "      <th>achievement.id</th>\n",
              "      <th>achievement.name</th>\n",
              "    </tr>\n",
              "  </thead>\n",
              "  <tbody>\n",
              "    <tr>\n",
              "      <th>29</th>\n",
              "      <td>23</td>\n",
              "      <td>이등변삼각형의 밑각의 성질</td>\n",
              "      <td>중등-중2-2학기</td>\n",
              "      <td>이등변삼각형의 두 밑각의 크기는 같다.</td>\n",
              "      <td>496</td>\n",
              "      <td>도형의 성질 &gt; 삼각형의 성질 &gt; 이등변삼각형의 성질</td>\n",
              "      <td>174</td>\n",
              "      <td>이등변삼각형의 성질을 이해하고 설명할 수 있다.</td>\n",
              "    </tr>\n",
              "    <tr>\n",
              "      <th>28</th>\n",
              "      <td>24</td>\n",
              "      <td>이등변삼각형의 꼭지각의 이등분선의 성질</td>\n",
              "      <td>중등-중2-2학기</td>\n",
              "      <td>이등변삼각형의 꼭지각의 이등분선은 밑변을 수직이등분 한다.</td>\n",
              "      <td>496</td>\n",
              "      <td>도형의 성질 &gt; 삼각형의 성질 &gt; 이등변삼각형의 성질</td>\n",
              "      <td>174</td>\n",
              "      <td>이등변삼각형의 성질을 이해하고 설명할 수 있다.</td>\n",
              "    </tr>\n",
              "    <tr>\n",
              "      <th>30</th>\n",
              "      <td>26</td>\n",
              "      <td>직각삼각형의 합동 조건</td>\n",
              "      <td>중등-중2-2학기</td>\n",
              "      <td>(1) 빗변의 길이와 한 예각의 크기가 각각 같은 두 직각삼각형은 합동이다. (RH...</td>\n",
              "      <td>497</td>\n",
              "      <td>도형의 성질 &gt; 삼각형의 성질 &gt; 직각삼각형의 합동조건</td>\n",
              "      <td>170</td>\n",
              "      <td>삼각형의 합동 조건을 이해하고 두 삼각형이 합동인지 판별할 수 있다.</td>\n",
              "    </tr>\n",
              "    <tr>\n",
              "      <th>1201</th>\n",
              "      <td>30</td>\n",
              "      <td>삼각형의 외접원과 외심</td>\n",
              "      <td>중등-중2-2학기</td>\n",
              "      <td>삼각형 ABC의 모든 꼭짓점이 원 O 위에 있을 때, 원 O는 삼각형 ABC에 외접...</td>\n",
              "      <td>498</td>\n",
              "      <td>도형의 성질 &gt; 삼각형의 성질 &gt; 삼각형의 외심과 내심</td>\n",
              "      <td>175</td>\n",
              "      <td>삼각형의 외심과 내심의 성질을 이해하고 설명할 수 있다.</td>\n",
              "    </tr>\n",
              "    <tr>\n",
              "      <th>34</th>\n",
              "      <td>32</td>\n",
              "      <td>삼각형의 외심의 응용</td>\n",
              "      <td>중등-중2-2학기</td>\n",
              "      <td>점 O가 삼각형의 외심이고, $\\angle OAB=\\angle OBA=x\\degre...</td>\n",
              "      <td>498</td>\n",
              "      <td>도형의 성질 &gt; 삼각형의 성질 &gt; 삼각형의 외심과 내심</td>\n",
              "      <td>175</td>\n",
              "      <td>삼각형의 외심과 내심의 성질을 이해하고 설명할 수 있다.</td>\n",
              "    </tr>\n",
              "    <tr>\n",
              "      <th>...</th>\n",
              "      <td>...</td>\n",
              "      <td>...</td>\n",
              "      <td>...</td>\n",
              "      <td>...</td>\n",
              "      <td>...</td>\n",
              "      <td>...</td>\n",
              "      <td>...</td>\n",
              "      <td>...</td>\n",
              "    </tr>\n",
              "    <tr>\n",
              "      <th>6794</th>\n",
              "      <td>10819</td>\n",
              "      <td>선분의 길이</td>\n",
              "      <td>중등-중1-2학기</td>\n",
              "      <td>두 선분 AB, CD의 길이가 같을 때, 기호로 $\\overline{AB}=\\ove...</td>\n",
              "      <td>453</td>\n",
              "      <td>기본도형 &gt; 기본도형 &gt; 점, 선, 면</td>\n",
              "      <td>167</td>\n",
              "      <td>점, 선, 면, 각을 이해하고, 점, 직선, 평면의 위치 관계를 설명할 수 있다.</td>\n",
              "    </tr>\n",
              "    <tr>\n",
              "      <th>4517</th>\n",
              "      <td>10834</td>\n",
              "      <td>점과 평면 사이의 거리</td>\n",
              "      <td>중등-중1-2학기</td>\n",
              "      <td>평면 P 위에 있지 않은 점 A에서 평면 P에 내린 수선의 발 H까지의 거리, 즉 ...</td>\n",
              "      <td>455</td>\n",
              "      <td>기본도형 &gt; 기본도형 &gt; 점, 직선, 평면의 위치관계</td>\n",
              "      <td>167</td>\n",
              "      <td>점, 선, 면, 각을 이해하고, 점, 직선, 평면의 위치 관계를 설명할 수 있다.</td>\n",
              "    </tr>\n",
              "    <tr>\n",
              "      <th>6812</th>\n",
              "      <td>10837</td>\n",
              "      <td>삼각형이 하나로 정해지지 않는 경우</td>\n",
              "      <td>중등-중1-2학기</td>\n",
              "      <td>1.세 변의 길이가 주어져도 가장 긴 변의 길이가 나머지 두 변의 길이의 합보다 크...</td>\n",
              "      <td>458</td>\n",
              "      <td>기본도형 &gt; 작도와 합동 &gt; 삼각형의 작도</td>\n",
              "      <td>169</td>\n",
              "      <td>삼각형을 작도할 수 있다.</td>\n",
              "    </tr>\n",
              "    <tr>\n",
              "      <th>6814</th>\n",
              "      <td>10838</td>\n",
              "      <td>대응</td>\n",
              "      <td>중등-중1-2학기</td>\n",
              "      <td>1.합동인 두 도형에서 서로 포개어지는 꼭짓점과 꼭짓점, 변과 변, 각과 각은 서로...</td>\n",
              "      <td>459</td>\n",
              "      <td>기본도형 &gt; 작도와 합동 &gt; 삼각형의 합동</td>\n",
              "      <td>170</td>\n",
              "      <td>삼각형의 합동 조건을 이해하고 두 삼각형이 합동인지 판별할 수 있다.</td>\n",
              "    </tr>\n",
              "    <tr>\n",
              "      <th>6820</th>\n",
              "      <td>10841</td>\n",
              "      <td>정다각형의 한 내각의 크기와 한 외각의 크기의 비</td>\n",
              "      <td>중등-중1-2학기</td>\n",
              "      <td>$(한 내각의 크기)+(한 외각의 크기)=180\\degree$이므로 (한 내각의 크...</td>\n",
              "      <td>461</td>\n",
              "      <td>평면도형과 입체도형 &gt; 평면도형의 성질 &gt; 삼각형의 내각과 외각</td>\n",
              "      <td>172</td>\n",
              "      <td>다각형의 내각과 외각의 크기의 합을 구할 수 있다.</td>\n",
              "    </tr>\n",
              "  </tbody>\n",
              "</table>\n",
              "<p>378 rows × 8 columns</p>\n",
              "</div>"
            ],
            "text/plain": [
              "         id  ...                               achievement.name\n",
              "29       23  ...                     이등변삼각형의 성질을 이해하고 설명할 수 있다.\n",
              "28       24  ...                     이등변삼각형의 성질을 이해하고 설명할 수 있다.\n",
              "30       26  ...         삼각형의 합동 조건을 이해하고 두 삼각형이 합동인지 판별할 수 있다.\n",
              "1201     30  ...                삼각형의 외심과 내심의 성질을 이해하고 설명할 수 있다.\n",
              "34       32  ...                삼각형의 외심과 내심의 성질을 이해하고 설명할 수 있다.\n",
              "...     ...  ...                                            ...\n",
              "6794  10819  ...  점, 선, 면, 각을 이해하고, 점, 직선, 평면의 위치 관계를 설명할 수 있다.\n",
              "4517  10834  ...  점, 선, 면, 각을 이해하고, 점, 직선, 평면의 위치 관계를 설명할 수 있다.\n",
              "6812  10837  ...                                 삼각형을 작도할 수 있다.\n",
              "6814  10838  ...         삼각형의 합동 조건을 이해하고 두 삼각형이 합동인지 판별할 수 있다.\n",
              "6820  10841  ...                   다각형의 내각과 외각의 크기의 합을 구할 수 있다.\n",
              "\n",
              "[378 rows x 8 columns]"
            ]
          },
          "metadata": {},
          "execution_count": 13
        }
      ]
    },
    {
      "cell_type": "markdown",
      "source": [
        "###2-1-2 소개념과 주요개념 Mapping\n",
        "소개념과 주요개념을 배열을 이용하여 mapping한 후, 데이터 프레임에 매칭된 주요 개념을 추가한다. "
      ],
      "metadata": {
        "id": "Vq0s1N6jt7ao"
      }
    },
    {
      "cell_type": "code",
      "source": [
        "# 소개념 열 추가\n",
        "mid_knowledge_df = mid_knowledge_df.assign(small_concept = lambda x: x['chapter.name'].str.split('>').str[1].str.strip())\n",
        "\n",
        "# 개념 mapping. 소개념 배열은 2차원 배열로, 각 주요개념과 동일한 index에 해당하는 소개념이 저장되어 있다. \n",
        "# print(mid_knowledge_df['small_concept'].unique())\n",
        "mid_small_concept = [['소인수분해', '정수와유리수', '유리수와 소수', '제곱근과 실수', '근호를 포함한 식의 계산'], \n",
        "                     ['다항식의 곱셈','다항식의 인수분해','문자의 사용과 식의 계산', '다항식의 계산', '단항식의 계산'], \n",
        "                     ['이차방정식','일차방정식','일차부등식', '연립일차방정식'], ['이차함수와 그래프','좌표평면과 그래프', '일차함수와 그래프', '일차함수와 일차방정식의 관계', '정비례와 반비례'],\n",
        "                     ['기본도형', '삼각형의 성질','사각형의 성질', '삼각비', '원과 직선', '원주각', '피타고라스 정리', '작도와 합동', '평면도형의 성질', '도형의 닮음', '닮음의 응용'],\n",
        "                     ['입체도형의 성질'],\n",
        "                     ['경우의 수', '확률의 계산'],['대푯값과 산포도', '자료의 정리와 해석', '상관관계']]\n",
        "mid_concept = ['수와 연산', '다항식', '방정식과 부등식', '함수와 그래프', '평면도형', '입체도형', '확률', '통계']\n",
        "\n",
        "\n",
        "def concept_mapping(x): # 소개념을 입력받아 해당하는 주요개념을 반환하는 함수 \n",
        "  s_con = x\n",
        "  if any(s_con in l for l in mid_small_concept):\n",
        "    for i in range(len(mid_concept)):\n",
        "      if s_con in mid_small_concept[i]:\n",
        "        return mid_concept[i]\n",
        "  else:\n",
        "    return '미입력'\n",
        "\n",
        "\n",
        "def concept_id_mapping(x): # 주요개념의 index(고유한 id)를 반환\n",
        "  for i in range(len(mid_concept)):\n",
        "    if x == mid_concept[i]:\n",
        "        return i\n",
        "\n",
        "\n",
        "# 주요개념 열 추가\n",
        "mid_knowledge_df = mid_knowledge_df.assign(concept = lambda x: x['small_concept'])\n",
        "mid_knowledge_df['concept'] = mid_knowledge_df['small_concept'].apply(concept_mapping)\n",
        "\n",
        "# mapping되지 않은 데이터가 있는지 확인\n",
        "not_matched = mid_knowledge_df[mid_knowledge_df['concept']=='미입력'] \n",
        "# not_matched\n",
        "\n",
        "\n",
        "# 주요개념의 id 추가 \n",
        "mid_knowledge_df = mid_knowledge_df.assign(concept_id = lambda x: x['concept'])\n",
        "mid_knowledge_df['concept_id'] = mid_knowledge_df['concept_id'].apply(concept_id_mapping)\n",
        "\n",
        "\n",
        "# 개념 id, 주요개념, 주요개념 id만 남기고 간략화\n",
        "mid_knowledge_df = mid_knowledge_df[['id', 'concept', 'concept_id']]\n",
        "mid_knowledge_df.drop_duplicates(['id'])\n",
        "mid_knowledge_df"
      ],
      "metadata": {
        "colab": {
          "base_uri": "https://localhost:8080/",
          "height": 424
        },
        "id": "-Gn0oIXvIJjy",
        "outputId": "3e93e2de-8fa7-429b-b052-484c436cf6d0"
      },
      "execution_count": null,
      "outputs": [
        {
          "output_type": "execute_result",
          "data": {
            "text/html": [
              "<div>\n",
              "<style scoped>\n",
              "    .dataframe tbody tr th:only-of-type {\n",
              "        vertical-align: middle;\n",
              "    }\n",
              "\n",
              "    .dataframe tbody tr th {\n",
              "        vertical-align: top;\n",
              "    }\n",
              "\n",
              "    .dataframe thead th {\n",
              "        text-align: right;\n",
              "    }\n",
              "</style>\n",
              "<table border=\"1\" class=\"dataframe\">\n",
              "  <thead>\n",
              "    <tr style=\"text-align: right;\">\n",
              "      <th></th>\n",
              "      <th>id</th>\n",
              "      <th>concept</th>\n",
              "      <th>concept_id</th>\n",
              "    </tr>\n",
              "  </thead>\n",
              "  <tbody>\n",
              "    <tr>\n",
              "      <th>29</th>\n",
              "      <td>23</td>\n",
              "      <td>평면도형</td>\n",
              "      <td>4</td>\n",
              "    </tr>\n",
              "    <tr>\n",
              "      <th>28</th>\n",
              "      <td>24</td>\n",
              "      <td>평면도형</td>\n",
              "      <td>4</td>\n",
              "    </tr>\n",
              "    <tr>\n",
              "      <th>30</th>\n",
              "      <td>26</td>\n",
              "      <td>평면도형</td>\n",
              "      <td>4</td>\n",
              "    </tr>\n",
              "    <tr>\n",
              "      <th>1201</th>\n",
              "      <td>30</td>\n",
              "      <td>평면도형</td>\n",
              "      <td>4</td>\n",
              "    </tr>\n",
              "    <tr>\n",
              "      <th>34</th>\n",
              "      <td>32</td>\n",
              "      <td>평면도형</td>\n",
              "      <td>4</td>\n",
              "    </tr>\n",
              "    <tr>\n",
              "      <th>...</th>\n",
              "      <td>...</td>\n",
              "      <td>...</td>\n",
              "      <td>...</td>\n",
              "    </tr>\n",
              "    <tr>\n",
              "      <th>6794</th>\n",
              "      <td>10819</td>\n",
              "      <td>평면도형</td>\n",
              "      <td>4</td>\n",
              "    </tr>\n",
              "    <tr>\n",
              "      <th>4517</th>\n",
              "      <td>10834</td>\n",
              "      <td>평면도형</td>\n",
              "      <td>4</td>\n",
              "    </tr>\n",
              "    <tr>\n",
              "      <th>6812</th>\n",
              "      <td>10837</td>\n",
              "      <td>평면도형</td>\n",
              "      <td>4</td>\n",
              "    </tr>\n",
              "    <tr>\n",
              "      <th>6814</th>\n",
              "      <td>10838</td>\n",
              "      <td>평면도형</td>\n",
              "      <td>4</td>\n",
              "    </tr>\n",
              "    <tr>\n",
              "      <th>6820</th>\n",
              "      <td>10841</td>\n",
              "      <td>평면도형</td>\n",
              "      <td>4</td>\n",
              "    </tr>\n",
              "  </tbody>\n",
              "</table>\n",
              "<p>378 rows × 3 columns</p>\n",
              "</div>"
            ],
            "text/plain": [
              "         id concept  concept_id\n",
              "29       23    평면도형           4\n",
              "28       24    평면도형           4\n",
              "30       26    평면도형           4\n",
              "1201     30    평면도형           4\n",
              "34       32    평면도형           4\n",
              "...     ...     ...         ...\n",
              "6794  10819    평면도형           4\n",
              "4517  10834    평면도형           4\n",
              "6812  10837    평면도형           4\n",
              "6814  10838    평면도형           4\n",
              "6820  10841    평면도형           4\n",
              "\n",
              "[378 rows x 3 columns]"
            ]
          },
          "metadata": {},
          "execution_count": 15
        }
      ]
    },
    {
      "cell_type": "markdown",
      "source": [
        "###2-1-3 문항 데이터 추가\n",
        "문항 데이터에 이전 가공한 주요개념 데이터를 연결한다"
      ],
      "metadata": {
        "id": "e-yQa57zvzvE"
      }
    },
    {
      "cell_type": "code",
      "source": [
        "# 문항 데이터에 주요개념 데이터를 연결\n",
        "question7_concept = pd.merge(question7, mid_knowledge_df, left_on='knowledgeTag', right_on='id')\n",
        "question8_concept = pd.merge(question8, mid_knowledge_df, left_on='knowledgeTag', right_on='id')\n",
        "question9_concept = pd.merge(question9, mid_knowledge_df, left_on='knowledgeTag', right_on='id')\n",
        "\n",
        "question7_concept"
      ],
      "metadata": {
        "colab": {
          "base_uri": "https://localhost:8080/",
          "height": 424
        },
        "id": "f5wIlBJEW-tX",
        "outputId": "3c0e580e-6301-4f0e-e5ad-b0febb07c4ee"
      },
      "execution_count": null,
      "outputs": [
        {
          "output_type": "execute_result",
          "data": {
            "text/html": [
              "<div>\n",
              "<style scoped>\n",
              "    .dataframe tbody tr th:only-of-type {\n",
              "        vertical-align: middle;\n",
              "    }\n",
              "\n",
              "    .dataframe tbody tr th {\n",
              "        vertical-align: top;\n",
              "    }\n",
              "\n",
              "    .dataframe thead th {\n",
              "        text-align: right;\n",
              "    }\n",
              "</style>\n",
              "<table border=\"1\" class=\"dataframe\">\n",
              "  <thead>\n",
              "    <tr style=\"text-align: right;\">\n",
              "      <th></th>\n",
              "      <th>Unnamed: 0</th>\n",
              "      <th>testID</th>\n",
              "      <th>assessmentItemID</th>\n",
              "      <th>difficultyLevel</th>\n",
              "      <th>discriminationLevel</th>\n",
              "      <th>guessLevel</th>\n",
              "      <th>knowledgeTag</th>\n",
              "      <th>Timestamp</th>\n",
              "      <th>id</th>\n",
              "      <th>concept</th>\n",
              "      <th>concept_id</th>\n",
              "    </tr>\n",
              "  </thead>\n",
              "  <tbody>\n",
              "    <tr>\n",
              "      <th>0</th>\n",
              "      <td>1</td>\n",
              "      <td>A070000001</td>\n",
              "      <td>A070001008</td>\n",
              "      <td>-0.328800</td>\n",
              "      <td>2.714890</td>\n",
              "      <td>0.065269</td>\n",
              "      <td>116</td>\n",
              "      <td>2021-01-08 06:08:25.336946</td>\n",
              "      <td>116</td>\n",
              "      <td>수와 연산</td>\n",
              "      <td>0</td>\n",
              "    </tr>\n",
              "    <tr>\n",
              "      <th>1</th>\n",
              "      <td>2</td>\n",
              "      <td>A070000001</td>\n",
              "      <td>A070001007</td>\n",
              "      <td>-0.998434</td>\n",
              "      <td>2.944685</td>\n",
              "      <td>0.003525</td>\n",
              "      <td>116</td>\n",
              "      <td>2021-01-08 06:08:25.336946</td>\n",
              "      <td>116</td>\n",
              "      <td>수와 연산</td>\n",
              "      <td>0</td>\n",
              "    </tr>\n",
              "    <tr>\n",
              "      <th>2</th>\n",
              "      <td>5</td>\n",
              "      <td>A070000001</td>\n",
              "      <td>A070001009</td>\n",
              "      <td>0.570539</td>\n",
              "      <td>1.676606</td>\n",
              "      <td>0.052382</td>\n",
              "      <td>116</td>\n",
              "      <td>2021-01-08 06:08:25.336946</td>\n",
              "      <td>116</td>\n",
              "      <td>수와 연산</td>\n",
              "      <td>0</td>\n",
              "    </tr>\n",
              "    <tr>\n",
              "      <th>3</th>\n",
              "      <td>9</td>\n",
              "      <td>A070000002</td>\n",
              "      <td>A070002007</td>\n",
              "      <td>-0.684678</td>\n",
              "      <td>2.281312</td>\n",
              "      <td>0.010723</td>\n",
              "      <td>116</td>\n",
              "      <td>2021-01-08 06:08:25.336946</td>\n",
              "      <td>116</td>\n",
              "      <td>수와 연산</td>\n",
              "      <td>0</td>\n",
              "    </tr>\n",
              "    <tr>\n",
              "      <th>4</th>\n",
              "      <td>12</td>\n",
              "      <td>A070000002</td>\n",
              "      <td>A070002008</td>\n",
              "      <td>0.147816</td>\n",
              "      <td>2.912499</td>\n",
              "      <td>0.000005</td>\n",
              "      <td>116</td>\n",
              "      <td>2021-01-08 06:08:25.336946</td>\n",
              "      <td>116</td>\n",
              "      <td>수와 연산</td>\n",
              "      <td>0</td>\n",
              "    </tr>\n",
              "    <tr>\n",
              "      <th>...</th>\n",
              "      <td>...</td>\n",
              "      <td>...</td>\n",
              "      <td>...</td>\n",
              "      <td>...</td>\n",
              "      <td>...</td>\n",
              "      <td>...</td>\n",
              "      <td>...</td>\n",
              "      <td>...</td>\n",
              "      <td>...</td>\n",
              "      <td>...</td>\n",
              "      <td>...</td>\n",
              "    </tr>\n",
              "    <tr>\n",
              "      <th>2539</th>\n",
              "      <td>2616</td>\n",
              "      <td>A070000161</td>\n",
              "      <td>A070161006</td>\n",
              "      <td>0.858422</td>\n",
              "      <td>2.624210</td>\n",
              "      <td>0.127701</td>\n",
              "      <td>9126</td>\n",
              "      <td>2021-01-08 06:08:25.336946</td>\n",
              "      <td>9126</td>\n",
              "      <td>통계</td>\n",
              "      <td>7</td>\n",
              "    </tr>\n",
              "    <tr>\n",
              "      <th>2540</th>\n",
              "      <td>2623</td>\n",
              "      <td>A070000162</td>\n",
              "      <td>A070162005</td>\n",
              "      <td>0.022331</td>\n",
              "      <td>3.976377</td>\n",
              "      <td>0.288654</td>\n",
              "      <td>9126</td>\n",
              "      <td>2021-01-08 06:08:25.336946</td>\n",
              "      <td>9126</td>\n",
              "      <td>통계</td>\n",
              "      <td>7</td>\n",
              "    </tr>\n",
              "    <tr>\n",
              "      <th>2541</th>\n",
              "      <td>2626</td>\n",
              "      <td>A070000162</td>\n",
              "      <td>A070162006</td>\n",
              "      <td>0.670332</td>\n",
              "      <td>14.912332</td>\n",
              "      <td>0.127810</td>\n",
              "      <td>9126</td>\n",
              "      <td>2021-01-08 06:08:25.336946</td>\n",
              "      <td>9126</td>\n",
              "      <td>통계</td>\n",
              "      <td>7</td>\n",
              "    </tr>\n",
              "    <tr>\n",
              "      <th>2542</th>\n",
              "      <td>2635</td>\n",
              "      <td>A070000163</td>\n",
              "      <td>A070163007</td>\n",
              "      <td>0.488021</td>\n",
              "      <td>1.969207</td>\n",
              "      <td>0.125956</td>\n",
              "      <td>9126</td>\n",
              "      <td>2021-01-08 06:08:25.336946</td>\n",
              "      <td>9126</td>\n",
              "      <td>통계</td>\n",
              "      <td>7</td>\n",
              "    </tr>\n",
              "    <tr>\n",
              "      <th>2543</th>\n",
              "      <td>2638</td>\n",
              "      <td>A070000164</td>\n",
              "      <td>A070164007</td>\n",
              "      <td>0.144939</td>\n",
              "      <td>2.145620</td>\n",
              "      <td>0.009020</td>\n",
              "      <td>9126</td>\n",
              "      <td>2021-01-08 06:08:25.336946</td>\n",
              "      <td>9126</td>\n",
              "      <td>통계</td>\n",
              "      <td>7</td>\n",
              "    </tr>\n",
              "  </tbody>\n",
              "</table>\n",
              "<p>2544 rows × 11 columns</p>\n",
              "</div>"
            ],
            "text/plain": [
              "      Unnamed: 0      testID assessmentItemID  ...    id  concept  concept_id\n",
              "0              1  A070000001       A070001008  ...   116    수와 연산           0\n",
              "1              2  A070000001       A070001007  ...   116    수와 연산           0\n",
              "2              5  A070000001       A070001009  ...   116    수와 연산           0\n",
              "3              9  A070000002       A070002007  ...   116    수와 연산           0\n",
              "4             12  A070000002       A070002008  ...   116    수와 연산           0\n",
              "...          ...         ...              ...  ...   ...      ...         ...\n",
              "2539        2616  A070000161       A070161006  ...  9126       통계           7\n",
              "2540        2623  A070000162       A070162005  ...  9126       통계           7\n",
              "2541        2626  A070000162       A070162006  ...  9126       통계           7\n",
              "2542        2635  A070000163       A070163007  ...  9126       통계           7\n",
              "2543        2638  A070000164       A070164007  ...  9126       통계           7\n",
              "\n",
              "[2544 rows x 11 columns]"
            ]
          },
          "metadata": {},
          "execution_count": 13
        }
      ]
    },
    {
      "cell_type": "code",
      "source": [
        "# 중복 문항 데이터가 있을 경우, 중복 제거\n",
        "question7_concept = question7_concept.drop_duplicates(['assessmentItemID'])\n",
        "question8_concept = question8_concept.drop_duplicates(['assessmentItemID'])\n",
        "question9_concept = question9_concept.drop_duplicates(['assessmentItemID'])"
      ],
      "metadata": {
        "id": "2uAEfaQPuiSb"
      },
      "execution_count": null,
      "outputs": []
    },
    {
      "cell_type": "code",
      "source": [
        "# 난이도에 따른 문항별 가중치 미리 계산 \n",
        "\n",
        "def cal_dif(l): # 가중치 계산 함수\n",
        "  if l < -2.0: \n",
        "    return 0.5\n",
        "  elif l < -0.5:\n",
        "    return 0.6\n",
        "  elif l < 0.5:\n",
        "    return 0.75\n",
        "  elif l < 2.0:\n",
        "    return 0.9\n",
        "  else:\n",
        "    return 1.0\n",
        "\n",
        "# 가중치를 계산하여 가중치 열 추가\n",
        "question7_concept = question7_concept.assign(weight = lambda x: x['difficultyLevel'])\n",
        "question7_concept['weight'] = question7_concept['weight'].apply(cal_dif)\n",
        "\n",
        "question8_concept = question8_concept.assign(weight = lambda x: x['difficultyLevel'])\n",
        "question8_concept['weight'] = question8_concept['weight'].apply(cal_dif)\n",
        "\n",
        "question9_concept = question9_concept.assign(weight = lambda x: x['difficultyLevel'])\n",
        "question9_concept['weight'] = question9_concept['weight'].apply(cal_dif)\n",
        "\n",
        "question7_concept"
      ],
      "metadata": {
        "colab": {
          "base_uri": "https://localhost:8080/",
          "height": 424
        },
        "id": "4EV1nmFsmEC4",
        "outputId": "9e039e1d-1098-492e-e231-61138b49caf7"
      },
      "execution_count": null,
      "outputs": [
        {
          "output_type": "execute_result",
          "data": {
            "text/html": [
              "<div>\n",
              "<style scoped>\n",
              "    .dataframe tbody tr th:only-of-type {\n",
              "        vertical-align: middle;\n",
              "    }\n",
              "\n",
              "    .dataframe tbody tr th {\n",
              "        vertical-align: top;\n",
              "    }\n",
              "\n",
              "    .dataframe thead th {\n",
              "        text-align: right;\n",
              "    }\n",
              "</style>\n",
              "<table border=\"1\" class=\"dataframe\">\n",
              "  <thead>\n",
              "    <tr style=\"text-align: right;\">\n",
              "      <th></th>\n",
              "      <th>Unnamed: 0</th>\n",
              "      <th>testID</th>\n",
              "      <th>assessmentItemID</th>\n",
              "      <th>difficultyLevel</th>\n",
              "      <th>discriminationLevel</th>\n",
              "      <th>guessLevel</th>\n",
              "      <th>knowledgeTag</th>\n",
              "      <th>Timestamp</th>\n",
              "      <th>id</th>\n",
              "      <th>concept</th>\n",
              "      <th>concept_id</th>\n",
              "      <th>weight</th>\n",
              "    </tr>\n",
              "  </thead>\n",
              "  <tbody>\n",
              "    <tr>\n",
              "      <th>0</th>\n",
              "      <td>1</td>\n",
              "      <td>A070000001</td>\n",
              "      <td>A070001008</td>\n",
              "      <td>-0.328800</td>\n",
              "      <td>2.714890</td>\n",
              "      <td>0.065269</td>\n",
              "      <td>116</td>\n",
              "      <td>2021-01-08 06:08:25.336946</td>\n",
              "      <td>116</td>\n",
              "      <td>수와 연산</td>\n",
              "      <td>0</td>\n",
              "      <td>0.75</td>\n",
              "    </tr>\n",
              "    <tr>\n",
              "      <th>1</th>\n",
              "      <td>2</td>\n",
              "      <td>A070000001</td>\n",
              "      <td>A070001007</td>\n",
              "      <td>-0.998434</td>\n",
              "      <td>2.944685</td>\n",
              "      <td>0.003525</td>\n",
              "      <td>116</td>\n",
              "      <td>2021-01-08 06:08:25.336946</td>\n",
              "      <td>116</td>\n",
              "      <td>수와 연산</td>\n",
              "      <td>0</td>\n",
              "      <td>0.60</td>\n",
              "    </tr>\n",
              "    <tr>\n",
              "      <th>2</th>\n",
              "      <td>5</td>\n",
              "      <td>A070000001</td>\n",
              "      <td>A070001009</td>\n",
              "      <td>0.570539</td>\n",
              "      <td>1.676606</td>\n",
              "      <td>0.052382</td>\n",
              "      <td>116</td>\n",
              "      <td>2021-01-08 06:08:25.336946</td>\n",
              "      <td>116</td>\n",
              "      <td>수와 연산</td>\n",
              "      <td>0</td>\n",
              "      <td>0.90</td>\n",
              "    </tr>\n",
              "    <tr>\n",
              "      <th>3</th>\n",
              "      <td>9</td>\n",
              "      <td>A070000002</td>\n",
              "      <td>A070002007</td>\n",
              "      <td>-0.684678</td>\n",
              "      <td>2.281312</td>\n",
              "      <td>0.010723</td>\n",
              "      <td>116</td>\n",
              "      <td>2021-01-08 06:08:25.336946</td>\n",
              "      <td>116</td>\n",
              "      <td>수와 연산</td>\n",
              "      <td>0</td>\n",
              "      <td>0.60</td>\n",
              "    </tr>\n",
              "    <tr>\n",
              "      <th>4</th>\n",
              "      <td>12</td>\n",
              "      <td>A070000002</td>\n",
              "      <td>A070002008</td>\n",
              "      <td>0.147816</td>\n",
              "      <td>2.912499</td>\n",
              "      <td>0.000005</td>\n",
              "      <td>116</td>\n",
              "      <td>2021-01-08 06:08:25.336946</td>\n",
              "      <td>116</td>\n",
              "      <td>수와 연산</td>\n",
              "      <td>0</td>\n",
              "      <td>0.75</td>\n",
              "    </tr>\n",
              "    <tr>\n",
              "      <th>...</th>\n",
              "      <td>...</td>\n",
              "      <td>...</td>\n",
              "      <td>...</td>\n",
              "      <td>...</td>\n",
              "      <td>...</td>\n",
              "      <td>...</td>\n",
              "      <td>...</td>\n",
              "      <td>...</td>\n",
              "      <td>...</td>\n",
              "      <td>...</td>\n",
              "      <td>...</td>\n",
              "      <td>...</td>\n",
              "    </tr>\n",
              "    <tr>\n",
              "      <th>2532</th>\n",
              "      <td>1294</td>\n",
              "      <td>A070000161</td>\n",
              "      <td>A070161006</td>\n",
              "      <td>0.858422</td>\n",
              "      <td>2.624210</td>\n",
              "      <td>0.127701</td>\n",
              "      <td>9126</td>\n",
              "      <td>2021-01-08 06:08:25.336946</td>\n",
              "      <td>9126</td>\n",
              "      <td>통계</td>\n",
              "      <td>7</td>\n",
              "      <td>0.90</td>\n",
              "    </tr>\n",
              "    <tr>\n",
              "      <th>2533</th>\n",
              "      <td>1301</td>\n",
              "      <td>A070000162</td>\n",
              "      <td>A070162005</td>\n",
              "      <td>0.022331</td>\n",
              "      <td>3.976377</td>\n",
              "      <td>0.288654</td>\n",
              "      <td>9126</td>\n",
              "      <td>2021-01-08 06:08:25.336946</td>\n",
              "      <td>9126</td>\n",
              "      <td>통계</td>\n",
              "      <td>7</td>\n",
              "      <td>0.75</td>\n",
              "    </tr>\n",
              "    <tr>\n",
              "      <th>2534</th>\n",
              "      <td>1304</td>\n",
              "      <td>A070000162</td>\n",
              "      <td>A070162006</td>\n",
              "      <td>0.670332</td>\n",
              "      <td>14.912332</td>\n",
              "      <td>0.127810</td>\n",
              "      <td>9126</td>\n",
              "      <td>2021-01-08 06:08:25.336946</td>\n",
              "      <td>9126</td>\n",
              "      <td>통계</td>\n",
              "      <td>7</td>\n",
              "      <td>0.90</td>\n",
              "    </tr>\n",
              "    <tr>\n",
              "      <th>2535</th>\n",
              "      <td>1313</td>\n",
              "      <td>A070000163</td>\n",
              "      <td>A070163007</td>\n",
              "      <td>0.488021</td>\n",
              "      <td>1.969207</td>\n",
              "      <td>0.125956</td>\n",
              "      <td>9126</td>\n",
              "      <td>2021-01-08 06:08:25.336946</td>\n",
              "      <td>9126</td>\n",
              "      <td>통계</td>\n",
              "      <td>7</td>\n",
              "      <td>0.75</td>\n",
              "    </tr>\n",
              "    <tr>\n",
              "      <th>2536</th>\n",
              "      <td>1316</td>\n",
              "      <td>A070000164</td>\n",
              "      <td>A070164007</td>\n",
              "      <td>0.144939</td>\n",
              "      <td>2.145620</td>\n",
              "      <td>0.009020</td>\n",
              "      <td>9126</td>\n",
              "      <td>2021-01-08 06:08:25.336946</td>\n",
              "      <td>9126</td>\n",
              "      <td>통계</td>\n",
              "      <td>7</td>\n",
              "      <td>0.75</td>\n",
              "    </tr>\n",
              "  </tbody>\n",
              "</table>\n",
              "<p>1272 rows × 12 columns</p>\n",
              "</div>"
            ],
            "text/plain": [
              "      Unnamed: 0      testID assessmentItemID  ...  concept  concept_id  weight\n",
              "0              1  A070000001       A070001008  ...    수와 연산           0    0.75\n",
              "1              2  A070000001       A070001007  ...    수와 연산           0    0.60\n",
              "2              5  A070000001       A070001009  ...    수와 연산           0    0.90\n",
              "3              9  A070000002       A070002007  ...    수와 연산           0    0.60\n",
              "4             12  A070000002       A070002008  ...    수와 연산           0    0.75\n",
              "...          ...         ...              ...  ...      ...         ...     ...\n",
              "2532        1294  A070000161       A070161006  ...       통계           7    0.90\n",
              "2533        1301  A070000162       A070162005  ...       통계           7    0.75\n",
              "2534        1304  A070000162       A070162006  ...       통계           7    0.90\n",
              "2535        1313  A070000163       A070163007  ...       통계           7    0.75\n",
              "2536        1316  A070000164       A070164007  ...       통계           7    0.75\n",
              "\n",
              "[1272 rows x 12 columns]"
            ]
          },
          "metadata": {},
          "execution_count": 15
        }
      ]
    },
    {
      "cell_type": "code",
      "source": [
        "# csv 형식으로 저장\n",
        "question7_concept.to_csv(f'/content/drive/Shareddrives/데이터분석및활용(21-2)/데이터프레임/question7_concept.csv', encoding='euc-kr')\n",
        "question8_concept.to_csv(f'/content/drive/Shareddrives/데이터분석및활용(21-2)/데이터프레임/question8_concept.csv', encoding='euc-kr')\n",
        "question9_concept.to_csv(f'/content/drive/Shareddrives/데이터분석및활용(21-2)/데이터프레임/question9_concept.csv', encoding='euc-kr')"
      ],
      "metadata": {
        "id": "pahfpYx1pfUP"
      },
      "execution_count": null,
      "outputs": []
    },
    {
      "cell_type": "code",
      "source": [
        "# 문항 - 개념 Mapping 데이터프레임 로드\n",
        "concept7 = pd.read_csv(f'/content/drive/Shareddrives/데이터분석및활용(21-2)/데이터프레임/question7_concept.csv', encoding='euc-kr')\n",
        "concept8 = pd.read_csv(f'/content/drive/Shareddrives/데이터분석및활용(21-2)/데이터프레임/question8_concept.csv', encoding='euc-kr')\n",
        "concept9 = pd.read_csv(f'/content/drive/Shareddrives/데이터분석및활용(21-2)/데이터프레임/question9_concept.csv', encoding='euc-kr')"
      ],
      "metadata": {
        "id": "Wzzr453jp_b7"
      },
      "execution_count": null,
      "outputs": []
    },
    {
      "cell_type": "markdown",
      "source": [
        "## 2-2 주요개념 성취율 계산"
      ],
      "metadata": {
        "id": "LczePQRPah4B"
      }
    },
    {
      "cell_type": "markdown",
      "source": [
        "### 2-2-1 학생별 정오표 분리\n",
        "하나의 데이터프레임에 저장된 여러 학생의 문제풀이 데이터를, unique한 학생 id로 묶어 각각의 정오표로 분리해준다. "
      ],
      "metadata": {
        "id": "4PS8Jcn7w0HW"
      }
    },
    {
      "cell_type": "code",
      "source": [
        "def split_student(cr): # 정오표 분리 함수\n",
        "  cnt = 0\n",
        "  cr_list = []\n",
        "  cr_groups = cr.groupby('learnerID')\n",
        "  for l in cr['learnerID'].unique():\n",
        "    cr_list.append(cr_groups.get_group(l))\n",
        "    cnt += 1\n",
        "  return cr_list\n",
        "\n",
        "correct7_list = split_student(correct7) # 정오표 데이터프레임이 저장된 리스트\n",
        "correct7_list[0] "
      ],
      "metadata": {
        "colab": {
          "base_uri": "https://localhost:8080/",
          "height": 424
        },
        "id": "wzqLOdBmahHD",
        "outputId": "ea93ad04-d464-422e-aeb4-0e994aaa8cfd"
      },
      "execution_count": null,
      "outputs": [
        {
          "output_type": "execute_result",
          "data": {
            "text/html": [
              "<div>\n",
              "<style scoped>\n",
              "    .dataframe tbody tr th:only-of-type {\n",
              "        vertical-align: middle;\n",
              "    }\n",
              "\n",
              "    .dataframe tbody tr th {\n",
              "        vertical-align: top;\n",
              "    }\n",
              "\n",
              "    .dataframe thead th {\n",
              "        text-align: right;\n",
              "    }\n",
              "</style>\n",
              "<table border=\"1\" class=\"dataframe\">\n",
              "  <thead>\n",
              "    <tr style=\"text-align: right;\">\n",
              "      <th></th>\n",
              "      <th>Unnamed: 0</th>\n",
              "      <th>learnerID</th>\n",
              "      <th>learnerProfile</th>\n",
              "      <th>testID</th>\n",
              "      <th>assessmentItemID</th>\n",
              "      <th>answerCode</th>\n",
              "      <th>Timestamp</th>\n",
              "    </tr>\n",
              "  </thead>\n",
              "  <tbody>\n",
              "    <tr>\n",
              "      <th>0</th>\n",
              "      <td>0</td>\n",
              "      <td>A070000232</td>\n",
              "      <td>F;S01;7</td>\n",
              "      <td>A070000001</td>\n",
              "      <td>A070001005</td>\n",
              "      <td>1</td>\n",
              "      <td>2020-03-05 03:00:57</td>\n",
              "    </tr>\n",
              "    <tr>\n",
              "      <th>134</th>\n",
              "      <td>134</td>\n",
              "      <td>A070000232</td>\n",
              "      <td>F;S01;7</td>\n",
              "      <td>A070000001</td>\n",
              "      <td>A070001001</td>\n",
              "      <td>1</td>\n",
              "      <td>2020-03-05 02:58:51</td>\n",
              "    </tr>\n",
              "    <tr>\n",
              "      <th>450</th>\n",
              "      <td>450</td>\n",
              "      <td>A070000232</td>\n",
              "      <td>F;S01;7</td>\n",
              "      <td>A070000001</td>\n",
              "      <td>A070001006</td>\n",
              "      <td>1</td>\n",
              "      <td>2020-03-05 03:01:12</td>\n",
              "    </tr>\n",
              "    <tr>\n",
              "      <th>578</th>\n",
              "      <td>578</td>\n",
              "      <td>A070000232</td>\n",
              "      <td>F;S01;7</td>\n",
              "      <td>A070000001</td>\n",
              "      <td>A070001008</td>\n",
              "      <td>1</td>\n",
              "      <td>2020-03-05 03:01:56</td>\n",
              "    </tr>\n",
              "    <tr>\n",
              "      <th>602</th>\n",
              "      <td>602</td>\n",
              "      <td>A070000232</td>\n",
              "      <td>F;S01;7</td>\n",
              "      <td>A070000001</td>\n",
              "      <td>A070001002</td>\n",
              "      <td>1</td>\n",
              "      <td>2020-03-05 02:59:16</td>\n",
              "    </tr>\n",
              "    <tr>\n",
              "      <th>...</th>\n",
              "      <td>...</td>\n",
              "      <td>...</td>\n",
              "      <td>...</td>\n",
              "      <td>...</td>\n",
              "      <td>...</td>\n",
              "      <td>...</td>\n",
              "      <td>...</td>\n",
              "    </tr>\n",
              "    <tr>\n",
              "      <th>202056</th>\n",
              "      <td>202056</td>\n",
              "      <td>A070000232</td>\n",
              "      <td>F;S01;7</td>\n",
              "      <td>A070000155</td>\n",
              "      <td>A070155005</td>\n",
              "      <td>0</td>\n",
              "      <td>2020-11-28 00:38:29</td>\n",
              "    </tr>\n",
              "    <tr>\n",
              "      <th>202140</th>\n",
              "      <td>202140</td>\n",
              "      <td>A070000232</td>\n",
              "      <td>F;S01;7</td>\n",
              "      <td>A070000155</td>\n",
              "      <td>A070155002</td>\n",
              "      <td>0</td>\n",
              "      <td>2020-11-28 00:38:21</td>\n",
              "    </tr>\n",
              "    <tr>\n",
              "      <th>202321</th>\n",
              "      <td>202321</td>\n",
              "      <td>A070000232</td>\n",
              "      <td>F;S01;7</td>\n",
              "      <td>A070000155</td>\n",
              "      <td>A070155003</td>\n",
              "      <td>0</td>\n",
              "      <td>2020-11-28 00:38:24</td>\n",
              "    </tr>\n",
              "    <tr>\n",
              "      <th>202503</th>\n",
              "      <td>202503</td>\n",
              "      <td>A070000232</td>\n",
              "      <td>F;S01;7</td>\n",
              "      <td>A070000155</td>\n",
              "      <td>A070155006</td>\n",
              "      <td>1</td>\n",
              "      <td>2020-11-28 00:38:33</td>\n",
              "    </tr>\n",
              "    <tr>\n",
              "      <th>202787</th>\n",
              "      <td>202787</td>\n",
              "      <td>A070000232</td>\n",
              "      <td>F;S01;7</td>\n",
              "      <td>A070000155</td>\n",
              "      <td>A070155001</td>\n",
              "      <td>0</td>\n",
              "      <td>2020-11-28 00:38:18</td>\n",
              "    </tr>\n",
              "  </tbody>\n",
              "</table>\n",
              "<p>514 rows × 7 columns</p>\n",
              "</div>"
            ],
            "text/plain": [
              "        Unnamed: 0   learnerID  ... answerCode            Timestamp\n",
              "0                0  A070000232  ...          1  2020-03-05 03:00:57\n",
              "134            134  A070000232  ...          1  2020-03-05 02:58:51\n",
              "450            450  A070000232  ...          1  2020-03-05 03:01:12\n",
              "578            578  A070000232  ...          1  2020-03-05 03:01:56\n",
              "602            602  A070000232  ...          1  2020-03-05 02:59:16\n",
              "...            ...         ...  ...        ...                  ...\n",
              "202056      202056  A070000232  ...          0  2020-11-28 00:38:29\n",
              "202140      202140  A070000232  ...          0  2020-11-28 00:38:21\n",
              "202321      202321  A070000232  ...          0  2020-11-28 00:38:24\n",
              "202503      202503  A070000232  ...          1  2020-11-28 00:38:33\n",
              "202787      202787  A070000232  ...          0  2020-11-28 00:38:18\n",
              "\n",
              "[514 rows x 7 columns]"
            ]
          },
          "metadata": {},
          "execution_count": 12
        }
      ]
    },
    {
      "cell_type": "markdown",
      "source": [
        "## 2-2-2 성취율 계산\n",
        "각 문항마다 가중치를 부여하여 계산한 후, 해당하는 주요개념의 성취율에 합산한다. 계산이 완료되면 성취율 데이터프레임에 값을 추가하고, 모든 학생의 계산이 완료되면 만들어진 데이터프레임을 반환한다. "
      ],
      "metadata": {
        "id": "IJraDWpTxVG2"
      }
    },
    {
      "cell_type": "code",
      "source": [
        "def cal_acv(stu, qus): # 성취율 계산 함수\n",
        "  achievement_df = pd.DataFrame(columns=['learnerID', 'mid1_acv', 'mid2_acv', 'mid3_acv', 'mid4_acv', 'mid5_acv', 'mid6_acv', 'mid7_acv', 'mid8_acv']) # 개념 8개 분류\n",
        "  mid_acv = [0,0,0,0,0,0,0,0] # 성취율 값\n",
        "  mid_cnt = [0,0,0,0,0,0,0,0] # 개념 별 문항 수\n",
        "  mid_sum = [0,0,0,0,0,0,0,0] # 가중치 합\n",
        "\n",
        "  qus_ass = qus['assessmentItemID']\n",
        "\n",
        "  for s in stu:\n",
        "    s_id = s.iloc[0].values[1] # 학생 아이디\n",
        "\n",
        "    for l in range(len(s)):\n",
        "\n",
        "      ans = s.iloc[l].values[5] # 정오값\n",
        "      q = s.iloc[l].values[4] # 문제 id\n",
        "\n",
        "      if any(qus_ass.isin([q])): # 문항데이터에 해당 문제가 존재한다면\n",
        "        con = qus.loc[qus_ass== q,'concept_id'].values[0] # 개념 인덱스\n",
        "        dif = qus.loc[qus_ass== q,'weight'].values[0] # 가중치\n",
        "\n",
        "        mid_sum[con] += ans*dif # 가중치 계산하여 합산\n",
        "        mid_cnt[con] += 1\n",
        "    \n",
        "    for k in range(len(mid_sum)): # 가중치를 문항 수로 나누어준다\n",
        "      if(mid_cnt[k] != 0): \n",
        "        mid_acv[k] = mid_sum[k] / mid_cnt[k]\n",
        "        \n",
        "    achievement_df.loc[len(achievement_df)] = [s_id]+mid_acv # 학생별 행 추가\n",
        "\n",
        "  return achievement_df"
      ],
      "metadata": {
        "id": "AsBct5y-jnwn"
      },
      "execution_count": null,
      "outputs": []
    },
    {
      "cell_type": "code",
      "source": [
        "# 정오표 분리 함수, 성취율 계산 함수를 이용하여 실제로 계산\n",
        "correct7_list = split_student(correct7)\n",
        "correct8_list = split_student(correct8)\n",
        "correct9_list = split_student(correct9)\n",
        "\n",
        "achievement7_df = cal_acv(correct7_list, concept7)\n",
        "achievement8_df = cal_acv(correct8_list, concept8)\n",
        "achievement9_df = cal_acv(correct9_list, concept9)"
      ],
      "metadata": {
        "id": "ZnkVZiHP5IL0"
      },
      "execution_count": null,
      "outputs": []
    },
    {
      "cell_type": "code",
      "source": [
        "achievement8_df"
      ],
      "metadata": {
        "colab": {
          "base_uri": "https://localhost:8080/",
          "height": 424
        },
        "id": "4vYu-nQ_D4iD",
        "outputId": "8a7daa2b-5ffd-4fab-9c7a-8b5f46f9c514"
      },
      "execution_count": null,
      "outputs": [
        {
          "output_type": "execute_result",
          "data": {
            "text/html": [
              "<div>\n",
              "<style scoped>\n",
              "    .dataframe tbody tr th:only-of-type {\n",
              "        vertical-align: middle;\n",
              "    }\n",
              "\n",
              "    .dataframe tbody tr th {\n",
              "        vertical-align: top;\n",
              "    }\n",
              "\n",
              "    .dataframe thead th {\n",
              "        text-align: right;\n",
              "    }\n",
              "</style>\n",
              "<table border=\"1\" class=\"dataframe\">\n",
              "  <thead>\n",
              "    <tr style=\"text-align: right;\">\n",
              "      <th></th>\n",
              "      <th>learnerID</th>\n",
              "      <th>mid1_acv</th>\n",
              "      <th>mid2_acv</th>\n",
              "      <th>mid3_acv</th>\n",
              "      <th>mid4_acv</th>\n",
              "      <th>mid5_acv</th>\n",
              "      <th>mid6_acv</th>\n",
              "      <th>mid7_acv</th>\n",
              "      <th>mid8_acv</th>\n",
              "    </tr>\n",
              "  </thead>\n",
              "  <tbody>\n",
              "    <tr>\n",
              "      <th>0</th>\n",
              "      <td>A080000012</td>\n",
              "      <td>0.292500</td>\n",
              "      <td>0.342453</td>\n",
              "      <td>0.174138</td>\n",
              "      <td>0.194118</td>\n",
              "      <td>0.261151</td>\n",
              "      <td>0</td>\n",
              "      <td>0</td>\n",
              "      <td>0</td>\n",
              "    </tr>\n",
              "    <tr>\n",
              "      <th>1</th>\n",
              "      <td>A080000284</td>\n",
              "      <td>0.438750</td>\n",
              "      <td>0.382075</td>\n",
              "      <td>0.226515</td>\n",
              "      <td>0.272619</td>\n",
              "      <td>0.390091</td>\n",
              "      <td>0</td>\n",
              "      <td>0.417857</td>\n",
              "      <td>0</td>\n",
              "    </tr>\n",
              "    <tr>\n",
              "      <th>2</th>\n",
              "      <td>A080000038</td>\n",
              "      <td>0.450000</td>\n",
              "      <td>0.419811</td>\n",
              "      <td>0.258000</td>\n",
              "      <td>0.272619</td>\n",
              "      <td>0.390091</td>\n",
              "      <td>0</td>\n",
              "      <td>0.417857</td>\n",
              "      <td>0</td>\n",
              "    </tr>\n",
              "    <tr>\n",
              "      <th>3</th>\n",
              "      <td>A080000136</td>\n",
              "      <td>0.472500</td>\n",
              "      <td>0.433019</td>\n",
              "      <td>0.260526</td>\n",
              "      <td>0.261039</td>\n",
              "      <td>0.351537</td>\n",
              "      <td>0</td>\n",
              "      <td>0.417857</td>\n",
              "      <td>0</td>\n",
              "    </tr>\n",
              "    <tr>\n",
              "      <th>4</th>\n",
              "      <td>A080000457</td>\n",
              "      <td>0.393000</td>\n",
              "      <td>0.379961</td>\n",
              "      <td>0.229225</td>\n",
              "      <td>0.254795</td>\n",
              "      <td>0.333109</td>\n",
              "      <td>0</td>\n",
              "      <td>0.417857</td>\n",
              "      <td>0</td>\n",
              "    </tr>\n",
              "    <tr>\n",
              "      <th>...</th>\n",
              "      <td>...</td>\n",
              "      <td>...</td>\n",
              "      <td>...</td>\n",
              "      <td>...</td>\n",
              "      <td>...</td>\n",
              "      <td>...</td>\n",
              "      <td>...</td>\n",
              "      <td>...</td>\n",
              "      <td>...</td>\n",
              "    </tr>\n",
              "    <tr>\n",
              "      <th>1459</th>\n",
              "      <td>A080001564</td>\n",
              "      <td>0.432134</td>\n",
              "      <td>0.406114</td>\n",
              "      <td>0.358543</td>\n",
              "      <td>0.366120</td>\n",
              "      <td>0.405783</td>\n",
              "      <td>0.437288</td>\n",
              "      <td>0.404213</td>\n",
              "      <td>0</td>\n",
              "    </tr>\n",
              "    <tr>\n",
              "      <th>1460</th>\n",
              "      <td>A080001563</td>\n",
              "      <td>0.432134</td>\n",
              "      <td>0.406114</td>\n",
              "      <td>0.358543</td>\n",
              "      <td>0.366120</td>\n",
              "      <td>0.405783</td>\n",
              "      <td>0.437288</td>\n",
              "      <td>0.403562</td>\n",
              "      <td>0</td>\n",
              "    </tr>\n",
              "    <tr>\n",
              "      <th>1461</th>\n",
              "      <td>A080001724</td>\n",
              "      <td>0.432134</td>\n",
              "      <td>0.406114</td>\n",
              "      <td>0.358543</td>\n",
              "      <td>0.366120</td>\n",
              "      <td>0.405783</td>\n",
              "      <td>0.437288</td>\n",
              "      <td>0.402992</td>\n",
              "      <td>0</td>\n",
              "    </tr>\n",
              "    <tr>\n",
              "      <th>1462</th>\n",
              "      <td>A080001658</td>\n",
              "      <td>0.432134</td>\n",
              "      <td>0.406114</td>\n",
              "      <td>0.358543</td>\n",
              "      <td>0.366120</td>\n",
              "      <td>0.405783</td>\n",
              "      <td>0.437288</td>\n",
              "      <td>0.403142</td>\n",
              "      <td>0</td>\n",
              "    </tr>\n",
              "    <tr>\n",
              "      <th>1463</th>\n",
              "      <td>A080001778</td>\n",
              "      <td>0.432134</td>\n",
              "      <td>0.406114</td>\n",
              "      <td>0.358543</td>\n",
              "      <td>0.366120</td>\n",
              "      <td>0.405783</td>\n",
              "      <td>0.437288</td>\n",
              "      <td>0.403126</td>\n",
              "      <td>0</td>\n",
              "    </tr>\n",
              "  </tbody>\n",
              "</table>\n",
              "<p>1464 rows × 9 columns</p>\n",
              "</div>"
            ],
            "text/plain": [
              "       learnerID  mid1_acv  mid2_acv  ...  mid6_acv  mid7_acv  mid8_acv\n",
              "0     A080000012  0.292500  0.342453  ...         0         0         0\n",
              "1     A080000284  0.438750  0.382075  ...         0  0.417857         0\n",
              "2     A080000038  0.450000  0.419811  ...         0  0.417857         0\n",
              "3     A080000136  0.472500  0.433019  ...         0  0.417857         0\n",
              "4     A080000457  0.393000  0.379961  ...         0  0.417857         0\n",
              "...          ...       ...       ...  ...       ...       ...       ...\n",
              "1459  A080001564  0.432134  0.406114  ...  0.437288  0.404213         0\n",
              "1460  A080001563  0.432134  0.406114  ...  0.437288  0.403562         0\n",
              "1461  A080001724  0.432134  0.406114  ...  0.437288  0.402992         0\n",
              "1462  A080001658  0.432134  0.406114  ...  0.437288  0.403142         0\n",
              "1463  A080001778  0.432134  0.406114  ...  0.437288  0.403126         0\n",
              "\n",
              "[1464 rows x 9 columns]"
            ]
          },
          "metadata": {},
          "execution_count": 16
        }
      ]
    },
    {
      "cell_type": "code",
      "source": [
        "# 성취율 데이터프레임 csv 형식으로 저장\n",
        "achievement7_df.to_csv(f'/content/drive/Shareddrives/데이터분석및활용(21-2)/데이터프레임/achievement7.csv', encoding='euc-kr')\n",
        "achievement8_df.to_csv(f'/content/drive/Shareddrives/데이터분석및활용(21-2)/데이터프레임/achievement8.csv', encoding='euc-kr')\n",
        "achievement9_df.to_csv(f'/content/drive/Shareddrives/데이터분석및활용(21-2)/데이터프레임/achievement9.csv', encoding='euc-kr')"
      ],
      "metadata": {
        "id": "bnaZQNWG5TUP"
      },
      "execution_count": null,
      "outputs": []
    },
    {
      "cell_type": "markdown",
      "source": [
        "# 군집분석 수행\n",
        "**1. 전처리**\n",
        "- 학년별 무의미한 칼럼(핵심개념) 삭제\n",
        "- 각 칼럼(핵심개념)별로 min-max 정규화\n",
        "- PCA후 데이터 살펴보기 -> DBSCAN은 부적절하다 판단\n",
        "\n",
        "**2. 거리기반 군집분석(k-means)**\n",
        "- 이상치 탐색\n",
        "  - k-means는 이상치에 민감하지만, 자체적으로 제외 불가능\n",
        "  - LOF방식을 사용하여 핵심개념별로 상대적 밀집도를 기준으로 이상치 탐색\n",
        "- (이상치포함) k를 3~5부터 군집분석\n",
        "- (이상치제외) k를 3~5부터 군집분석\n",
        "\n",
        "**3. 거리기반 군집분석(k-medoid)**\n",
        "- (이상치포함) k를 3~5부터 군집분석\n",
        "- (이상치제외) k를 3~5부터 군집분석\n",
        "\n",
        "**4.분석결과 시각화**\n",
        "- PCA로 3차원으로 줄여서 군집결과와 이상치 탐색 여부 시각화"
      ],
      "metadata": {
        "id": "JrwMfqBDFJVW"
      }
    },
    {
      "cell_type": "code",
      "source": [
        "# 성취율 데이터프레임 불러오기\n",
        "achievement7 = pd.read_csv(f'/content/drive/Shareddrives/데이터분석및활용(21-2)/데이터프레임/achievement7.csv', encoding='euc-kr', index_col=0)\n",
        "achievement8 = pd.read_csv(f'/content/drive/Shareddrives/데이터분석및활용(21-2)/데이터프레임/achievement8.csv', encoding='euc-kr', index_col=0)\n",
        "achievement9 = pd.read_csv(f'/content/drive/Shareddrives/데이터분석및활용(21-2)/데이터프레임/achievement9.csv', encoding='euc-kr', index_col=0)"
      ],
      "metadata": {
        "id": "8GMOaXLh6sj9"
      },
      "execution_count": null,
      "outputs": []
    },
    {
      "cell_type": "markdown",
      "source": [
        "## 군접분석 전 간단한 EDA"
      ],
      "metadata": {
        "id": "VX-Q9LlPGOIz"
      }
    },
    {
      "cell_type": "code",
      "source": [
        "df_list = [achievement7, achievement8, achievement9]\n",
        "for df in df_list:\n",
        "  col_list = df.columns\n",
        "  col_list = col_list[1:]\n",
        "  print(df.describe())\n",
        "  for col in col_list :\n",
        "    print(col, \":\", df[df[col]==0].size)"
      ],
      "metadata": {
        "colab": {
          "base_uri": "https://localhost:8080/"
        },
        "id": "mRwvcIpmF0FC",
        "outputId": "ccd06961-321e-4c44-9d53-0ad06233a6c6"
      },
      "execution_count": null,
      "outputs": [
        {
          "output_type": "stream",
          "name": "stdout",
          "text": [
            "          mid1_acv     mid2_acv  ...  mid7_acv     mid8_acv\n",
            "count  1655.000000  1655.000000  ...    1655.0  1655.000000\n",
            "mean      0.410541     0.385404  ...       0.0     0.408914\n",
            "std       0.014249     0.015428  ...       0.0     0.023947\n",
            "min       0.361391     0.373209  ...       0.0     0.187500\n",
            "25%       0.402300     0.374607  ...       0.0     0.399355\n",
            "50%       0.402300     0.378721  ...       0.0     0.410516\n",
            "75%       0.414090     0.393734  ...       0.0     0.418203\n",
            "max       0.523944     0.516667  ...       0.0     0.492043\n",
            "\n",
            "[8 rows x 8 columns]\n",
            "mid1_acv : 0\n",
            "mid2_acv : 0\n",
            "mid3_acv : 0\n",
            "mid4_acv : 0\n",
            "mid5_acv : 0\n",
            "mid6_acv : 0\n",
            "mid7_acv : 14895\n",
            "mid8_acv : 0\n",
            "          mid1_acv     mid2_acv  ...     mid7_acv  mid8_acv\n",
            "count  1464.000000  1464.000000  ...  1464.000000    1464.0\n",
            "mean      0.429182     0.410580  ...     0.419872       0.0\n",
            "std       0.008010     0.008608  ...     0.025504       0.0\n",
            "min       0.292500     0.342453  ...     0.000000       0.0\n",
            "25%       0.428842     0.405994  ...     0.404990       0.0\n",
            "50%       0.428842     0.406114  ...     0.422247       0.0\n",
            "75%       0.430361     0.414020  ...     0.434374       0.0\n",
            "max       0.472500     0.452937  ...     0.466687       0.0\n",
            "\n",
            "[8 rows x 8 columns]\n",
            "mid1_acv : 0\n",
            "mid2_acv : 0\n",
            "mid3_acv : 0\n",
            "mid4_acv : 0\n",
            "mid5_acv : 0\n",
            "mid6_acv : 954\n",
            "mid7_acv : 9\n",
            "mid8_acv : 13176\n",
            "         mid1_acv    mid2_acv    mid3_acv  ...  mid6_acv  mid7_acv    mid8_acv\n",
            "count  619.000000  619.000000  619.000000  ...     619.0     619.0  619.000000\n",
            "mean     0.381711    0.366751    0.365906  ...       0.0       0.0    0.366799\n",
            "std      0.012638    0.015693    0.016758  ...       0.0       0.0    0.034366\n",
            "min      0.144375    0.178448    0.100000  ...       0.0       0.0    0.000000\n",
            "25%      0.377848    0.359720    0.359092  ...       0.0       0.0    0.366327\n",
            "50%      0.380859    0.363156    0.364002  ...       0.0       0.0    0.374831\n",
            "75%      0.386697    0.369819    0.372091  ...       0.0       0.0    0.382312\n",
            "max      0.419527    0.455616    0.441570  ...       0.0       0.0    0.550000\n",
            "\n",
            "[8 rows x 8 columns]\n",
            "mid1_acv : 0\n",
            "mid2_acv : 0\n",
            "mid3_acv : 0\n",
            "mid4_acv : 0\n",
            "mid5_acv : 9\n",
            "mid6_acv : 5571\n",
            "mid7_acv : 5571\n",
            "mid8_acv : 9\n"
          ]
        }
      ]
    },
    {
      "cell_type": "markdown",
      "source": [
        "학년 별로 특정 개념은 수행하지 않는 것으로보임\n",
        "- 7학년은 mid7_acv : 14895\n",
        "- 8학년은 mid8_acv : 13176\n",
        "- 9학년은 mid6_acv : 5571\n",
        "- mid7_acv : 5571   "
      ],
      "metadata": {
        "id": "HnauptDKHvYq"
      }
    },
    {
      "cell_type": "code",
      "source": [
        "# 군집분석 전 전처리\n",
        "# 1) 학년별로 특정개념 칼럼 제거\n",
        "achievement7 = achievement7.drop(columns='mid7_acv', axis=1)\n",
        "achievement8 = achievement8.drop(columns='mid8_acv', axis=1)\n",
        "achievement9 = achievement9.drop(columns=['mid6_acv','mid7_acv'], axis=1)\n",
        "print(achievement7.columns)\n",
        "print(achievement8.columns)\n",
        "print(achievement8.columns)"
      ],
      "metadata": {
        "colab": {
          "base_uri": "https://localhost:8080/"
        },
        "id": "Bo7laf5MHy9C",
        "outputId": "16375bc5-6379-4648-fd63-0d943f3fc831"
      },
      "execution_count": null,
      "outputs": [
        {
          "output_type": "stream",
          "name": "stdout",
          "text": [
            "Index(['learnerID', 'mid1_acv', 'mid2_acv', 'mid3_acv', 'mid4_acv', 'mid5_acv',\n",
            "       'mid6_acv', 'mid8_acv'],\n",
            "      dtype='object')\n",
            "Index(['learnerID', 'mid1_acv', 'mid2_acv', 'mid3_acv', 'mid4_acv', 'mid5_acv',\n",
            "       'mid6_acv', 'mid7_acv'],\n",
            "      dtype='object')\n",
            "Index(['learnerID', 'mid1_acv', 'mid2_acv', 'mid3_acv', 'mid4_acv', 'mid5_acv',\n",
            "       'mid6_acv', 'mid7_acv'],\n",
            "      dtype='object')\n"
          ]
        }
      ]
    },
    {
      "cell_type": "code",
      "source": [
        "# 각 성취율 칼럼에 max값에 차이가 매우큼, 0~1사이로 Min-Max Normalization\n",
        "from sklearn.preprocessing import MinMaxScaler\n",
        "min_max_scaler = MinMaxScaler()\n",
        "\n",
        "output = min_max_scaler.fit_transform(achievement7.iloc[:,1:])  # ID는 제외하고 정규화\n",
        "achievement7_norm = pd.concat([achievement7['learnerID'], pd.DataFrame(output, columns=achievement7.iloc[:,1:].columns, index=list(achievement7.index.values))], axis=1)\n",
        "\n",
        "output = min_max_scaler.fit_transform(achievement8.iloc[:,1:])  # ID는 제외하고 정규화\n",
        "achievement8_norm = pd.concat([achievement8['learnerID'], pd.DataFrame(output, columns=achievement8.iloc[:,1:].columns, index=list(achievement8.index.values))], axis=1)\n",
        "\n",
        "output = min_max_scaler.fit_transform(achievement9.iloc[:,1:])  # ID는 제외하고 정규화\n",
        "achievement9_norm = pd.concat([achievement9['learnerID'], pd.DataFrame(output, columns=achievement9.iloc[:,1:].columns, index=list(achievement9.index.values))], axis=1)"
      ],
      "metadata": {
        "id": "tkxz3jcrIfoW"
      },
      "execution_count": null,
      "outputs": []
    },
    {
      "cell_type": "code",
      "source": [
        "# 정규화가 잘 되었음!\n",
        "print(achievement7_norm.columns)\n",
        "achievement7_norm.describe()"
      ],
      "metadata": {
        "colab": {
          "base_uri": "https://localhost:8080/",
          "height": 354
        },
        "id": "EPInZQVqMAX7",
        "outputId": "ad80f5b6-55ed-439e-d517-46874503a647"
      },
      "execution_count": null,
      "outputs": [
        {
          "output_type": "stream",
          "name": "stdout",
          "text": [
            "Index(['learnerID', 'mid1_acv', 'mid2_acv', 'mid3_acv', 'mid4_acv', 'mid5_acv',\n",
            "       'mid6_acv', 'mid8_acv'],\n",
            "      dtype='object')\n"
          ]
        },
        {
          "output_type": "execute_result",
          "data": {
            "text/html": [
              "<div>\n",
              "<style scoped>\n",
              "    .dataframe tbody tr th:only-of-type {\n",
              "        vertical-align: middle;\n",
              "    }\n",
              "\n",
              "    .dataframe tbody tr th {\n",
              "        vertical-align: top;\n",
              "    }\n",
              "\n",
              "    .dataframe thead th {\n",
              "        text-align: right;\n",
              "    }\n",
              "</style>\n",
              "<table border=\"1\" class=\"dataframe\">\n",
              "  <thead>\n",
              "    <tr style=\"text-align: right;\">\n",
              "      <th></th>\n",
              "      <th>mid1_acv</th>\n",
              "      <th>mid2_acv</th>\n",
              "      <th>mid3_acv</th>\n",
              "      <th>mid4_acv</th>\n",
              "      <th>mid5_acv</th>\n",
              "      <th>mid6_acv</th>\n",
              "      <th>mid8_acv</th>\n",
              "    </tr>\n",
              "  </thead>\n",
              "  <tbody>\n",
              "    <tr>\n",
              "      <th>count</th>\n",
              "      <td>1655.000000</td>\n",
              "      <td>1655.000000</td>\n",
              "      <td>1655.000000</td>\n",
              "      <td>1655.000000</td>\n",
              "      <td>1655.000000</td>\n",
              "      <td>1655.000000</td>\n",
              "      <td>1655.000000</td>\n",
              "    </tr>\n",
              "    <tr>\n",
              "      <th>mean</th>\n",
              "      <td>0.739389</td>\n",
              "      <td>0.689795</td>\n",
              "      <td>0.648766</td>\n",
              "      <td>0.593923</td>\n",
              "      <td>0.577319</td>\n",
              "      <td>0.558895</td>\n",
              "      <td>0.523008</td>\n",
              "    </tr>\n",
              "    <tr>\n",
              "      <th>std</th>\n",
              "      <td>0.231847</td>\n",
              "      <td>0.251132</td>\n",
              "      <td>0.264621</td>\n",
              "      <td>0.272866</td>\n",
              "      <td>0.272963</td>\n",
              "      <td>0.269172</td>\n",
              "      <td>0.271867</td>\n",
              "    </tr>\n",
              "    <tr>\n",
              "      <th>min</th>\n",
              "      <td>0.000000</td>\n",
              "      <td>0.000000</td>\n",
              "      <td>0.000000</td>\n",
              "      <td>0.000000</td>\n",
              "      <td>0.000000</td>\n",
              "      <td>0.000000</td>\n",
              "      <td>0.000000</td>\n",
              "    </tr>\n",
              "    <tr>\n",
              "      <th>25%</th>\n",
              "      <td>0.690097</td>\n",
              "      <td>0.546632</td>\n",
              "      <td>0.449536</td>\n",
              "      <td>0.357108</td>\n",
              "      <td>0.348991</td>\n",
              "      <td>0.352940</td>\n",
              "      <td>0.315651</td>\n",
              "    </tr>\n",
              "    <tr>\n",
              "      <th>50%</th>\n",
              "      <td>0.833845</td>\n",
              "      <td>0.815699</td>\n",
              "      <td>0.797085</td>\n",
              "      <td>0.696034</td>\n",
              "      <td>0.591706</td>\n",
              "      <td>0.561146</td>\n",
              "      <td>0.537568</td>\n",
              "    </tr>\n",
              "    <tr>\n",
              "      <th>75%</th>\n",
              "      <td>0.833845</td>\n",
              "      <td>0.815699</td>\n",
              "      <td>0.801096</td>\n",
              "      <td>0.772453</td>\n",
              "      <td>0.838540</td>\n",
              "      <td>0.801971</td>\n",
              "      <td>0.721113</td>\n",
              "    </tr>\n",
              "    <tr>\n",
              "      <th>max</th>\n",
              "      <td>1.000000</td>\n",
              "      <td>1.000000</td>\n",
              "      <td>1.000000</td>\n",
              "      <td>1.000000</td>\n",
              "      <td>1.000000</td>\n",
              "      <td>1.000000</td>\n",
              "      <td>1.000000</td>\n",
              "    </tr>\n",
              "  </tbody>\n",
              "</table>\n",
              "</div>"
            ],
            "text/plain": [
              "          mid1_acv     mid2_acv  ...     mid6_acv     mid8_acv\n",
              "count  1655.000000  1655.000000  ...  1655.000000  1655.000000\n",
              "mean      0.739389     0.689795  ...     0.558895     0.523008\n",
              "std       0.231847     0.251132  ...     0.269172     0.271867\n",
              "min       0.000000     0.000000  ...     0.000000     0.000000\n",
              "25%       0.690097     0.546632  ...     0.352940     0.315651\n",
              "50%       0.833845     0.815699  ...     0.561146     0.537568\n",
              "75%       0.833845     0.815699  ...     0.801971     0.721113\n",
              "max       1.000000     1.000000  ...     1.000000     1.000000\n",
              "\n",
              "[8 rows x 7 columns]"
            ]
          },
          "metadata": {},
          "execution_count": 293
        }
      ]
    },
    {
      "cell_type": "code",
      "source": [
        "achievement7_acv = achievement7[['mid1_acv','mid2_acv','mid3_acv','mid4_acv','mid5_acv','mid6_acv','mid8_acv']]\n",
        "achievement8_acv = achievement8[['mid1_acv', 'mid2_acv', 'mid3_acv', 'mid4_acv', 'mid5_acv','mid6_acv', 'mid7_acv']]\n",
        "achievement9_acv = achievement9[[ 'mid1_acv', 'mid2_acv', 'mid3_acv', 'mid4_acv', 'mid5_acv','mid8_acv']]\n",
        "\n",
        "achievement7_norm = achievement7\n",
        "achievement8_norm = achievement8\n",
        "achievement9_norm = achievement9"
      ],
      "metadata": {
        "id": "I74jlL_gHGxw"
      },
      "execution_count": null,
      "outputs": []
    },
    {
      "cell_type": "markdown",
      "source": [
        "# PCA(차원축소) 후 데이터 분포를 저차원에 투영시켜 살펴보자 \n",
        "- 7-8개의 주요개념들을 2-3차원으로 투영시켜 확인한 결과\n",
        "- 특정 선형 분포가 아니며, 군집을 나눌 수 있는 분포임이 확인되었다.\n",
        "- 다만 밀도기반 분석을 하기 좋은 분포임은 아닌 것을 발견하였다."
      ],
      "metadata": {
        "id": "-N1tDT3Qm-iG"
      }
    },
    {
      "cell_type": "code",
      "source": [
        "from sklearn.cluster import KMeans\n",
        "from sklearn.metrics import silhouette_samples, silhouette_score\n",
        "\n",
        "import matplotlib.pyplot as plt\n",
        "import matplotlib.cm as cm\n",
        "import numpy as np\n"
      ],
      "metadata": {
        "id": "xGbON9a7YGo2"
      },
      "execution_count": null,
      "outputs": []
    },
    {
      "cell_type": "code",
      "source": [
        "from sklearn.decomposition import PCA\n",
        "import matplotlib.pyplot as plt\n",
        "#achievement7_acv = achievement7_norm[['mid1_acv','mid2_acv','mid3_acv','mid4_acv','mid5_acv','mid6_acv','mid8_acv']]\n",
        "#achievement8_acv = achievement8_norm[['mid1_acv', 'mid2_acv', 'mid3_acv', 'mid4_acv', 'mid5_acv','mid6_acv', 'mid7_acv']]\n",
        "#achievement9_acv = achievement9_norm[[ 'mid1_acv', 'mid2_acv', 'mid3_acv', 'mid4_acv', 'mid5_acv','mid8_acv']]\n",
        "\n",
        "achievement7_acv = achievement7[['mid1_acv','mid2_acv','mid3_acv','mid4_acv','mid5_acv','mid6_acv','mid8_acv']]\n",
        "achievement8_acv = achievement8[['mid1_acv', 'mid2_acv', 'mid3_acv', 'mid4_acv', 'mid5_acv','mid6_acv', 'mid7_acv']]\n",
        "achievement9_acv = achievement9[[ 'mid1_acv', 'mid2_acv', 'mid3_acv', 'mid4_acv', 'mid5_acv','mid8_acv']]\n",
        "df_list2 = [achievement7_acv, achievement8_acv,achievement9_acv]\n",
        "\n",
        "for df in df_list2 : \n",
        "  pca = PCA(n_components=2) # 주성분을 몇개로 할지 결정\n",
        "  printcipalComponents = pca.fit_transform(df)\n",
        "  principalDf = pd.DataFrame(data=printcipalComponents, columns = ['comp1', 'comp2'])\n",
        "  print(pca.explained_variance_ratio_)\n",
        "  plt.scatter(x=principalDf['comp1'], y=principalDf['comp2'])\n",
        "  plt.xlabel('principal component1')\n",
        "  plt.ylabel('principal component2')\n",
        "  plt.show()"
      ],
      "metadata": {
        "colab": {
          "base_uri": "https://localhost:8080/",
          "height": 861
        },
        "id": "k7syAIebm9ns",
        "outputId": "50be7bee-c1a1-4387-c6f8-9864a89ba26d"
      },
      "execution_count": null,
      "outputs": [
        {
          "output_type": "stream",
          "name": "stdout",
          "text": [
            "[0.71715437 0.16686683]\n"
          ]
        },
        {
          "output_type": "display_data",
          "data": {
            "image/png": "[encoded data removed]",
            "text/plain": [
              "<Figure size 432x288 with 1 Axes>"
            ]
          },
          "metadata": {
            "needs_background": "light"
          }
        },
        {
          "output_type": "stream",
          "name": "stdout",
          "text": [
            "[0.93083204 0.05048418]\n"
          ]
        },
        {
          "output_type": "display_data",
          "data": {
            "image/png": "[encoded data removed]",
            "text/plain": [
              "<Figure size 432x288 with 1 Axes>"
            ]
          },
          "metadata": {
            "needs_background": "light"
          }
        },
        {
          "output_type": "stream",
          "name": "stdout",
          "text": [
            "[0.50977206 0.38817406]\n"
          ]
        },
        {
          "output_type": "display_data",
          "data": {
            "image/png": "[encoded data removed]",
            "text/plain": [
              "<Figure size 432x288 with 1 Axes>"
            ]
          },
          "metadata": {
            "needs_background": "light"
          }
        }
      ]
    },
    {
      "cell_type": "code",
      "source": [
        "from mpl_toolkits.mplot3d import Axes3D\n",
        "df_list2 = [achievement7_acv, achievement8_acv, achievement9_acv]\n",
        "\n",
        "for df in df_list2 : \n",
        "  pca = PCA(n_components=3) # 주성분을 몇개로 할지 결정\n",
        "  printcipalComponents = pca.fit_transform(df)\n",
        "  principalDf = pd.DataFrame(data=printcipalComponents, columns = ['comp1', 'comp2','comp3'])\n",
        "  print(pca.explained_variance_ratio_)\n",
        "  fig = plt.figure()\n",
        "  ax = fig.add_subplot(111,projection='3d')\n",
        "  ax.scatter(principalDf['comp1'], principalDf['comp2'],principalDf['comp3'],marker='o',s=1,cmap='Greens')\n",
        "  plt.show()"
      ],
      "metadata": {
        "colab": {
          "base_uri": "https://localhost:8080/",
          "height": 765
        },
        "outputId": "bbea5a92-4cce-4b0a-e93a-16796dbcedc4",
        "id": "kr9zuZaepngU"
      },
      "execution_count": null,
      "outputs": [
        {
          "output_type": "stream",
          "name": "stdout",
          "text": [
            "[0.71715437 0.16686683 0.06489876]\n"
          ]
        },
        {
          "output_type": "display_data",
          "data": {
            "image/png": "[encoded data removed]",
            "text/plain": [
              "<Figure size 432x288 with 1 Axes>"
            ]
          },
          "metadata": {
            "needs_background": "light"
          }
        },
        {
          "output_type": "stream",
          "name": "stdout",
          "text": [
            "[0.93083204 0.05048418 0.01183467]\n"
          ]
        },
        {
          "output_type": "display_data",
          "data": {
            "image/png": "[encoded data removed]",
            "text/plain": [
              "<Figure size 432x288 with 1 Axes>"
            ]
          },
          "metadata": {
            "needs_background": "light"
          }
        },
        {
          "output_type": "stream",
          "name": "stdout",
          "text": [
            "[0.50977206 0.38817406 0.04713361]\n"
          ]
        },
        {
          "output_type": "display_data",
          "data": {
            "image/png": "[encoded data removed]",
            "text/plain": [
              "<Figure size 432x288 with 1 Axes>"
            ]
          },
          "metadata": {
            "needs_background": "light"
          }
        }
      ]
    },
    {
      "cell_type": "markdown",
      "source": [
        "## K-means"
      ],
      "metadata": {
        "id": "YAkZqdVoITuC"
      }
    },
    {
      "cell_type": "markdown",
      "source": [
        "### 이상치 탐색\n",
        "- 본 단계는 실제 서비스에서는 제외될 수 있습니다\n",
        "- LOF기반\n",
        "- 1% 미만의 아웃라이어 검출완료, 대부분 상위권 학생만 검출됨\n"
      ],
      "metadata": {
        "id": "PkmeHl1eMUNu"
      }
    },
    {
      "cell_type": "code",
      "source": [
        "from sklearn.neighbors import LocalOutlierFactor\n",
        "\n",
        "# 7학년\n",
        "clf = LocalOutlierFactor()\n",
        "outlier_LOF_7= clf.fit_predict(achievement7_acv)\n",
        "\n",
        "achievement7_norm['outlier'] = outlier_LOF_7 # 1은 정상치, -1은 이상치\n",
        "achievement7_norm['outlier'] = outlier_LOF_7 # 1은 정상치, -1은 이상치\n",
        "out_count_7 = len(achievement7_norm[achievement7_norm['outlier']==-1].index)\n",
        "print('7학년 outlier : {}명, {:.2f}%'.format(out_count_7,out_count_7/len(achievement7_norm)))\n",
        "achievement7_norm[achievement7_norm['outlier']==-1].describe()"
      ],
      "metadata": {
        "colab": {
          "base_uri": "https://localhost:8080/",
          "height": 319
        },
        "id": "8qINDf1NMOQM",
        "outputId": "988718cd-d27b-4694-ce0e-e2fe9e221291"
      },
      "execution_count": null,
      "outputs": [
        {
          "output_type": "stream",
          "name": "stdout",
          "text": [
            "7학년 outlier : 63명, 0.04%\n"
          ]
        },
        {
          "output_type": "execute_result",
          "data": {
            "text/html": [
              "<div>\n",
              "<style scoped>\n",
              "    .dataframe tbody tr th:only-of-type {\n",
              "        vertical-align: middle;\n",
              "    }\n",
              "\n",
              "    .dataframe tbody tr th {\n",
              "        vertical-align: top;\n",
              "    }\n",
              "\n",
              "    .dataframe thead th {\n",
              "        text-align: right;\n",
              "    }\n",
              "</style>\n",
              "<table border=\"1\" class=\"dataframe\">\n",
              "  <thead>\n",
              "    <tr style=\"text-align: right;\">\n",
              "      <th></th>\n",
              "      <th>mid1_acv</th>\n",
              "      <th>mid2_acv</th>\n",
              "      <th>mid3_acv</th>\n",
              "      <th>mid4_acv</th>\n",
              "      <th>mid5_acv</th>\n",
              "      <th>mid6_acv</th>\n",
              "      <th>mid8_acv</th>\n",
              "      <th>outlier</th>\n",
              "    </tr>\n",
              "  </thead>\n",
              "  <tbody>\n",
              "    <tr>\n",
              "      <th>count</th>\n",
              "      <td>63.000000</td>\n",
              "      <td>63.000000</td>\n",
              "      <td>63.000000</td>\n",
              "      <td>63.000000</td>\n",
              "      <td>63.000000</td>\n",
              "      <td>63.000000</td>\n",
              "      <td>63.000000</td>\n",
              "      <td>63.0</td>\n",
              "    </tr>\n",
              "    <tr>\n",
              "      <th>mean</th>\n",
              "      <td>0.419829</td>\n",
              "      <td>0.401173</td>\n",
              "      <td>0.373468</td>\n",
              "      <td>0.367750</td>\n",
              "      <td>0.417742</td>\n",
              "      <td>0.414344</td>\n",
              "      <td>0.382536</td>\n",
              "      <td>-1.0</td>\n",
              "    </tr>\n",
              "    <tr>\n",
              "      <th>std</th>\n",
              "      <td>0.023520</td>\n",
              "      <td>0.031458</td>\n",
              "      <td>0.025498</td>\n",
              "      <td>0.035252</td>\n",
              "      <td>0.017108</td>\n",
              "      <td>0.051168</td>\n",
              "      <td>0.072409</td>\n",
              "      <td>0.0</td>\n",
              "    </tr>\n",
              "    <tr>\n",
              "      <th>min</th>\n",
              "      <td>0.361391</td>\n",
              "      <td>0.374607</td>\n",
              "      <td>0.274675</td>\n",
              "      <td>0.265094</td>\n",
              "      <td>0.338068</td>\n",
              "      <td>0.244485</td>\n",
              "      <td>0.187500</td>\n",
              "      <td>-1.0</td>\n",
              "    </tr>\n",
              "    <tr>\n",
              "      <th>25%</th>\n",
              "      <td>0.402300</td>\n",
              "      <td>0.376664</td>\n",
              "      <td>0.368199</td>\n",
              "      <td>0.360235</td>\n",
              "      <td>0.412881</td>\n",
              "      <td>0.408655</td>\n",
              "      <td>0.390255</td>\n",
              "      <td>-1.0</td>\n",
              "    </tr>\n",
              "    <tr>\n",
              "      <th>50%</th>\n",
              "      <td>0.406040</td>\n",
              "      <td>0.397144</td>\n",
              "      <td>0.380000</td>\n",
              "      <td>0.373745</td>\n",
              "      <td>0.415872</td>\n",
              "      <td>0.424328</td>\n",
              "      <td>0.405688</td>\n",
              "      <td>-1.0</td>\n",
              "    </tr>\n",
              "    <tr>\n",
              "      <th>75%</th>\n",
              "      <td>0.437384</td>\n",
              "      <td>0.413790</td>\n",
              "      <td>0.388116</td>\n",
              "      <td>0.381106</td>\n",
              "      <td>0.426396</td>\n",
              "      <td>0.451424</td>\n",
              "      <td>0.418123</td>\n",
              "      <td>-1.0</td>\n",
              "    </tr>\n",
              "    <tr>\n",
              "      <th>max</th>\n",
              "      <td>0.523944</td>\n",
              "      <td>0.516667</td>\n",
              "      <td>0.396928</td>\n",
              "      <td>0.525000</td>\n",
              "      <td>0.477670</td>\n",
              "      <td>0.461463</td>\n",
              "      <td>0.443165</td>\n",
              "      <td>-1.0</td>\n",
              "    </tr>\n",
              "  </tbody>\n",
              "</table>\n",
              "</div>"
            ],
            "text/plain": [
              "        mid1_acv   mid2_acv   mid3_acv  ...   mid6_acv   mid8_acv  outlier\n",
              "count  63.000000  63.000000  63.000000  ...  63.000000  63.000000     63.0\n",
              "mean    0.419829   0.401173   0.373468  ...   0.414344   0.382536     -1.0\n",
              "std     0.023520   0.031458   0.025498  ...   0.051168   0.072409      0.0\n",
              "min     0.361391   0.374607   0.274675  ...   0.244485   0.187500     -1.0\n",
              "25%     0.402300   0.376664   0.368199  ...   0.408655   0.390255     -1.0\n",
              "50%     0.406040   0.397144   0.380000  ...   0.424328   0.405688     -1.0\n",
              "75%     0.437384   0.413790   0.388116  ...   0.451424   0.418123     -1.0\n",
              "max     0.523944   0.516667   0.396928  ...   0.461463   0.443165     -1.0\n",
              "\n",
              "[8 rows x 8 columns]"
            ]
          },
          "metadata": {},
          "execution_count": 63
        }
      ]
    },
    {
      "cell_type": "code",
      "source": [
        "# 8학년\n",
        "clf = LocalOutlierFactor()\n",
        "outlier_LOF_8= clf.fit_predict(achievement8_acv)\n",
        "\n",
        "achievement8_norm['outlier'] = outlier_LOF_8 # 1은 정상치, -1은 이상치\n",
        "out_count_8 = len(achievement8_norm[achievement8_norm['outlier']==-1].index)\n",
        "print('8학년 outlier : {}명, {:.2f}%'.format(out_count_8,out_count_8/len(achievement8_norm)))\n",
        "achievement8_norm[achievement8_norm['outlier']==-1].describe()"
      ],
      "metadata": {
        "colab": {
          "base_uri": "https://localhost:8080/",
          "height": 319
        },
        "id": "xl7KQAS1TVeh",
        "outputId": "8d854187-01fc-4429-fc2e-501f88e822df"
      },
      "execution_count": null,
      "outputs": [
        {
          "output_type": "stream",
          "name": "stdout",
          "text": [
            "8학년 outlier : 113명, 0.08%\n"
          ]
        },
        {
          "output_type": "execute_result",
          "data": {
            "text/html": [
              "<div>\n",
              "<style scoped>\n",
              "    .dataframe tbody tr th:only-of-type {\n",
              "        vertical-align: middle;\n",
              "    }\n",
              "\n",
              "    .dataframe tbody tr th {\n",
              "        vertical-align: top;\n",
              "    }\n",
              "\n",
              "    .dataframe thead th {\n",
              "        text-align: right;\n",
              "    }\n",
              "</style>\n",
              "<table border=\"1\" class=\"dataframe\">\n",
              "  <thead>\n",
              "    <tr style=\"text-align: right;\">\n",
              "      <th></th>\n",
              "      <th>mid1_acv</th>\n",
              "      <th>mid2_acv</th>\n",
              "      <th>mid3_acv</th>\n",
              "      <th>mid4_acv</th>\n",
              "      <th>mid5_acv</th>\n",
              "      <th>mid6_acv</th>\n",
              "      <th>mid7_acv</th>\n",
              "      <th>outlier</th>\n",
              "    </tr>\n",
              "  </thead>\n",
              "  <tbody>\n",
              "    <tr>\n",
              "      <th>count</th>\n",
              "      <td>113.000000</td>\n",
              "      <td>113.000000</td>\n",
              "      <td>113.000000</td>\n",
              "      <td>113.000000</td>\n",
              "      <td>113.000000</td>\n",
              "      <td>113.000000</td>\n",
              "      <td>113.000000</td>\n",
              "      <td>113.0</td>\n",
              "    </tr>\n",
              "    <tr>\n",
              "      <th>mean</th>\n",
              "      <td>0.425763</td>\n",
              "      <td>0.407010</td>\n",
              "      <td>0.347568</td>\n",
              "      <td>0.357621</td>\n",
              "      <td>0.400295</td>\n",
              "      <td>0.370439</td>\n",
              "      <td>0.408834</td>\n",
              "      <td>-1.0</td>\n",
              "    </tr>\n",
              "    <tr>\n",
              "      <th>std</th>\n",
              "      <td>0.017830</td>\n",
              "      <td>0.009946</td>\n",
              "      <td>0.031917</td>\n",
              "      <td>0.028460</td>\n",
              "      <td>0.028930</td>\n",
              "      <td>0.136993</td>\n",
              "      <td>0.044479</td>\n",
              "      <td>0.0</td>\n",
              "    </tr>\n",
              "    <tr>\n",
              "      <th>min</th>\n",
              "      <td>0.292500</td>\n",
              "      <td>0.342453</td>\n",
              "      <td>0.174138</td>\n",
              "      <td>0.194118</td>\n",
              "      <td>0.261151</td>\n",
              "      <td>0.000000</td>\n",
              "      <td>0.000000</td>\n",
              "      <td>-1.0</td>\n",
              "    </tr>\n",
              "    <tr>\n",
              "      <th>25%</th>\n",
              "      <td>0.423416</td>\n",
              "      <td>0.405994</td>\n",
              "      <td>0.355519</td>\n",
              "      <td>0.360080</td>\n",
              "      <td>0.399518</td>\n",
              "      <td>0.412500</td>\n",
              "      <td>0.404047</td>\n",
              "      <td>-1.0</td>\n",
              "    </tr>\n",
              "    <tr>\n",
              "      <th>50%</th>\n",
              "      <td>0.428842</td>\n",
              "      <td>0.406114</td>\n",
              "      <td>0.356230</td>\n",
              "      <td>0.363484</td>\n",
              "      <td>0.405776</td>\n",
              "      <td>0.431461</td>\n",
              "      <td>0.412215</td>\n",
              "      <td>-1.0</td>\n",
              "    </tr>\n",
              "    <tr>\n",
              "      <th>75%</th>\n",
              "      <td>0.432134</td>\n",
              "      <td>0.408954</td>\n",
              "      <td>0.358543</td>\n",
              "      <td>0.366203</td>\n",
              "      <td>0.416287</td>\n",
              "      <td>0.437288</td>\n",
              "      <td>0.429073</td>\n",
              "      <td>-1.0</td>\n",
              "    </tr>\n",
              "    <tr>\n",
              "      <th>max</th>\n",
              "      <td>0.472500</td>\n",
              "      <td>0.433755</td>\n",
              "      <td>0.369625</td>\n",
              "      <td>0.390533</td>\n",
              "      <td>0.430706</td>\n",
              "      <td>0.439655</td>\n",
              "      <td>0.452079</td>\n",
              "      <td>-1.0</td>\n",
              "    </tr>\n",
              "  </tbody>\n",
              "</table>\n",
              "</div>"
            ],
            "text/plain": [
              "         mid1_acv    mid2_acv    mid3_acv  ...    mid6_acv    mid7_acv  outlier\n",
              "count  113.000000  113.000000  113.000000  ...  113.000000  113.000000    113.0\n",
              "mean     0.425763    0.407010    0.347568  ...    0.370439    0.408834     -1.0\n",
              "std      0.017830    0.009946    0.031917  ...    0.136993    0.044479      0.0\n",
              "min      0.292500    0.342453    0.174138  ...    0.000000    0.000000     -1.0\n",
              "25%      0.423416    0.405994    0.355519  ...    0.412500    0.404047     -1.0\n",
              "50%      0.428842    0.406114    0.356230  ...    0.431461    0.412215     -1.0\n",
              "75%      0.432134    0.408954    0.358543  ...    0.437288    0.429073     -1.0\n",
              "max      0.472500    0.433755    0.369625  ...    0.439655    0.452079     -1.0\n",
              "\n",
              "[8 rows x 8 columns]"
            ]
          },
          "metadata": {},
          "execution_count": 64
        }
      ]
    },
    {
      "cell_type": "code",
      "source": [
        "# 9학년\n",
        "clf = LocalOutlierFactor()\n",
        "outlier_LOF_9= clf.fit_predict(achievement9_acv)\n",
        "\n",
        "achievement9_norm['outlier'] = outlier_LOF_9 # 1은 정상치, -1은 이상치\n",
        "out_count_9 = len(achievement9_norm[achievement9_norm['outlier']==-1].index)\n",
        "print('9학년 outlier : {}명, {:.2f}%'.format(out_count_9,out_count_9/len(achievement9_norm)))\n",
        "achievement9_norm[achievement9_norm['outlier']==-1].describe()"
      ],
      "metadata": {
        "colab": {
          "base_uri": "https://localhost:8080/",
          "height": 319
        },
        "id": "IhrbBrNVThd7",
        "outputId": "7ce4112e-0ed0-4992-80af-93a62192e2b9"
      },
      "execution_count": null,
      "outputs": [
        {
          "output_type": "stream",
          "name": "stdout",
          "text": [
            "9학년 outlier : 45명, 0.07%\n"
          ]
        },
        {
          "output_type": "execute_result",
          "data": {
            "text/html": [
              "<div>\n",
              "<style scoped>\n",
              "    .dataframe tbody tr th:only-of-type {\n",
              "        vertical-align: middle;\n",
              "    }\n",
              "\n",
              "    .dataframe tbody tr th {\n",
              "        vertical-align: top;\n",
              "    }\n",
              "\n",
              "    .dataframe thead th {\n",
              "        text-align: right;\n",
              "    }\n",
              "</style>\n",
              "<table border=\"1\" class=\"dataframe\">\n",
              "  <thead>\n",
              "    <tr style=\"text-align: right;\">\n",
              "      <th></th>\n",
              "      <th>mid1_acv</th>\n",
              "      <th>mid2_acv</th>\n",
              "      <th>mid3_acv</th>\n",
              "      <th>mid4_acv</th>\n",
              "      <th>mid5_acv</th>\n",
              "      <th>mid8_acv</th>\n",
              "      <th>outlier</th>\n",
              "    </tr>\n",
              "  </thead>\n",
              "  <tbody>\n",
              "    <tr>\n",
              "      <th>count</th>\n",
              "      <td>45.000000</td>\n",
              "      <td>45.000000</td>\n",
              "      <td>45.000000</td>\n",
              "      <td>45.000000</td>\n",
              "      <td>45.000000</td>\n",
              "      <td>45.000000</td>\n",
              "      <td>45.0</td>\n",
              "    </tr>\n",
              "    <tr>\n",
              "      <th>mean</th>\n",
              "      <td>0.367475</td>\n",
              "      <td>0.363340</td>\n",
              "      <td>0.354963</td>\n",
              "      <td>0.362932</td>\n",
              "      <td>0.360633</td>\n",
              "      <td>0.358978</td>\n",
              "      <td>-1.0</td>\n",
              "    </tr>\n",
              "    <tr>\n",
              "      <th>std</th>\n",
              "      <td>0.039062</td>\n",
              "      <td>0.034215</td>\n",
              "      <td>0.042443</td>\n",
              "      <td>0.028923</td>\n",
              "      <td>0.059981</td>\n",
              "      <td>0.072508</td>\n",
              "      <td>0.0</td>\n",
              "    </tr>\n",
              "    <tr>\n",
              "      <th>min</th>\n",
              "      <td>0.144375</td>\n",
              "      <td>0.178448</td>\n",
              "      <td>0.100000</td>\n",
              "      <td>0.222727</td>\n",
              "      <td>0.000000</td>\n",
              "      <td>0.000000</td>\n",
              "      <td>-1.0</td>\n",
              "    </tr>\n",
              "    <tr>\n",
              "      <th>25%</th>\n",
              "      <td>0.375729</td>\n",
              "      <td>0.357706</td>\n",
              "      <td>0.358455</td>\n",
              "      <td>0.364145</td>\n",
              "      <td>0.364979</td>\n",
              "      <td>0.334615</td>\n",
              "      <td>-1.0</td>\n",
              "    </tr>\n",
              "    <tr>\n",
              "      <th>50%</th>\n",
              "      <td>0.379195</td>\n",
              "      <td>0.360663</td>\n",
              "      <td>0.366879</td>\n",
              "      <td>0.371298</td>\n",
              "      <td>0.370916</td>\n",
              "      <td>0.366327</td>\n",
              "      <td>-1.0</td>\n",
              "    </tr>\n",
              "    <tr>\n",
              "      <th>75%</th>\n",
              "      <td>0.381330</td>\n",
              "      <td>0.366322</td>\n",
              "      <td>0.368765</td>\n",
              "      <td>0.376212</td>\n",
              "      <td>0.382751</td>\n",
              "      <td>0.374831</td>\n",
              "      <td>-1.0</td>\n",
              "    </tr>\n",
              "    <tr>\n",
              "      <th>max</th>\n",
              "      <td>0.393239</td>\n",
              "      <td>0.426136</td>\n",
              "      <td>0.384305</td>\n",
              "      <td>0.398905</td>\n",
              "      <td>0.395507</td>\n",
              "      <td>0.550000</td>\n",
              "      <td>-1.0</td>\n",
              "    </tr>\n",
              "  </tbody>\n",
              "</table>\n",
              "</div>"
            ],
            "text/plain": [
              "        mid1_acv   mid2_acv   mid3_acv  ...   mid5_acv   mid8_acv  outlier\n",
              "count  45.000000  45.000000  45.000000  ...  45.000000  45.000000     45.0\n",
              "mean    0.367475   0.363340   0.354963  ...   0.360633   0.358978     -1.0\n",
              "std     0.039062   0.034215   0.042443  ...   0.059981   0.072508      0.0\n",
              "min     0.144375   0.178448   0.100000  ...   0.000000   0.000000     -1.0\n",
              "25%     0.375729   0.357706   0.358455  ...   0.364979   0.334615     -1.0\n",
              "50%     0.379195   0.360663   0.366879  ...   0.370916   0.366327     -1.0\n",
              "75%     0.381330   0.366322   0.368765  ...   0.382751   0.374831     -1.0\n",
              "max     0.393239   0.426136   0.384305  ...   0.395507   0.550000     -1.0\n",
              "\n",
              "[8 rows x 7 columns]"
            ]
          },
          "metadata": {},
          "execution_count": 65
        }
      ]
    },
    {
      "cell_type": "markdown",
      "source": [
        "### 이상치 포함) K-means분석"
      ],
      "metadata": {
        "id": "kw1WTQalTfxK"
      }
    },
    {
      "cell_type": "code",
      "source": [
        "range_n_clusters = [3, 4, 5]\n",
        "\n",
        "print(\"7학년의 K-means 분석결과\")\n",
        "for n_clusters in range_n_clusters:\n",
        "    clusterer = KMeans(n_clusters=n_clusters, random_state=10)\n",
        "    cluster_labels = clusterer.fit_predict(achievement7_acv)\n",
        "    silhouette_avg = silhouette_score(achievement7_acv, cluster_labels)\n",
        "    print(\n",
        "        \"For n_clusters =\",\n",
        "        n_clusters,\n",
        "        \"The average silhouette_score is :\",\n",
        "        silhouette_avg,\n",
        "    )\n",
        "\n",
        "print(\"8학년의 K-means 분석결과\")\n",
        "for n_clusters in range_n_clusters:\n",
        "    clusterer = KMeans(n_clusters=n_clusters, random_state=10)\n",
        "    cluster_labels = clusterer.fit_predict(achievement8_acv)\n",
        "    silhouette_avg = silhouette_score(achievement8_acv, cluster_labels)\n",
        "    print(\n",
        "        \"For n_clusters =\",\n",
        "        n_clusters,\n",
        "        \"The average silhouette_score is :\",\n",
        "        silhouette_avg,\n",
        "    )\n",
        "\n",
        "\n",
        "print(\"9학년의 K-means 분석결과\")\n",
        "X = achievement9_norm.iloc[:,1:-1]\n",
        "for n_clusters in range_n_clusters:\n",
        "    clusterer = KMeans(n_clusters=n_clusters, random_state=10)\n",
        "    cluster_labels = clusterer.fit_predict(achievement9_acv)\n",
        "    silhouette_avg = silhouette_score(achievement9_acv, cluster_labels)\n",
        "    print(\n",
        "        \"For n_clusters =\",\n",
        "        n_clusters,\n",
        "        \"The average silhouette_score is :\",\n",
        "        silhouette_avg,\n",
        "    )"
      ],
      "metadata": {
        "colab": {
          "base_uri": "https://localhost:8080/"
        },
        "id": "tnTdDf4cYFD3",
        "outputId": "3242b0de-e785-491c-bbbc-e31daf7cbce6"
      },
      "execution_count": null,
      "outputs": [
        {
          "output_type": "stream",
          "name": "stdout",
          "text": [
            "7학년의 K-means 분석결과\n",
            "For n_clusters = 3 The average silhouette_score is : 0.5476729397746533\n",
            "For n_clusters = 4 The average silhouette_score is : 0.5614819302741383\n",
            "For n_clusters = 5 The average silhouette_score is : 0.5746539486657485\n",
            "8학년의 K-means 분석결과\n",
            "For n_clusters = 3 The average silhouette_score is : 0.8153099702827209\n",
            "For n_clusters = 4 The average silhouette_score is : 0.5244622742054114\n",
            "For n_clusters = 5 The average silhouette_score is : 0.5421133986492269\n",
            "9학년의 K-means 분석결과\n",
            "For n_clusters = 3 The average silhouette_score is : 0.6650281419417904\n",
            "For n_clusters = 4 The average silhouette_score is : 0.6704268246212897\n",
            "For n_clusters = 5 The average silhouette_score is : 0.44905017839273176\n"
          ]
        }
      ]
    },
    {
      "cell_type": "code",
      "source": [
        "# 분석결과를 바탕으로 각 학년 클러스터링\n",
        "# 실루엣계수가 가장 높은기준에 따라 7학년 k=5, 8학년 k=3, 9학년 k=4\n",
        "\n",
        "clusterer = KMeans(n_clusters=5, random_state=10)\n",
        "cluster_labels = clusterer.fit_predict(achievement7_acv)\n",
        "achievement7_norm['cluster_kmeans'] =  cluster_labels\n",
        "\n",
        "clusterer = KMeans(n_clusters=3, random_state=10)\n",
        "cluster_labels = clusterer.fit_predict(achievement8_acv)\n",
        "achievement8_norm['cluster_kmeans'] =  cluster_labels\n",
        "\n",
        "clusterer = KMeans(n_clusters=4, random_state=10)\n",
        "cluster_labels = clusterer.fit_predict(achievement9_acv)\n",
        "achievement9_norm['cluster_kmeans'] =  cluster_labels"
      ],
      "metadata": {
        "id": "7eppGi7AdPjk"
      },
      "execution_count": null,
      "outputs": []
    },
    {
      "cell_type": "markdown",
      "source": [
        "### 이상치 제외) K-means분석"
      ],
      "metadata": {
        "id": "dtYYs96cb-zo"
      }
    },
    {
      "cell_type": "code",
      "source": [
        "range_n_clusters = [3, 4, 5]\n",
        "\n",
        "print(\"7학년의 K-means 분석결과(이상치 제외)\")\n",
        "X = achievement7_norm[achievement7_norm['outlier']==1].iloc[:,1:-1]\n",
        "for n_clusters in range_n_clusters:\n",
        "    clusterer = KMeans(n_clusters=n_clusters, random_state=10)\n",
        "    cluster_labels = clusterer.fit_predict(X)\n",
        "    silhouette_avg = silhouette_score(X, cluster_labels)\n",
        "    print(\n",
        "        \"For n_clusters =\",\n",
        "        n_clusters,\n",
        "        \"The average silhouette_score is :\",\n",
        "        silhouette_avg,\n",
        "    )\n",
        "\n",
        "\n",
        "print(\"8학년의 K-means 분석결과(이상치 제외)\")\n",
        "X = achievement8_norm[achievement8_norm['outlier']==1].iloc[:,1:-1]\n",
        "for n_clusters in range_n_clusters:\n",
        "    clusterer = KMeans(n_clusters=n_clusters, random_state=10)\n",
        "    cluster_labels = clusterer.fit_predict(X)\n",
        "    silhouette_avg = silhouette_score(X, cluster_labels)\n",
        "    print(\n",
        "        \"For n_clusters =\",\n",
        "        n_clusters,\n",
        "        \"The average silhouette_score is :\",\n",
        "        silhouette_avg,\n",
        "    )\n",
        "\n",
        "\n",
        "print(\"9학년의 K-means 분석결과(이상치 제외)\")\n",
        "X = achievement9_norm[achievement9_norm['outlier']==1].iloc[:,1:-1]\n",
        "for n_clusters in range_n_clusters:\n",
        "    clusterer = KMeans(n_clusters=n_clusters, random_state=10)\n",
        "    cluster_labels = clusterer.fit_predict(X)\n",
        "    silhouette_avg = silhouette_score(X, cluster_labels)\n",
        "    print(\n",
        "        \"For n_clusters =\",\n",
        "        n_clusters,\n",
        "        \"The average silhouette_score is :\",\n",
        "        silhouette_avg,\n",
        "    )\n",
        "\n",
        "# 각 실루엣 계수는 이상치 제외 전에 비해 소폭 상승"
      ],
      "metadata": {
        "colab": {
          "base_uri": "https://localhost:8080/"
        },
        "outputId": "e6479cb3-2a5b-4f96-c95a-eb97bc754753",
        "id": "BCdKk2u3b-zq"
      },
      "execution_count": null,
      "outputs": [
        {
          "output_type": "stream",
          "name": "stdout",
          "text": [
            "7학년의 K-means 분석결과(이상치 제외)\n",
            "For n_clusters = 3 The average silhouette_score is : 0.5499327209434333\n",
            "For n_clusters = 4 The average silhouette_score is : 0.5783306183191801\n",
            "For n_clusters = 5 The average silhouette_score is : 0.5046745589993946\n",
            "8학년의 K-means 분석결과(이상치 제외)\n",
            "For n_clusters = 3 The average silhouette_score is : 0.8240560561088304\n",
            "For n_clusters = 4 The average silhouette_score is : 0.5353936912375425\n",
            "For n_clusters = 5 The average silhouette_score is : 0.5476025064496639\n",
            "9학년의 K-means 분석결과(이상치 제외)\n",
            "For n_clusters = 3 The average silhouette_score is : 0.7061051402943723\n",
            "For n_clusters = 4 The average silhouette_score is : 0.4883021733261966\n",
            "For n_clusters = 5 The average silhouette_score is : 0.4973638868591719\n"
          ]
        }
      ]
    },
    {
      "cell_type": "code",
      "source": [
        "import warnings\n",
        "warnings.filterwarnings('ignore')"
      ],
      "metadata": {
        "id": "bcIA4wors4Mk"
      },
      "execution_count": null,
      "outputs": []
    },
    {
      "cell_type": "code",
      "source": [
        "# 분석결과를 바탕으로 각 학년 클러스터링\n",
        "# 실루엣계수가 가장 높은기준에 따라 7학년 k=4, 8학년 k=3, 9학년 k=3\n",
        "achievement7_norm_except = achievement7_norm[achievement7_norm['outlier']==1]\n",
        "clusterer = KMeans(n_clusters=4, random_state=10)\n",
        "cluster_labels = clusterer.fit_predict(achievement7_norm_except.iloc[:,1:-1])\n",
        "achievement7_norm_except['cluster_kmeans_except_OL'] =  cluster_labels\n",
        "achievement7_norm = achievement7_norm.merge(achievement7_norm_except[['learnerID','cluster_kmeans_except_OL']],how='left',on='learnerID').fillna(9)\n",
        "\n",
        "achievement8_norm_except = achievement8_norm[achievement8_norm['outlier']==1]\n",
        "clusterer = KMeans(n_clusters=3, random_state=10)\n",
        "cluster_labels = clusterer.fit_predict(achievement8_norm_except.iloc[:,1:-1])\n",
        "achievement8_norm_except['cluster_kmeans_except_OL'] =  cluster_labels\n",
        "achievement8_norm = achievement8_norm.merge(achievement8_norm_except[['learnerID','cluster_kmeans_except_OL']],how='left',on='learnerID').fillna(9)\n",
        "\n",
        "\n",
        "achievement9_norm_except = achievement9_norm[achievement9_norm['outlier']==1]\n",
        "clusterer = KMeans(n_clusters=3, random_state=10)\n",
        "cluster_labels = clusterer.fit_predict(achievement9_norm_except.iloc[:,1:-1])\n",
        "achievement9_norm_except['cluster_kmeans_except_OL'] =  cluster_labels\n",
        "achievement9_norm = achievement9_norm.merge(achievement9_norm_except[['learnerID','cluster_kmeans_except_OL']],how='left',on='learnerID').fillna(9)"
      ],
      "metadata": {
        "id": "6YtSs5QKeJDY"
      },
      "execution_count": null,
      "outputs": []
    },
    {
      "cell_type": "markdown",
      "source": [
        "### 이상치 포함) KMedoids 분석"
      ],
      "metadata": {
        "id": "qvc3D0KTs4ib"
      }
    },
    {
      "cell_type": "code",
      "source": [
        "! pip install scikit-learn-extra\n",
        "\n",
        "from sklearn_extra.cluster import KMedoids"
      ],
      "metadata": {
        "colab": {
          "base_uri": "https://localhost:8080/"
        },
        "id": "4uNyg9eFs4ib",
        "outputId": "fc86a116-d4f2-4282-806a-2cf836c2fa6d"
      },
      "execution_count": null,
      "outputs": [
        {
          "output_type": "stream",
          "name": "stdout",
          "text": [
            "Collecting scikit-learn-extra\n",
            "  Downloading scikit_learn_extra-0.2.0-cp37-cp37m-manylinux2010_x86_64.whl (1.7 MB)\n",
            "\u001b[?25l\r\u001b[K     |▏                               | 10 kB 31.0 MB/s eta 0:00:01\r\u001b[K     |▍                               | 20 kB 37.6 MB/s eta 0:00:01\r\u001b[K     |▋                               | 30 kB 29.1 MB/s eta 0:00:01\r\u001b[K     |▊                               | 40 kB 25.5 MB/s eta 0:00:01\r\u001b[K     |█                               | 51 kB 15.0 MB/s eta 0:00:01\r\u001b[K     |█▏                              | 61 kB 12.1 MB/s eta 0:00:01\r\u001b[K     |█▍                              | 71 kB 13.4 MB/s eta 0:00:01\r\u001b[K     |█▌                              | 81 kB 14.7 MB/s eta 0:00:01\r\u001b[K     |█▊                              | 92 kB 15.3 MB/s eta 0:00:01\r\u001b[K     |██                              | 102 kB 12.2 MB/s eta 0:00:01\r\u001b[K     |██                              | 112 kB 12.2 MB/s eta 0:00:01\r\u001b[K     |██▎                             | 122 kB 12.2 MB/s eta 0:00:01\r\u001b[K     |██▌                             | 133 kB 12.2 MB/s eta 0:00:01\r\u001b[K     |██▊                             | 143 kB 12.2 MB/s eta 0:00:01\r\u001b[K     |██▉                             | 153 kB 12.2 MB/s eta 0:00:01\r\u001b[K     |███                             | 163 kB 12.2 MB/s eta 0:00:01\r\u001b[K     |███▎                            | 174 kB 12.2 MB/s eta 0:00:01\r\u001b[K     |███▌                            | 184 kB 12.2 MB/s eta 0:00:01\r\u001b[K     |███▋                            | 194 kB 12.2 MB/s eta 0:00:01\r\u001b[K     |███▉                            | 204 kB 12.2 MB/s eta 0:00:01\r\u001b[K     |████                            | 215 kB 12.2 MB/s eta 0:00:01\r\u001b[K     |████▏                           | 225 kB 12.2 MB/s eta 0:00:01\r\u001b[K     |████▍                           | 235 kB 12.2 MB/s eta 0:00:01\r\u001b[K     |████▋                           | 245 kB 12.2 MB/s eta 0:00:01\r\u001b[K     |████▉                           | 256 kB 12.2 MB/s eta 0:00:01\r\u001b[K     |█████                           | 266 kB 12.2 MB/s eta 0:00:01\r\u001b[K     |█████▏                          | 276 kB 12.2 MB/s eta 0:00:01\r\u001b[K     |█████▍                          | 286 kB 12.2 MB/s eta 0:00:01\r\u001b[K     |█████▋                          | 296 kB 12.2 MB/s eta 0:00:01\r\u001b[K     |█████▊                          | 307 kB 12.2 MB/s eta 0:00:01\r\u001b[K     |██████                          | 317 kB 12.2 MB/s eta 0:00:01\r\u001b[K     |██████▏                         | 327 kB 12.2 MB/s eta 0:00:01\r\u001b[K     |██████▎                         | 337 kB 12.2 MB/s eta 0:00:01\r\u001b[K     |██████▌                         | 348 kB 12.2 MB/s eta 0:00:01\r\u001b[K     |██████▊                         | 358 kB 12.2 MB/s eta 0:00:01\r\u001b[K     |███████                         | 368 kB 12.2 MB/s eta 0:00:01\r\u001b[K     |███████                         | 378 kB 12.2 MB/s eta 0:00:01\r\u001b[K     |███████▎                        | 389 kB 12.2 MB/s eta 0:00:01\r\u001b[K     |███████▌                        | 399 kB 12.2 MB/s eta 0:00:01\r\u001b[K     |███████▋                        | 409 kB 12.2 MB/s eta 0:00:01\r\u001b[K     |███████▉                        | 419 kB 12.2 MB/s eta 0:00:01\r\u001b[K     |████████                        | 430 kB 12.2 MB/s eta 0:00:01\r\u001b[K     |████████▎                       | 440 kB 12.2 MB/s eta 0:00:01\r\u001b[K     |████████▍                       | 450 kB 12.2 MB/s eta 0:00:01\r\u001b[K     |████████▋                       | 460 kB 12.2 MB/s eta 0:00:01\r\u001b[K     |████████▉                       | 471 kB 12.2 MB/s eta 0:00:01\r\u001b[K     |█████████                       | 481 kB 12.2 MB/s eta 0:00:01\r\u001b[K     |█████████▏                      | 491 kB 12.2 MB/s eta 0:00:01\r\u001b[K     |█████████▍                      | 501 kB 12.2 MB/s eta 0:00:01\r\u001b[K     |█████████▋                      | 512 kB 12.2 MB/s eta 0:00:01\r\u001b[K     |█████████▊                      | 522 kB 12.2 MB/s eta 0:00:01\r\u001b[K     |██████████                      | 532 kB 12.2 MB/s eta 0:00:01\r\u001b[K     |██████████▏                     | 542 kB 12.2 MB/s eta 0:00:01\r\u001b[K     |██████████▍                     | 552 kB 12.2 MB/s eta 0:00:01\r\u001b[K     |██████████▌                     | 563 kB 12.2 MB/s eta 0:00:01\r\u001b[K     |██████████▊                     | 573 kB 12.2 MB/s eta 0:00:01\r\u001b[K     |███████████                     | 583 kB 12.2 MB/s eta 0:00:01\r\u001b[K     |███████████▏                    | 593 kB 12.2 MB/s eta 0:00:01\r\u001b[K     |███████████▎                    | 604 kB 12.2 MB/s eta 0:00:01\r\u001b[K     |███████████▌                    | 614 kB 12.2 MB/s eta 0:00:01\r\u001b[K     |███████████▊                    | 624 kB 12.2 MB/s eta 0:00:01\r\u001b[K     |███████████▉                    | 634 kB 12.2 MB/s eta 0:00:01\r\u001b[K     |████████████                    | 645 kB 12.2 MB/s eta 0:00:01\r\u001b[K     |████████████▎                   | 655 kB 12.2 MB/s eta 0:00:01\r\u001b[K     |████████████▌                   | 665 kB 12.2 MB/s eta 0:00:01\r\u001b[K     |████████████▋                   | 675 kB 12.2 MB/s eta 0:00:01\r\u001b[K     |████████████▉                   | 686 kB 12.2 MB/s eta 0:00:01\r\u001b[K     |█████████████                   | 696 kB 12.2 MB/s eta 0:00:01\r\u001b[K     |█████████████▏                  | 706 kB 12.2 MB/s eta 0:00:01\r\u001b[K     |█████████████▍                  | 716 kB 12.2 MB/s eta 0:00:01\r\u001b[K     |█████████████▋                  | 727 kB 12.2 MB/s eta 0:00:01\r\u001b[K     |█████████████▉                  | 737 kB 12.2 MB/s eta 0:00:01\r\u001b[K     |██████████████                  | 747 kB 12.2 MB/s eta 0:00:01\r\u001b[K     |██████████████▏                 | 757 kB 12.2 MB/s eta 0:00:01\r\u001b[K     |██████████████▍                 | 768 kB 12.2 MB/s eta 0:00:01\r\u001b[K     |██████████████▋                 | 778 kB 12.2 MB/s eta 0:00:01\r\u001b[K     |██████████████▊                 | 788 kB 12.2 MB/s eta 0:00:01\r\u001b[K     |███████████████                 | 798 kB 12.2 MB/s eta 0:00:01\r\u001b[K     |███████████████▏                | 808 kB 12.2 MB/s eta 0:00:01\r\u001b[K     |███████████████▎                | 819 kB 12.2 MB/s eta 0:00:01\r\u001b[K     |███████████████▌                | 829 kB 12.2 MB/s eta 0:00:01\r\u001b[K     |███████████████▊                | 839 kB 12.2 MB/s eta 0:00:01\r\u001b[K     |████████████████                | 849 kB 12.2 MB/s eta 0:00:01\r\u001b[K     |████████████████                | 860 kB 12.2 MB/s eta 0:00:01\r\u001b[K     |████████████████▎               | 870 kB 12.2 MB/s eta 0:00:01\r\u001b[K     |████████████████▌               | 880 kB 12.2 MB/s eta 0:00:01\r\u001b[K     |████████████████▊               | 890 kB 12.2 MB/s eta 0:00:01\r\u001b[K     |████████████████▉               | 901 kB 12.2 MB/s eta 0:00:01\r\u001b[K     |█████████████████               | 911 kB 12.2 MB/s eta 0:00:01\r\u001b[K     |█████████████████▎              | 921 kB 12.2 MB/s eta 0:00:01\r\u001b[K     |█████████████████▍              | 931 kB 12.2 MB/s eta 0:00:01\r\u001b[K     |█████████████████▋              | 942 kB 12.2 MB/s eta 0:00:01\r\u001b[K     |█████████████████▉              | 952 kB 12.2 MB/s eta 0:00:01\r\u001b[K     |██████████████████              | 962 kB 12.2 MB/s eta 0:00:01\r\u001b[K     |██████████████████▏             | 972 kB 12.2 MB/s eta 0:00:01\r\u001b[K     |██████████████████▍             | 983 kB 12.2 MB/s eta 0:00:01\r\u001b[K     |██████████████████▋             | 993 kB 12.2 MB/s eta 0:00:01\r\u001b[K     |██████████████████▊             | 1.0 MB 12.2 MB/s eta 0:00:01\r\u001b[K     |███████████████████             | 1.0 MB 12.2 MB/s eta 0:00:01\r\u001b[K     |███████████████████▏            | 1.0 MB 12.2 MB/s eta 0:00:01\r\u001b[K     |███████████████████▍            | 1.0 MB 12.2 MB/s eta 0:00:01\r\u001b[K     |███████████████████▌            | 1.0 MB 12.2 MB/s eta 0:00:01\r\u001b[K     |███████████████████▊            | 1.1 MB 12.2 MB/s eta 0:00:01\r\u001b[K     |████████████████████            | 1.1 MB 12.2 MB/s eta 0:00:01\r\u001b[K     |████████████████████▏           | 1.1 MB 12.2 MB/s eta 0:00:01\r\u001b[K     |████████████████████▎           | 1.1 MB 12.2 MB/s eta 0:00:01\r\u001b[K     |████████████████████▌           | 1.1 MB 12.2 MB/s eta 0:00:01\r\u001b[K     |████████████████████▊           | 1.1 MB 12.2 MB/s eta 0:00:01\r\u001b[K     |████████████████████▉           | 1.1 MB 12.2 MB/s eta 0:00:01\r\u001b[K     |█████████████████████           | 1.1 MB 12.2 MB/s eta 0:00:01\r\u001b[K     |█████████████████████▎          | 1.1 MB 12.2 MB/s eta 0:00:01\r\u001b[K     |█████████████████████▌          | 1.1 MB 12.2 MB/s eta 0:00:01\r\u001b[K     |█████████████████████▋          | 1.2 MB 12.2 MB/s eta 0:00:01\r\u001b[K     |█████████████████████▉          | 1.2 MB 12.2 MB/s eta 0:00:01\r\u001b[K     |██████████████████████          | 1.2 MB 12.2 MB/s eta 0:00:01\r\u001b[K     |██████████████████████▎         | 1.2 MB 12.2 MB/s eta 0:00:01\r\u001b[K     |██████████████████████▍         | 1.2 MB 12.2 MB/s eta 0:00:01\r\u001b[K     |██████████████████████▋         | 1.2 MB 12.2 MB/s eta 0:00:01\r\u001b[K     |██████████████████████▉         | 1.2 MB 12.2 MB/s eta 0:00:01\r\u001b[K     |███████████████████████         | 1.2 MB 12.2 MB/s eta 0:00:01\r\u001b[K     |███████████████████████▏        | 1.2 MB 12.2 MB/s eta 0:00:01\r\u001b[K     |███████████████████████▍        | 1.2 MB 12.2 MB/s eta 0:00:01\r\u001b[K     |███████████████████████▋        | 1.3 MB 12.2 MB/s eta 0:00:01\r\u001b[K     |███████████████████████▊        | 1.3 MB 12.2 MB/s eta 0:00:01\r\u001b[K     |████████████████████████        | 1.3 MB 12.2 MB/s eta 0:00:01\r\u001b[K     |████████████████████████▏       | 1.3 MB 12.2 MB/s eta 0:00:01\r\u001b[K     |████████████████████████▎       | 1.3 MB 12.2 MB/s eta 0:00:01\r\u001b[K     |████████████████████████▌       | 1.3 MB 12.2 MB/s eta 0:00:01\r\u001b[K     |████████████████████████▊       | 1.3 MB 12.2 MB/s eta 0:00:01\r\u001b[K     |█████████████████████████       | 1.3 MB 12.2 MB/s eta 0:00:01\r\u001b[K     |█████████████████████████       | 1.3 MB 12.2 MB/s eta 0:00:01\r\u001b[K     |█████████████████████████▎      | 1.4 MB 12.2 MB/s eta 0:00:01\r\u001b[K     |█████████████████████████▌      | 1.4 MB 12.2 MB/s eta 0:00:01\r\u001b[K     |█████████████████████████▊      | 1.4 MB 12.2 MB/s eta 0:00:01\r\u001b[K     |█████████████████████████▉      | 1.4 MB 12.2 MB/s eta 0:00:01\r\u001b[K     |██████████████████████████      | 1.4 MB 12.2 MB/s eta 0:00:01\r\u001b[K     |██████████████████████████▎     | 1.4 MB 12.2 MB/s eta 0:00:01\r\u001b[K     |██████████████████████████▍     | 1.4 MB 12.2 MB/s eta 0:00:01\r\u001b[K     |██████████████████████████▋     | 1.4 MB 12.2 MB/s eta 0:00:01\r\u001b[K     |██████████████████████████▉     | 1.4 MB 12.2 MB/s eta 0:00:01\r\u001b[K     |███████████████████████████     | 1.4 MB 12.2 MB/s eta 0:00:01\r\u001b[K     |███████████████████████████▏    | 1.5 MB 12.2 MB/s eta 0:00:01\r\u001b[K     |███████████████████████████▍    | 1.5 MB 12.2 MB/s eta 0:00:01\r\u001b[K     |███████████████████████████▋    | 1.5 MB 12.2 MB/s eta 0:00:01\r\u001b[K     |███████████████████████████▉    | 1.5 MB 12.2 MB/s eta 0:00:01\r\u001b[K     |████████████████████████████    | 1.5 MB 12.2 MB/s eta 0:00:01\r\u001b[K     |████████████████████████████▏   | 1.5 MB 12.2 MB/s eta 0:00:01\r\u001b[K     |████████████████████████████▍   | 1.5 MB 12.2 MB/s eta 0:00:01\r\u001b[K     |████████████████████████████▌   | 1.5 MB 12.2 MB/s eta 0:00:01\r\u001b[K     |████████████████████████████▊   | 1.5 MB 12.2 MB/s eta 0:00:01\r\u001b[K     |█████████████████████████████   | 1.5 MB 12.2 MB/s eta 0:00:01\r\u001b[K     |█████████████████████████████▏  | 1.6 MB 12.2 MB/s eta 0:00:01\r\u001b[K     |█████████████████████████████▎  | 1.6 MB 12.2 MB/s eta 0:00:01\r\u001b[K     |█████████████████████████████▌  | 1.6 MB 12.2 MB/s eta 0:00:01\r\u001b[K     |█████████████████████████████▊  | 1.6 MB 12.2 MB/s eta 0:00:01\r\u001b[K     |█████████████████████████████▉  | 1.6 MB 12.2 MB/s eta 0:00:01\r\u001b[K     |██████████████████████████████  | 1.6 MB 12.2 MB/s eta 0:00:01\r\u001b[K     |██████████████████████████████▎ | 1.6 MB 12.2 MB/s eta 0:00:01\r\u001b[K     |██████████████████████████████▌ | 1.6 MB 12.2 MB/s eta 0:00:01\r\u001b[K     |██████████████████████████████▋ | 1.6 MB 12.2 MB/s eta 0:00:01\r\u001b[K     |██████████████████████████████▉ | 1.6 MB 12.2 MB/s eta 0:00:01\r\u001b[K     |███████████████████████████████ | 1.7 MB 12.2 MB/s eta 0:00:01\r\u001b[K     |███████████████████████████████▎| 1.7 MB 12.2 MB/s eta 0:00:01\r\u001b[K     |███████████████████████████████▍| 1.7 MB 12.2 MB/s eta 0:00:01\r\u001b[K     |███████████████████████████████▋| 1.7 MB 12.2 MB/s eta 0:00:01\r\u001b[K     |███████████████████████████████▉| 1.7 MB 12.2 MB/s eta 0:00:01\r\u001b[K     |████████████████████████████████| 1.7 MB 12.2 MB/s eta 0:00:01\r\u001b[K     |████████████████████████████████| 1.7 MB 12.2 MB/s \n",
            "\u001b[?25hRequirement already satisfied: numpy>=1.13.3 in /usr/local/lib/python3.7/dist-packages (from scikit-learn-extra) (1.19.5)\n",
            "Requirement already satisfied: scipy>=0.19.1 in /usr/local/lib/python3.7/dist-packages (from scikit-learn-extra) (1.4.1)\n",
            "Requirement already satisfied: scikit-learn>=0.23.0 in /usr/local/lib/python3.7/dist-packages (from scikit-learn-extra) (1.0.1)\n",
            "Requirement already satisfied: joblib>=0.11 in /usr/local/lib/python3.7/dist-packages (from scikit-learn>=0.23.0->scikit-learn-extra) (1.1.0)\n",
            "Requirement already satisfied: threadpoolctl>=2.0.0 in /usr/local/lib/python3.7/dist-packages (from scikit-learn>=0.23.0->scikit-learn-extra) (3.0.0)\n",
            "Installing collected packages: scikit-learn-extra\n",
            "Successfully installed scikit-learn-extra-0.2.0\n"
          ]
        }
      ]
    },
    {
      "cell_type": "code",
      "source": [
        "range_n_clusters = [3, 4, 5]\n",
        "\n",
        "print(\"7학년의 KMedoids 분석결과\")\n",
        "for n_clusters in range_n_clusters:\n",
        "    clusterer = KMedoids(n_clusters=n_clusters, random_state=10)\n",
        "    cluster_labels = clusterer.fit_predict(achievement7_acv)\n",
        "    silhouette_avg = silhouette_score(achievement7_acv, cluster_labels)\n",
        "    print(\n",
        "        \"For n_clusters =\",\n",
        "        n_clusters,\n",
        "        \"The average silhouette_score is :\",\n",
        "        silhouette_avg,\n",
        "    )\n",
        "\n",
        "print(\"8학년의 KMedoids 분석결과\")\n",
        "for n_clusters in range_n_clusters:\n",
        "    clusterer = KMedoids(n_clusters=n_clusters, random_state=10)\n",
        "    cluster_labels = clusterer.fit_predict(achievement8_acv)\n",
        "    silhouette_avg = silhouette_score(achievement8_acv, cluster_labels)\n",
        "    print(\n",
        "        \"For n_clusters =\",\n",
        "        n_clusters,\n",
        "        \"The average silhouette_score is :\",\n",
        "        silhouette_avg,\n",
        "    )\n",
        "\n",
        "\n",
        "print(\"9학년의 KMedoids 분석결과\")\n",
        "X = achievement9_norm.iloc[:,1:-1]\n",
        "for n_clusters in range_n_clusters:\n",
        "    clusterer = KMedoids(n_clusters=n_clusters, random_state=10)\n",
        "    cluster_labels = clusterer.fit_predict(achievement9_acv)\n",
        "    silhouette_avg = silhouette_score(achievement9_acv, cluster_labels)\n",
        "    print(\n",
        "        \"For n_clusters =\",\n",
        "        n_clusters,\n",
        "        \"The average silhouette_score is :\",\n",
        "        silhouette_avg,\n",
        "    )"
      ],
      "metadata": {
        "colab": {
          "base_uri": "https://localhost:8080/"
        },
        "outputId": "aaa67061-46cb-4b64-ff45-c0807f51da8f",
        "id": "-S708hTos4ib"
      },
      "execution_count": null,
      "outputs": [
        {
          "output_type": "stream",
          "name": "stdout",
          "text": [
            "7학년의 KMedoids 분석결과\n",
            "For n_clusters = 3 The average silhouette_score is : 0.4216480536585297\n",
            "For n_clusters = 4 The average silhouette_score is : 0.3881708906167141\n",
            "For n_clusters = 5 The average silhouette_score is : 0.3070908291081778\n",
            "8학년의 KMedoids 분석결과\n",
            "For n_clusters = 3 The average silhouette_score is : -0.083316037754765\n",
            "For n_clusters = 4 The average silhouette_score is : 0.4106197703804209\n",
            "For n_clusters = 5 The average silhouette_score is : 0.44991533938192346\n",
            "9학년의 KMedoids 분석결과\n",
            "For n_clusters = 3 The average silhouette_score is : 0.395128094808755\n",
            "For n_clusters = 4 The average silhouette_score is : 0.34335677647391655\n",
            "For n_clusters = 5 The average silhouette_score is : 0.31860821492939845\n"
          ]
        }
      ]
    },
    {
      "cell_type": "code",
      "source": [
        "# 분석결과를 바탕으로 각 학년 클러스터링\n",
        "# 실루엣계수가 가장 높은기준에 따라 7학년 k=3, 8학년 k=5, 9학년 k=3\n",
        "\n",
        "clusterer = KMedoids(n_clusters=3, random_state=10)\n",
        "cluster_labels = clusterer.fit_predict(achievement7_acv)\n",
        "achievement7_norm['cluster_KMedoids'] =  cluster_labels\n",
        "\n",
        "clusterer = KMedoids(n_clusters=5, random_state=10)\n",
        "cluster_labels = clusterer.fit_predict(achievement8_acv)\n",
        "achievement8_norm['cluster_KMedoids'] =  cluster_labels\n",
        "\n",
        "clusterer = KMedoids(n_clusters=3, random_state=10)\n",
        "cluster_labels = clusterer.fit_predict(achievement9_acv)\n",
        "achievement9_norm['cluster_KMedoids'] =  cluster_labels"
      ],
      "metadata": {
        "id": "Pw0I5KWjs4ic"
      },
      "execution_count": null,
      "outputs": []
    },
    {
      "cell_type": "markdown",
      "source": [
        "### 이상치 제외) KMedoids 분석"
      ],
      "metadata": {
        "id": "JTCsbLU-s4ic"
      }
    },
    {
      "cell_type": "code",
      "source": [
        "range_n_clusters = [3, 4, 5]\n",
        "\n",
        "print(\"7학년의 KMedoids 분석결과(이상치 제외)\")\n",
        "X = achievement7_norm[achievement7_norm['outlier']==1].iloc[:,1:-1]\n",
        "for n_clusters in range_n_clusters:\n",
        "    clusterer = KMedoids(n_clusters=n_clusters, random_state=10)\n",
        "    cluster_labels = clusterer.fit_predict(X)\n",
        "    silhouette_avg = silhouette_score(X, cluster_labels)\n",
        "    print(\n",
        "        \"For n_clusters =\",\n",
        "        n_clusters,\n",
        "        \"The average silhouette_score is :\",\n",
        "        silhouette_avg,\n",
        "    )\n",
        "\n",
        "\n",
        "print(\"8학년의 KMedoids 분석결과(이상치 제외)\")\n",
        "X = achievement8_norm[achievement8_norm['outlier']==1].iloc[:,1:-1]\n",
        "for n_clusters in range_n_clusters:\n",
        "    clusterer = KMedoids(n_clusters=n_clusters, random_state=10)\n",
        "    cluster_labels = clusterer.fit_predict(X)\n",
        "    silhouette_avg = silhouette_score(X, cluster_labels)\n",
        "    print(\n",
        "        \"For n_clusters =\",\n",
        "        n_clusters,\n",
        "        \"The average silhouette_score is :\",\n",
        "        silhouette_avg,\n",
        "    )\n",
        "\n",
        "\n",
        "print(\"9학년의 KMedoids 분석결과(이상치 제외)\")\n",
        "X = achievement9_norm[achievement9_norm['outlier']==1].iloc[:,1:-1]\n",
        "for n_clusters in range_n_clusters:\n",
        "    clusterer = KMedoids(n_clusters=n_clusters, random_state=10)\n",
        "    cluster_labels = clusterer.fit_predict(X)\n",
        "    silhouette_avg = silhouette_score(X, cluster_labels)\n",
        "    print(\n",
        "        \"For n_clusters =\",\n",
        "        n_clusters,\n",
        "        \"The average silhouette_score is :\",\n",
        "        silhouette_avg,\n",
        "    )\n",
        "\n",
        "# 각 실루엣 계수는 이상치 제외 전에 비해 소폭 상승"
      ],
      "metadata": {
        "colab": {
          "base_uri": "https://localhost:8080/"
        },
        "outputId": "f84f868c-510d-4bfc-cbdc-40970784360a",
        "id": "JOTmqwJXs4ic"
      },
      "execution_count": null,
      "outputs": [
        {
          "output_type": "stream",
          "name": "stdout",
          "text": [
            "7학년의 KMedoids 분석결과(이상치 제외)\n",
            "For n_clusters = 3 The average silhouette_score is : 0.5931925664487459\n",
            "For n_clusters = 4 The average silhouette_score is : 0.7556865333966867\n",
            "For n_clusters = 5 The average silhouette_score is : 0.5646656604869558\n",
            "8학년의 KMedoids 분석결과(이상치 제외)\n",
            "For n_clusters = 3 The average silhouette_score is : 0.6173884635718752\n",
            "For n_clusters = 4 The average silhouette_score is : 0.8131387552969134\n",
            "For n_clusters = 5 The average silhouette_score is : 0.7297426264073993\n",
            "9학년의 KMedoids 분석결과(이상치 제외)\n",
            "For n_clusters = 3 The average silhouette_score is : 0.7636146142564927\n",
            "For n_clusters = 4 The average silhouette_score is : 0.2830612871639557\n",
            "For n_clusters = 5 The average silhouette_score is : 0.6871374155569293\n"
          ]
        }
      ]
    },
    {
      "cell_type": "code",
      "source": [
        "# 분석결과를 바탕으로 각 학년 클러스터링\n",
        "# 실루엣계수가 가장 높은기준에 따라 7학년 k=4, 8학년 k=4, 9학년 k=3\n",
        "achievement7_norm_except = achievement7_norm[achievement7_norm['outlier']==1]\n",
        "clusterer = KMedoids(n_clusters=4, random_state=10)\n",
        "cluster_labels = clusterer.fit_predict(achievement7_norm_except.iloc[:,1:-1])\n",
        "achievement7_norm_except['cluster_KMedoids_except_OL'] =  cluster_labels\n",
        "achievement7_norm = achievement7_norm.merge(achievement7_norm_except[['learnerID','cluster_KMedoids_except_OL']],how='left',on='learnerID').fillna(9)\n",
        "\n",
        "achievement8_norm_except = achievement8_norm[achievement8_norm['outlier']==1]\n",
        "clusterer = KMedoids(n_clusters=4, random_state=10)\n",
        "cluster_labels = clusterer.fit_predict(achievement8_norm_except.iloc[:,1:-1])\n",
        "achievement8_norm_except['cluster_KMedoids_except_OL'] =  cluster_labels\n",
        "achievement8_norm = achievement8_norm.merge(achievement8_norm_except[['learnerID','cluster_KMedoids_except_OL']],how='left',on='learnerID').fillna(9)\n",
        "\n",
        "\n",
        "achievement9_norm_except = achievement9_norm[achievement9_norm['outlier']==1]\n",
        "clusterer = KMedoids(n_clusters=3, random_state=10)\n",
        "cluster_labels = clusterer.fit_predict(achievement9_norm_except.iloc[:,1:-1])\n",
        "achievement9_norm_except['cluster_KMedoids_except_OL'] =  cluster_labels\n",
        "achievement9_norm = achievement9_norm.merge(achievement9_norm_except[['learnerID','cluster_KMedoids_except_OL']],how='left',on='learnerID').fillna(9)"
      ],
      "metadata": {
        "id": "2szg0JL4s4ic"
      },
      "execution_count": null,
      "outputs": []
    },
    {
      "cell_type": "code",
      "source": [
        "achievement9_norm.columns"
      ],
      "metadata": {
        "colab": {
          "base_uri": "https://localhost:8080/"
        },
        "id": "6xtDnboPs4id",
        "outputId": "4a10c2cc-6bcc-457e-d085-ce26173a4c2a"
      },
      "execution_count": null,
      "outputs": [
        {
          "output_type": "execute_result",
          "data": {
            "text/plain": [
              "Index(['learnerID', 'mid1_acv', 'mid2_acv', 'mid3_acv', 'mid4_acv', 'mid5_acv',\n",
              "       'mid8_acv', 'outlier', 'cluster_kmeans', 'cluster_kmeans_except_OL_x',\n",
              "       'cluster_kmeans_except_OL_y', 'cluster_KMedoids',\n",
              "       'cluster_KMedoids_except_OL_x', 'comp1', 'comp2', 'comp3',\n",
              "       'cluster_kmeans_except_OL', 'cluster_KMedoids_except_OL_y'],\n",
              "      dtype='object')"
            ]
          },
          "metadata": {},
          "execution_count": 85
        }
      ]
    },
    {
      "cell_type": "markdown",
      "source": [
        "# 결과 시각화"
      ],
      "metadata": {
        "id": "SWLRoCKpvHDC"
      }
    },
    {
      "cell_type": "code",
      "source": [
        "# 시각화를 하기 위하여 각 주요개념들을 3차원에 투영\n",
        "df_list3 = [achievement7_norm,achievement8_norm,achievement9_norm]\n",
        "df_list4 = [achievement7_acv,achievement8_acv,achievement9_acv]\n",
        "\n",
        "for i in range(3) :\n",
        "  pca = PCA(n_components=3) # 주성분을 몇개로 할지 결정\n",
        "  printcipalComponents = pca.fit_transform(df_list4[i])\n",
        "  principalDf = pd.DataFrame(data=printcipalComponents, columns = ['comp1', 'comp2','comp3'])\n",
        "  df_list3[i]['comp1'] = principalDf['comp1']\n",
        "  df_list3[i]['comp2'] = principalDf['comp2']\n",
        "  df_list3[i]['comp3'] = principalDf['comp3']"
      ],
      "metadata": {
        "id": "UOysU0SUvJvy"
      },
      "execution_count": null,
      "outputs": []
    },
    {
      "cell_type": "code",
      "source": [
        "df_list3 = [achievement7_norm,achievement8_norm,achievement9_norm]\n",
        "col_list = ['cluster_kmeans','cluster_kmeans_except_OL',\n",
        "            'cluster_KMedoids','cluster_KMedoids_except_OL']\n",
        "\n",
        "for df in df_list3:\n",
        "  for col in col_list:\n",
        "    print(df[col].value_counts())"
      ],
      "metadata": {
        "colab": {
          "base_uri": "https://localhost:8080/"
        },
        "id": "wxOs6eXZv6Iz",
        "outputId": "d19c3c88-8295-4e9a-f962-e692e74cee67"
      },
      "execution_count": null,
      "outputs": [
        {
          "output_type": "stream",
          "name": "stdout",
          "text": [
            "2    932\n",
            "0    623\n",
            "3     52\n",
            "1     40\n",
            "4      8\n",
            "Name: cluster_kmeans, dtype: int64\n",
            "1.0    541\n",
            "3.0    428\n",
            "2.0    367\n",
            "0.0    256\n",
            "9.0     63\n",
            "Name: cluster_kmeans_except_OL, dtype: int64\n",
            "4    411\n",
            "3    396\n",
            "0    311\n",
            "2    273\n",
            "1    264\n",
            "Name: cluster_KMedoids, dtype: int64\n",
            "3.0    544\n",
            "0.0    454\n",
            "1.0    338\n",
            "2.0    256\n",
            "9.0     63\n",
            "Name: cluster_KMedoids_except_OL, dtype: int64\n",
            "0    1215\n",
            "2     143\n",
            "1     106\n",
            "Name: cluster_kmeans, dtype: int64\n",
            "1.0    584\n",
            "0.0    534\n",
            "2.0    233\n",
            "9.0    113\n",
            "Name: cluster_kmeans_except_OL, dtype: int64\n",
            "3    577\n",
            "0    349\n",
            "1    289\n",
            "4    143\n",
            "2    106\n",
            "Name: cluster_KMedoids, dtype: int64\n",
            "0.0    534\n",
            "2.0    392\n",
            "1.0    233\n",
            "3.0    192\n",
            "9.0    113\n",
            "Name: cluster_KMedoids_except_OL, dtype: int64\n",
            "1    527\n",
            "0     72\n",
            "3     19\n",
            "2      1\n",
            "Name: cluster_kmeans, dtype: int64\n",
            "1.0    297\n",
            "0.0    213\n",
            "2.0     64\n",
            "9.0     45\n",
            "Name: cluster_kmeans_except_OL, dtype: int64\n",
            "1    332\n",
            "2    204\n",
            "0     83\n",
            "Name: cluster_KMedoids, dtype: int64\n",
            "1.0    297\n",
            "2.0    213\n",
            "0.0     64\n",
            "9.0     45\n",
            "Name: cluster_KMedoids_except_OL, dtype: int64\n"
          ]
        }
      ]
    },
    {
      "cell_type": "code",
      "source": [
        "df_list3 = [achievement7_norm, achievement8_norm, achievement9_norm]\n",
        "col_list = ['cluster_kmeans', 'cluster_kmeans_except_OL',\n",
        "            'cluster_KMedoids','cluster_KMedoids_except_OL']\n",
        "\n",
        "num = 0\n",
        "for i in range(3) :\n",
        "  for j in range(4) :\n",
        "    df = df_list3[i]\n",
        "    method = col_list[j]\n",
        "    num += 1\n",
        "    fig = plt.figure(figsize=(15,15))\n",
        "    ax = fig.add_subplot(4, 3, num, projection='3d')\n",
        "    ax.scatter(df['comp1'], df['comp2'],df['comp3'],c=df[method], marker='o',s=3)\n",
        "\n",
        "plt.show()"
      ],
      "metadata": {
        "colab": {
          "base_uri": "https://localhost:8080/",
          "height": 1000
        },
        "id": "Nw9v_-a4zjT9",
        "outputId": "5e033904-63e1-4817-f696-031f259a07aa"
      },
      "execution_count": null,
      "outputs": [
        {
          "output_type": "display_data",
          "data": {
            "image/png": "[encoded data removed]",
            "text/plain": [
              "<Figure size 1080x1080 with 1 Axes>"
            ]
          },
          "metadata": {
            "needs_background": "light"
          }
        },
        {
          "output_type": "display_data",
          "data": {
            "image/png": "[encoded data removed]",
            "text/plain": [
              "<Figure size 1080x1080 with 1 Axes>"
            ]
          },
          "metadata": {
            "needs_background": "light"
          }
        },
        {
          "output_type": "display_data",
          "data": {
            "image/png": "[encoded data removed]",
            "text/plain": [
              "<Figure size 1080x1080 with 1 Axes>"
            ]
          },
          "metadata": {
            "needs_background": "light"
          }
        },
        {
          "output_type": "display_data",
          "data": {
            "image/png": "[encoded data removed]",
            "text/plain": [
              "<Figure size 1080x1080 with 1 Axes>"
            ]
          },
          "metadata": {
            "needs_background": "light"
          }
        },
        {
          "output_type": "display_data",
          "data": {
            "image/png": "[encoded data removed]",
            "text/plain": [
              "<Figure size 1080x1080 with 1 Axes>"
            ]
          },
          "metadata": {
            "needs_background": "light"
          }
        },
        {
          "output_type": "display_data",
          "data": {
            "image/png": "[encoded data removed]",
            "text/plain": [
              "<Figure size 1080x1080 with 1 Axes>"
            ]
          },
          "metadata": {
            "needs_background": "light"
          }
        },
        {
          "output_type": "display_data",
          "data": {
            "image/png": "[encoded data removed]",
            "text/plain": [
              "<Figure size 1080x1080 with 1 Axes>"
            ]
          },
          "metadata": {
            "needs_background": "light"
          }
        },
        {
          "output_type": "display_data",
          "data": {
            "image/png": "[encoded data removed]",
            "text/plain": [
              "<Figure size 1080x1080 with 1 Axes>"
            ]
          },
          "metadata": {
            "needs_background": "light"
          }
        },
        {
          "output_type": "display_data",
          "data": {
            "image/png": "[encoded data removed]",
            "text/plain": [
              "<Figure size 1080x1080 with 1 Axes>"
            ]
          },
          "metadata": {
            "needs_background": "light"
          }
        },
        {
          "output_type": "display_data",
          "data": {
            "image/png": "[encoded data removed]",
            "text/plain": [
              "<Figure size 1080x1080 with 1 Axes>"
            ]
          },
          "metadata": {
            "needs_background": "light"
          }
        },
        {
          "output_type": "display_data",
          "data": {
            "image/png": "[encoded data removed]",
            "text/plain": [
              "<Figure size 1080x1080 with 1 Axes>"
            ]
          },
          "metadata": {
            "needs_background": "light"
          }
        },
        {
          "output_type": "display_data",
          "data": {
            "image/png": "[encoded data removed]",
            "text/plain": [
              "<Figure size 1080x1080 with 1 Axes>"
            ]
          },
          "metadata": {
            "needs_background": "light"
          }
        }
      ]
    }
  ]
}